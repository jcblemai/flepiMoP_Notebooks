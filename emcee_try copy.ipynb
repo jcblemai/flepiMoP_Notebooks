{
 "cells": [
  {
   "cell_type": "code",
   "execution_count": 1,
   "id": "c4c74234-90f5-463e-a685-ff9cf7620953",
   "metadata": {
    "ExecuteTime": {
     "end_time": "2023-11-20T10:04:39.274921Z",
     "start_time": "2023-11-20T10:04:37.320752Z"
    },
    "execution": {
     "iopub.execute_input": "2023-05-04T14:52:29.916947Z",
     "iopub.status.busy": "2023-05-04T14:52:29.916341Z",
     "iopub.status.idle": "2023-05-04T14:52:37.018295Z",
     "shell.execute_reply": "2023-05-04T14:52:37.017535Z",
     "shell.execute_reply.started": "2023-05-04T14:52:29.916917Z"
    },
    "tags": []
   },
   "outputs": [],
   "source": [
    "import gempyor\n",
    "import numpy as np\n",
    "import pandas as pd\n",
    "import matplotlib.pyplot as plt\n",
    "import datetime\n",
    "import glob, os, sys, re, shutil\n",
    "from pathlib import Path\n",
    "\n",
    "# import seaborn as sns\n",
    "import matplotlib._color_data as mcd\n",
    "import pyarrow.parquet as pq\n",
    "import click\n",
    "import subprocess\n",
    "import dask.dataframe as dd\n",
    "import matplotlib.dates as mdates\n",
    "import matplotlib.cbook as cbook\n",
    "from matplotlib.backends.backend_pdf import PdfPages\n",
    "\n",
    "import os\n",
    "import multiprocessing as mp\n",
    "import pandas as pd\n",
    "import pyarrow.parquet as pq\n",
    "from gempyor import config, model_info, outcomes, seir\n",
    "\n",
    "\n",
    "data_dir = \"RSV_USA/\"\n",
    "import os\n",
    "os.chdir(data_dir)\n",
    "data_dir = \".\"  # necessary for now for time serie parameters !!! fixme "
   ]
  },
  {
   "cell_type": "code",
   "execution_count": 2,
   "id": "a1901dfc",
   "metadata": {
    "ExecuteTime": {
     "end_time": "2023-11-20T10:04:42.665397Z",
     "start_time": "2023-11-20T10:04:42.643557Z"
    }
   },
   "outputs": [
    {
     "name": "stderr",
     "output_type": "stream",
     "text": [
      "CRITICAL:root:No mobility matrix specified -- assuming no one moves\n"
     ]
    },
    {
     "name": "stdout",
     "output_type": "stream",
     "text": [
      "config_rsv_simplified_inference_v3_MD.yml\n"
     ]
    }
   ],
   "source": [
    "config_path = f\"config_rsv_simplified_inference_v3_MD.yml\"\n",
    "run_id = \"config_rsv_simplified_inference_v3_MD.yml\"\n",
    "\n",
    "config.clear()\n",
    "config.read(user=False)\n",
    "config.set_file(config_path)\n",
    "print(config_path)\n",
    "\n",
    "\n",
    "seir_modifiers_scenario=\"none\"\n",
    "outcome_modifiers_scenario=\"IHRadj\"\n",
    "\n",
    "in_run_id = run_id\n",
    "out_run_id = in_run_id\n",
    "in_prefix = \"emcee\"\n",
    "\n",
    "out_prefix = in_prefix\n",
    "\n",
    "write_csv = False\n",
    "write_parquet = True\n",
    "modinf = model_info.ModelInfo(\n",
    "    config=config,\n",
    "    nslots=1,\n",
    "    seir_modifiers_scenario=seir_modifiers_scenario,\n",
    "    outcome_modifiers_scenario=outcome_modifiers_scenario,\n",
    "    write_csv=write_csv,\n",
    "    write_parquet=write_parquet,\n",
    "    first_sim_index=1,\n",
    "    in_run_id=in_run_id,\n",
    "    in_prefix=in_prefix,\n",
    "    inference_filename_prefix=\"no\",\n",
    "    inference_filepath_suffix=\"no\",\n",
    "    out_run_id=out_run_id,\n",
    "    out_prefix=out_prefix,\n",
    "    stoch_traj_flag=False,\n",
    ")"
   ]
  },
  {
   "cell_type": "code",
   "execution_count": 3,
   "id": "627eb93d",
   "metadata": {
    "ExecuteTime": {
     "end_time": "2023-11-20T10:07:08.627459Z",
     "start_time": "2023-11-20T10:07:08.573119Z"
    }
   },
   "outputs": [
    {
     "name": "stdout",
     "output_type": "stream",
     "text": [
      "SEIR MODIFIERS\n",
      " >> Ro_mod has perturbation, recording\n",
      " >> covid_mod has perturbation, recording\n",
      " >> omicron_mod has perturbation, recording\n",
      " >> seas_amp_mod has perturbation, recording\n",
      " >> seas_offset_mod has perturbation, recording\n",
      "OUTCOMES MODIFIERS\n",
      " >> IHRadj has perturbation, recording\n"
     ]
    }
   ],
   "source": [
    "# find what to perturb\n",
    "\n",
    "\n",
    "fitted_params = {\n",
    "    \"ptype\":[],\n",
    "    \"pname\":[],\n",
    "    \"pdist\":[],\n",
    "    \"ub\":[],\n",
    "    \"lb\":[],\n",
    "}\n",
    "n_params=0\n",
    "\n",
    "print(\"SEIR MODIFIERS\")\n",
    "for npi in gempyor.config[\"seir_modifiers\"][\"modifiers\"].get():\n",
    "    if gempyor.config[\"seir_modifiers\"][\"modifiers\"][npi][\"perturbation\"].exists():\n",
    "        c = config[\"seir_modifiers\"][\"modifiers\"][npi]\n",
    "        fitted_params[\"ptype\"].append(\"snpi\")\n",
    "        fitted_params[\"pname\"].append(npi)\n",
    "        fitted_params[\"pdist\"].append(c[\"value\"].as_random_distribution())\n",
    "        fitted_params[\"lb\"].append(c[\"value\"][\"a\"].get())\n",
    "        fitted_params[\"ub\"].append(c[\"value\"][\"b\"].get())\n",
    "        print(f\" >> {npi} has perturbation, recording\")\n",
    "        n_params+=len(modinf.subpop_struct.subpop_names)\n",
    "        \n",
    "print(\"OUTCOMES MODIFIERS\")   \n",
    "for npi in gempyor.config[\"outcome_modifiers\"][\"modifiers\"].get():\n",
    "    if gempyor.config[\"outcome_modifiers\"][\"modifiers\"][npi][\"perturbation\"].exists():\n",
    "        c = config[\"outcome_modifiers\"][\"modifiers\"][npi]\n",
    "        fitted_params[\"ptype\"].append(\"hnpi\")\n",
    "        fitted_params[\"pname\"].append(npi)\n",
    "        fitted_params[\"pdist\"].append(c[\"value\"].as_random_distribution())\n",
    "        fitted_params[\"lb\"].append(c[\"value\"][\"a\"].get())\n",
    "        fitted_params[\"ub\"].append(c[\"value\"][\"b\"].get())\n",
    "        print(f\" >> {npi} has perturbation, recording\")\n",
    "        n_params+=len(modinf.subpop_struct.subpop_names)"
   ]
  },
  {
   "cell_type": "code",
   "execution_count": 9,
   "id": "0654218e",
   "metadata": {},
   "outputs": [],
   "source": [
    "# Find the ground-truth\n",
    "gt = pd.read_csv(f\"{data_dir}/\"+gempyor.config[\"inference\"][\"gt_data_path\"].get())\n",
    "# gt\n",
    "statistics = {}\n",
    "# # Ingoring agreegation and all, assuming by weekP\n",
    "for stat in gempyor.config[\"inference\"][\"statistics\"]:\n",
    "    statistics[gempyor.config[\"inference\"][\"statistics\"][stat][\"sim_var\"].get()] = gempyor.config[\"inference\"][\"statistics\"][stat][\"data_var\"].get()\n",
    "statistics\n",
    "gt = gempyor.read_df(gempyor.config[\"inference\"][\"gt_data_path\"].get())\n",
    "gt[\"date\"]= pd.to_datetime(gt['date'])\n",
    "gt = gt.set_index(\"date\")"
   ]
  },
  {
   "cell_type": "markdown",
   "id": "824ffa08",
   "metadata": {},
   "source": [
    "## Create the first gempyor object"
   ]
  },
  {
   "cell_type": "code",
   "execution_count": 4,
   "id": "ee2b5b3a",
   "metadata": {},
   "outputs": [
    {
     "name": "stderr",
     "output_type": "stream",
     "text": [
      "INFO:root:[SEIR.compartments] completed in 1.16 s\n",
      "INFO:root:[Outcome.structure] completed in 0.00 s\n",
      "INFO:root:[SEIR.NPI] completed in 0.12 s\n",
      "INFO:root:[Outcomes.Modifiers] completed in 0.02 s\n",
      "/Users/chadi/Research/FlepiMoP_Projects/flepiMoP/flepimop/gempyor_pkg/src/gempyor/seeding_ic.py:492: FutureWarning: Calling float on a single element Series is deprecated and will raise a TypeError in the future. Use float(ser.iloc[0]) instead\n",
      "  y0[comp_idx, pl_idx] = float(ic_df_compartment_val)\n",
      "INFO:root:Integrating with method rk4.jit\n",
      "13819it [00:23, 579.47it/s]\n"
     ]
    }
   ],
   "source": [
    "\n",
    "print(\"MAKING A TEST RUN TO GET SETUP\")\n",
    "(\n",
    "    unique_strings,\n",
    "    transition_array,\n",
    "    proportion_array,\n",
    "    proportion_info,\n",
    ") = modinf.compartments.get_transition_array()\n",
    "\n",
    "outcomes_parameters = outcomes.read_parameters_from_config(modinf)\n",
    "\n",
    "\n",
    "npi_seir = seir.build_npi_SEIR(\n",
    "    modinf=modinf, load_ID=False, sim_id2load=None, config=config\n",
    ")\n",
    "if modinf.npi_config_outcomes:\n",
    "    npi_outcomes = outcomes.build_outcome_modifiers(\n",
    "                modinf=modinf,\n",
    "                load_ID=False,\n",
    "                sim_id2load=None,\n",
    "                config=config,\n",
    "            )\n",
    "\n",
    "p_draw = modinf.parameters.parameters_quick_draw(\n",
    "                n_days=modinf.n_days, nsubpops=modinf.nsubpops\n",
    "            )\n",
    "\n",
    "initial_conditions = modinf.initial_conditions.draw(sim_id=0, setup=modinf)\n",
    "seeding_data, seeding_amounts = modinf.seeding.draw(sim_id=0, setup=modinf)\n",
    "\n",
    "\n",
    "\n",
    "# reduce them\n",
    "parameters = modinf.parameters.parameters_reduce(p_draw, npi_seir)\n",
    "        # Parse them\n",
    "parsed_parameters = modinf.compartments.parse_parameters(\n",
    "    parameters, modinf.parameters.pnames, unique_strings\n",
    ")\n",
    "\n",
    "states = seir.steps_SEIR(\n",
    "    modinf,\n",
    "    parsed_parameters,\n",
    "    transition_array,\n",
    "    proportion_array,\n",
    "    proportion_info,\n",
    "    initial_conditions,\n",
    "    seeding_data,\n",
    "    seeding_amounts,\n",
    ")\n",
    "\n",
    "seir_out_df_ref = seir.postprocess_and_write(\n",
    "    0, modinf, states, p_draw, npi_seir, seeding_data\n",
    ")\n",
    "snpi_df_ref = npi_seir.getReductionDF()\n",
    "\n",
    "outcomes_df, hpar_df = outcomes.compute_all_multioutcomes(\n",
    "    modinf=modinf,\n",
    "    sim_id2write=0,\n",
    "    parameters=outcomes_parameters,\n",
    "    loaded_values=None,\n",
    "    npi=npi_outcomes,\n",
    "    bypass_seir=seir_out_df_ref\n",
    ")\n",
    "outcomes_df_ref, hpar_ref, hnpi_df_ref = outcomes.postprocess_and_write(\n",
    "    sim_id=0,\n",
    "    modinf=modinf,\n",
    "    outcomes_df=outcomes_df,\n",
    "    hpar=hpar_df,\n",
    "    npi=npi_outcomes,\n",
    ")\n",
    "print(\"TEST RUN IS DONE\")"
   ]
  },
  {
   "cell_type": "code",
   "execution_count": 7,
   "id": "dbe222cd",
   "metadata": {},
   "outputs": [
    {
     "ename": "SyntaxError",
     "evalue": "unmatched ')' (170123325.py, line 66)",
     "output_type": "error",
     "traceback": [
      "\u001b[0;36m  Cell \u001b[0;32mIn[7], line 66\u001b[0;36m\u001b[0m\n\u001b[0;31m    log_loss += sum(np.log(model_df_s[key]-gt_s[value])**2))\u001b[0m\n\u001b[0m                                                           ^\u001b[0m\n\u001b[0;31mSyntaxError\u001b[0m\u001b[0;31m:\u001b[0m unmatched ')'\n"
     ]
    }
   ],
   "source": [
    "def run_simulation(snpi_df_in, hnpi_df_in):\n",
    "    npi_seir = seir.build_npi_SEIR(\n",
    "        modinf=modinf, load_ID=False, sim_id2load=None, config=config, \n",
    "        bypass_DF=snpi_df_in\n",
    "    )\n",
    "    if modinf.npi_config_outcomes:\n",
    "        npi_outcomes = outcomes.build_outcome_modifiers(\n",
    "                    modinf=modinf,\n",
    "                    load_ID=False,\n",
    "                    sim_id2load=None,\n",
    "                    config=config,\n",
    "                    bypass_DF=hnpi_df_in\n",
    "                )\n",
    "        \n",
    "\n",
    "    # reduce them\n",
    "    parameters = modinf.parameters.parameters_reduce(p_draw, npi_seir)\n",
    "            # Parse them\n",
    "    parsed_parameters = modinf.compartments.parse_parameters(\n",
    "        parameters, modinf.parameters.pnames, unique_strings\n",
    "    )\n",
    "\n",
    "    states = seir.steps_SEIR(\n",
    "        modinf,\n",
    "        parsed_parameters,\n",
    "        transition_array,\n",
    "        proportion_array,\n",
    "        proportion_info,\n",
    "        initial_conditions,\n",
    "        seeding_data,\n",
    "        seeding_amounts,\n",
    "    )\n",
    "\n",
    "    seir_out_df = seir.postprocess_and_write(\n",
    "        0, modinf, states, p_draw, npi_seir, seeding_data\n",
    "    )\n",
    "\n",
    "    outcomes_df, hpar_df = outcomes.compute_all_multioutcomes(\n",
    "        modinf=modinf,\n",
    "        sim_id2write=0,\n",
    "        parameters=outcomes_parameters,\n",
    "        loaded_values=None,\n",
    "        npi=npi_outcomes,\n",
    "        bypass_seir=seir_out_df\n",
    "    )\n",
    "    outcomes_df, hpar, hnpi = outcomes.postprocess_and_write(\n",
    "        sim_id=0,\n",
    "        modinf=modinf,\n",
    "        outcomes_df=outcomes_df,\n",
    "        hpar=hpar_df,\n",
    "        npi=npi_outcomes,\n",
    "    )\n",
    "    outcomes_df = outcomes_df.set_index(\"date\")\n",
    "\n",
    "    return outcomes_df\n",
    "\n",
    "\n",
    "def compute_likelyhood(model_df, gt):\n",
    "    log_loss = 0\n",
    "    for subpop in modinf.subpop_struct.subpop_names:\n",
    "        gt_s = gt[gt[\"subpop\"]==subpop].loc[modinf.ti:modinf.tf].drop([\"subpop\"],axis=1).resample(\"W-SAT\").sum()\n",
    "        model_df_s = model_df[model_df[\"subpop\"]==subpop].drop([\"subpop\",\"time\"],axis=1).loc[min(gt_s.index):max(gt_s.index)].resample(\"W-SAT\").sum() # todo sub subpop here\n",
    "        for key, value in statistics.items():\n",
    "            assert model_df_s[key].shape == gt_s[value].shape\n",
    "            log_loss += sum(np.log((model_df_s[key]-gt_s[value])**2))\n",
    "\n",
    "    return log_loss\n",
    "\n",
    "\n",
    "def check_in_bounds(proposal):\n",
    "    proposal = np.random.random(len(fitted_params[\"ptype\"]))*1.5\n",
    "    if (proposal < fitted_params[\"lb\"]).any() or (proposal > fitted_params[\"ub\"]).any():\n",
    "        return False\n",
    "    return True\n"
   ]
  },
  {
   "cell_type": "code",
   "execution_count": null,
   "id": "cc74f067",
   "metadata": {},
   "outputs": [],
   "source": [
    "if False:\n",
    "    outcomes_df = run_simulation(snpi_df_in=snpi_df_ref, hnpi_df_in=hnpi_df_ref)\n",
    "    outcomes_df_ref.set_index(\"date\")[\"incidH\"].plot(lw=2, c='k')\n",
    "    outcomes_df.set_index(\"date\")[\"incidH\"].plot(lw=1, c='r')"
   ]
  },
  {
   "cell_type": "code",
   "execution_count": null,
   "id": "be5575b8",
   "metadata": {},
   "outputs": [],
   "source": [
    "def get_log_prob(proposal):\n",
    "    if not check_in_bounds(proposal=proposal):\n",
    "        return np.inf\n",
    "    \n",
    "    snpi_df_mod = snpi_df_ref.copy(deep=True)\n",
    "    hnpi_df_mod = hnpi_df_ref.copy(deep=True)\n",
    "\n",
    "    for i in range(n_params):\n",
    "        if fitted_params[\"ptype\"][i] == \"snpi\":\n",
    "            snpi_df_mod.loc[snpi_df_mod[\"npi_name\"] == fitted_params[\"pname\"][i],\"reduction\"] = proposal[i]\n",
    "        elif fitted_params[\"ptype\"][i] == \"hnpi\":\n",
    "            hnpi_df_mod.loc[hnpi_df_mod[\"npi_name\"] == fitted_params[\"pname\"][i],\"reduction\"] = proposal[i]\n",
    "\n",
    "    outcomes_df = run_simulation(snpi_df_in=snpi_df_mod, hnpi_df_in=hnpi_df_mod)\n",
    "\n",
    "    llik = compute_likelyhood(model_df=outcomes_df, gt=gt)\n",
    "\n",
    "    return llik\n",
    "\n"
   ]
  },
  {
   "cell_type": "code",
   "execution_count": null,
   "id": "6a774c27",
   "metadata": {},
   "outputs": [],
   "source": [
    "proposal = np.random.random(size=n_params)\n",
    "print(get_log_prob(proposal))"
   ]
  },
  {
   "cell_type": "code",
   "execution_count": null,
   "id": "76738408",
   "metadata": {},
   "outputs": [],
   "source": [
    "proposal = np.random.random(size=n_params)*2\n",
    "print(get_log_prob(proposal))"
   ]
  }
 ],
 "metadata": {
  "kernelspec": {
   "display_name": "base",
   "language": "python",
   "name": "python3"
  },
  "language_info": {
   "codemirror_mode": {
    "name": "ipython",
    "version": 3
   },
   "file_extension": ".py",
   "mimetype": "text/x-python",
   "name": "python",
   "nbconvert_exporter": "python",
   "pygments_lexer": "ipython3",
   "version": "3.11.5"
  }
 },
 "nbformat": 4,
 "nbformat_minor": 5
}
