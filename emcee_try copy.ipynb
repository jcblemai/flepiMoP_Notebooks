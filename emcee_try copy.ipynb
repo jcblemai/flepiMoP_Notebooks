{
 "cells": [
  {
   "cell_type": "code",
   "execution_count": 1,
   "id": "c4c74234-90f5-463e-a685-ff9cf7620953",
   "metadata": {
    "ExecuteTime": {
     "end_time": "2023-11-20T10:04:39.274921Z",
     "start_time": "2023-11-20T10:04:37.320752Z"
    },
    "execution": {
     "iopub.execute_input": "2023-05-04T14:52:29.916947Z",
     "iopub.status.busy": "2023-05-04T14:52:29.916341Z",
     "iopub.status.idle": "2023-05-04T14:52:37.018295Z",
     "shell.execute_reply": "2023-05-04T14:52:37.017535Z",
     "shell.execute_reply.started": "2023-05-04T14:52:29.916917Z"
    },
    "tags": []
   },
   "outputs": [],
   "source": [
    "import gempyor\n",
    "import numpy as np\n",
    "import pandas as pd\n",
    "import matplotlib.pyplot as plt\n",
    "import datetime\n",
    "import glob, os, sys, re, shutil\n",
    "from pathlib import Path\n",
    "\n",
    "# import seaborn as sns\n",
    "import matplotlib._color_data as mcd\n",
    "import pyarrow.parquet as pq\n",
    "import click\n",
    "import subprocess\n",
    "import dask.dataframe as dd\n",
    "import matplotlib.dates as mdates\n",
    "import matplotlib.cbook as cbook\n",
    "from matplotlib.backends.backend_pdf import PdfPages\n",
    "\n",
    "import os\n",
    "import multiprocessing as mp\n",
    "import pandas as pd\n",
    "import pyarrow.parquet as pq\n",
    "from gempyor import config, model_info, outcomes, seir\n",
    "\n",
    "import os\n",
    "\n",
    "# disable  operations using the MKL linear algebra.\n",
    "os.environ[\"OMP_NUM_THREADS\"] = \"1\"\n",
    "\n",
    "\n",
    "data_dir = \"RSV_USA/\"\n",
    "import os\n",
    "os.chdir(data_dir)\n",
    "data_dir = \".\"  # necessary for now for time serie parameters !!! fixme "
   ]
  },
  {
   "cell_type": "code",
   "execution_count": 2,
   "id": "a1901dfc",
   "metadata": {
    "ExecuteTime": {
     "end_time": "2023-11-20T10:04:42.665397Z",
     "start_time": "2023-11-20T10:04:42.643557Z"
    }
   },
   "outputs": [
    {
     "name": "stderr",
     "output_type": "stream",
     "text": [
      "CRITICAL:root:No mobility matrix specified -- assuming no one moves\n"
     ]
    },
    {
     "name": "stdout",
     "output_type": "stream",
     "text": [
      "config_rsv_simplified_inference_v3_MD.yml\n"
     ]
    }
   ],
   "source": [
    "config_path = f\"config_rsv_simplified_inference_v3_MD.yml\"\n",
    "run_id = \"config_rsv_simplified_inference_v3_MD.yml\"\n",
    "\n",
    "config.clear()\n",
    "config.read(user=False)\n",
    "config.set_file(config_path)\n",
    "print(config_path)\n",
    "\n",
    "\n",
    "seir_modifiers_scenario=\"none\"\n",
    "outcome_modifiers_scenario=\"IHRadj\"\n",
    "\n",
    "in_run_id = run_id\n",
    "out_run_id = in_run_id\n",
    "in_prefix = \"emcee\"\n",
    "\n",
    "out_prefix = in_prefix\n",
    "\n",
    "write_csv = False\n",
    "write_parquet = True\n",
    "modinf = model_info.ModelInfo(\n",
    "    config=config,\n",
    "    nslots=1,\n",
    "    seir_modifiers_scenario=seir_modifiers_scenario,\n",
    "    outcome_modifiers_scenario=outcome_modifiers_scenario,\n",
    "    write_csv=write_csv,\n",
    "    write_parquet=write_parquet,\n",
    "    first_sim_index=1,\n",
    "    in_run_id=in_run_id,\n",
    "    in_prefix=in_prefix,\n",
    "    inference_filename_prefix=\"no\",\n",
    "    inference_filepath_suffix=\"no\",\n",
    "    out_run_id=out_run_id,\n",
    "    out_prefix=out_prefix,\n",
    "    stoch_traj_flag=False,\n",
    ")"
   ]
  },
  {
   "cell_type": "code",
   "execution_count": 3,
   "id": "627eb93d",
   "metadata": {
    "ExecuteTime": {
     "end_time": "2023-11-20T10:07:08.627459Z",
     "start_time": "2023-11-20T10:07:08.573119Z"
    }
   },
   "outputs": [
    {
     "name": "stdout",
     "output_type": "stream",
     "text": [
      "SEIR MODIFIERS\n",
      " >> Ro_mod has perturbation, recording\n",
      " >> covid_mod has perturbation, recording\n",
      " >> omicron_mod has perturbation, recording\n",
      " >> seas_amp_mod has perturbation, recording\n",
      " >> seas_offset_mod has perturbation, recording\n",
      "OUTCOMES MODIFIERS\n",
      " >> IHRadj has perturbation, recording\n"
     ]
    }
   ],
   "source": [
    "# find what to perturb\n",
    "fitted_params = {\n",
    "    \"ptype\":[],\n",
    "    \"pname\":[],\n",
    "    \"pdist\":[],\n",
    "    \"ub\":[],\n",
    "    \"lb\":[],\n",
    "}\n",
    "ndim=0\n",
    "\n",
    "print(\"SEIR MODIFIERS\")\n",
    "for npi in gempyor.config[\"seir_modifiers\"][\"modifiers\"].get():\n",
    "    if gempyor.config[\"seir_modifiers\"][\"modifiers\"][npi][\"perturbation\"].exists():\n",
    "        c = config[\"seir_modifiers\"][\"modifiers\"][npi]\n",
    "        fitted_params[\"ptype\"].append(\"snpi\")\n",
    "        fitted_params[\"pname\"].append(npi)\n",
    "        fitted_params[\"pdist\"].append(c[\"value\"].as_random_distribution())\n",
    "        fitted_params[\"lb\"].append(c[\"value\"][\"a\"].get())\n",
    "        fitted_params[\"ub\"].append(c[\"value\"][\"b\"].get())\n",
    "        print(f\" >> {npi} has perturbation, recording\")\n",
    "        ndim+=len(modinf.subpop_struct.subpop_names)\n",
    "        \n",
    "print(\"OUTCOMES MODIFIERS\")   \n",
    "for npi in gempyor.config[\"outcome_modifiers\"][\"modifiers\"].get():\n",
    "    if gempyor.config[\"outcome_modifiers\"][\"modifiers\"][npi][\"perturbation\"].exists():\n",
    "        c = config[\"outcome_modifiers\"][\"modifiers\"][npi]\n",
    "        fitted_params[\"ptype\"].append(\"hnpi\")\n",
    "        fitted_params[\"pname\"].append(npi)\n",
    "        fitted_params[\"pdist\"].append(c[\"value\"].as_random_distribution())\n",
    "        fitted_params[\"lb\"].append(c[\"value\"][\"a\"].get())\n",
    "        fitted_params[\"ub\"].append(c[\"value\"][\"b\"].get())\n",
    "        print(f\" >> {npi} has perturbation, recording\")\n",
    "        ndim+=len(modinf.subpop_struct.subpop_names)"
   ]
  },
  {
   "cell_type": "code",
   "execution_count": 4,
   "id": "0654218e",
   "metadata": {},
   "outputs": [],
   "source": [
    "# Find the ground-truth\n",
    "gt = pd.read_csv(f\"{data_dir}/\"+gempyor.config[\"inference\"][\"gt_data_path\"].get())\n",
    "# gt\n",
    "statistics = {}\n",
    "# # Ingoring agreegation and all, assuming by weekP\n",
    "for stat in gempyor.config[\"inference\"][\"statistics\"]:\n",
    "    statistics[gempyor.config[\"inference\"][\"statistics\"][stat][\"sim_var\"].get()] = gempyor.config[\"inference\"][\"statistics\"][stat][\"data_var\"].get()\n",
    "statistics\n",
    "gt = gempyor.read_df(gempyor.config[\"inference\"][\"gt_data_path\"].get())\n",
    "gt[\"date\"]= pd.to_datetime(gt['date'])\n",
    "gt = gt.set_index(\"date\")"
   ]
  },
  {
   "cell_type": "markdown",
   "id": "824ffa08",
   "metadata": {},
   "source": [
    "## Create the first gempyor object"
   ]
  },
  {
   "cell_type": "code",
   "execution_count": 5,
   "id": "ee2b5b3a",
   "metadata": {},
   "outputs": [
    {
     "name": "stdout",
     "output_type": "stream",
     "text": [
      "MAKING A TEST RUN TO GET SETUP\n"
     ]
    },
    {
     "name": "stderr",
     "output_type": "stream",
     "text": [
      "INFO:root:[SEIR.compartments] completed in 1.11 s\n",
      "INFO:root:[Outcome.structure] completed in 0.00 s\n",
      "INFO:root:[SEIR.NPI] completed in 0.11 s\n",
      "INFO:root:[Outcomes.Modifiers] completed in 0.02 s\n",
      "/Users/chadi/Research/FlepiMoP_Projects/flepiMoP/flepimop/gempyor_pkg/src/gempyor/seeding_ic.py:492: FutureWarning: Calling float on a single element Series is deprecated and will raise a TypeError in the future. Use float(ser.iloc[0]) instead\n",
      "  y0[comp_idx, pl_idx] = float(ic_df_compartment_val)\n",
      "INFO:root:Integrating with method rk4.jit\n",
      "13819it [00:21, 639.95it/s]\n"
     ]
    },
    {
     "name": "stdout",
     "output_type": "stream",
     "text": [
      "TEST RUN IS DONE\n"
     ]
    }
   ],
   "source": [
    "\n",
    "print(\"MAKING A TEST RUN TO GET SETUP\")\n",
    "(\n",
    "    unique_strings,\n",
    "    transition_array,\n",
    "    proportion_array,\n",
    "    proportion_info,\n",
    ") = modinf.compartments.get_transition_array()\n",
    "\n",
    "outcomes_parameters = outcomes.read_parameters_from_config(modinf)\n",
    "\n",
    "\n",
    "npi_seir = seir.build_npi_SEIR(\n",
    "    modinf=modinf, load_ID=False, sim_id2load=None, config=config\n",
    ")\n",
    "if modinf.npi_config_outcomes:\n",
    "    npi_outcomes = outcomes.build_outcome_modifiers(\n",
    "                modinf=modinf,\n",
    "                load_ID=False,\n",
    "                sim_id2load=None,\n",
    "                config=config,\n",
    "            )\n",
    "\n",
    "p_draw = modinf.parameters.parameters_quick_draw(\n",
    "                n_days=modinf.n_days, nsubpops=modinf.nsubpops\n",
    "            )\n",
    "\n",
    "initial_conditions = modinf.initial_conditions.draw(sim_id=0, setup=modinf)\n",
    "seeding_data, seeding_amounts = modinf.seeding.draw(sim_id=0, setup=modinf)\n",
    "\n",
    "\n",
    "\n",
    "# reduce them\n",
    "parameters = modinf.parameters.parameters_reduce(p_draw, npi_seir)\n",
    "        # Parse them\n",
    "parsed_parameters = modinf.compartments.parse_parameters(\n",
    "    parameters, modinf.parameters.pnames, unique_strings\n",
    ")\n",
    "\n",
    "states = seir.steps_SEIR(\n",
    "    modinf,\n",
    "    parsed_parameters,\n",
    "    transition_array,\n",
    "    proportion_array,\n",
    "    proportion_info,\n",
    "    initial_conditions,\n",
    "    seeding_data,\n",
    "    seeding_amounts,\n",
    ")\n",
    "\n",
    "seir_out_df_ref = seir.postprocess_and_write(\n",
    "    0, modinf, states, p_draw, npi_seir, seeding_data\n",
    ")\n",
    "snpi_df_ref = npi_seir.getReductionDF()\n",
    "\n",
    "outcomes_df, hpar_df = outcomes.compute_all_multioutcomes(\n",
    "    modinf=modinf,\n",
    "    sim_id2write=0,\n",
    "    parameters=outcomes_parameters,\n",
    "    loaded_values=None,\n",
    "    npi=npi_outcomes,\n",
    "    bypass_seir=seir_out_df_ref\n",
    ")\n",
    "outcomes_df_ref, hpar_ref, hnpi_df_ref = outcomes.postprocess_and_write(\n",
    "    sim_id=0,\n",
    "    modinf=modinf,\n",
    "    outcomes_df=outcomes_df,\n",
    "    hpar=hpar_df,\n",
    "    npi=npi_outcomes,\n",
    ")\n",
    "print(\"TEST RUN IS DONE\")"
   ]
  },
  {
   "cell_type": "code",
   "execution_count": 6,
   "id": "dbe222cd",
   "metadata": {},
   "outputs": [],
   "source": []
  },
  {
   "cell_type": "code",
   "execution_count": 7,
   "id": "cc74f067",
   "metadata": {},
   "outputs": [],
   "source": [
    "if False:\n",
    "    outcomes_df = run_simulation(snpi_df_in=snpi_df_ref, hnpi_df_in=hnpi_df_ref)\n",
    "    outcomes_df_ref.set_index(\"date\")[\"incidH\"].plot(lw=2, c='k')\n",
    "    outcomes_df.set_index(\"date\")[\"incidH\"].plot(lw=1, c='r')"
   ]
  },
  {
   "cell_type": "code",
   "execution_count": 9,
   "id": "6a774c27",
   "metadata": {},
   "outputs": [],
   "source": [
    "#proposal = np.random.random(size=ndim)\n",
    "#print(log_prob(proposal))\n",
    "#proposal = np.random.random(size=ndim)*2\n",
    "#print(log_prob(proposal))"
   ]
  },
  {
   "cell_type": "code",
   "execution_count": 10,
   "id": "73173eed",
   "metadata": {},
   "outputs": [],
   "source": [
    "nwalkers = 11\n",
    "p0 = np.zeros((nwalkers, ndim))\n",
    "for i in range(ndim):\n",
    "    p0[:,i] = fitted_params[\"pdist\"][i](nwalkers)"
   ]
  },
  {
   "cell_type": "code",
   "execution_count": 11,
   "id": "00659403",
   "metadata": {},
   "outputs": [
    {
     "name": "stdout",
     "output_type": "stream",
     "text": [
      "[[1.03388488 0.61477866 0.62429057 0.19808617 0.99645246 0.70259943]\n",
      " [1.35837022 0.43824626 0.6777635  0.20701277 0.95768808 0.84854448]\n",
      " [1.05244169 0.44118588 0.41841024 0.11615696 0.93556473 0.57815483]\n",
      " [1.06892286 0.35928931 0.52521169 0.23870577 0.93468177 0.60113395]\n",
      " [1.26545062 0.32548252 0.62170365 0.12926533 0.93584475 0.66627653]\n",
      " [1.01515101 0.44215056 0.47915135 0.17451802 0.96176424 0.70787891]\n",
      " [1.02970113 0.5895285  0.36913077 0.19505034 0.91936793 0.64690476]\n",
      " [1.08940764 0.49034661 0.5403588  0.17340001 0.9342702  0.737411  ]\n",
      " [1.01588602 0.54078914 0.63149912 0.19283619 0.90915688 0.76295609]\n",
      " [1.04937265 0.33167728 0.56951442 0.20205702 0.95309845 0.63301543]\n",
      " [1.04211932 0.41956026 0.45772003 0.23248185 0.97719881 0.68512119]]\n"
     ]
    }
   ],
   "source": [
    "print(p0)"
   ]
  },
  {
   "cell_type": "code",
   "execution_count": null,
   "id": "988de2b6",
   "metadata": {},
   "outputs": [],
   "source": []
  },
  {
   "cell_type": "code",
   "execution_count": 14,
   "id": "76738408",
   "metadata": {},
   "outputs": [
    {
     "ename": "TypeError",
     "evalue": "cannot pickle '_nrt_python._MemInfo' object",
     "output_type": "error",
     "traceback": [
      "\u001b[0;31m---------------------------------------------------------------------------\u001b[0m",
      "\u001b[0;31mTypeError\u001b[0m                                 Traceback (most recent call last)",
      "Cell \u001b[0;32mIn[14], line 9\u001b[0m\n\u001b[1;32m      5\u001b[0m \u001b[38;5;28;01mwith\u001b[39;00m Pool() \u001b[38;5;28;01mas\u001b[39;00m pool:\n\u001b[1;32m      6\u001b[0m     sampler \u001b[38;5;241m=\u001b[39m emcee\u001b[38;5;241m.\u001b[39mEnsembleSampler(nwalkers, ndim, log_prob, \n\u001b[1;32m      7\u001b[0m                                     args\u001b[38;5;241m=\u001b[39m[snpi_df_ref, ndim, statistics, fitted_params, gt, hnpi_df_ref, modinf, p_draw, unique_strings, transition_array, proportion_array, proportion_info, initial_conditions, seeding_data, seeding_amounts,outcomes_parameters], \n\u001b[1;32m      8\u001b[0m                                     pool\u001b[38;5;241m=\u001b[39mpool)\n\u001b[0;32m----> 9\u001b[0m     state \u001b[38;5;241m=\u001b[39m sampler\u001b[38;5;241m.\u001b[39mrun_mcmc(p0, \u001b[38;5;241m20\u001b[39m, progress\u001b[38;5;241m=\u001b[39m\u001b[38;5;28;01mTrue\u001b[39;00m)\n",
      "File \u001b[0;32m~/anaconda3/lib/python3.11/site-packages/emcee/ensemble.py:443\u001b[0m, in \u001b[0;36mEnsembleSampler.run_mcmc\u001b[0;34m(self, initial_state, nsteps, **kwargs)\u001b[0m\n\u001b[1;32m    440\u001b[0m     initial_state \u001b[38;5;241m=\u001b[39m \u001b[38;5;28mself\u001b[39m\u001b[38;5;241m.\u001b[39m_previous_state\n\u001b[1;32m    442\u001b[0m results \u001b[38;5;241m=\u001b[39m \u001b[38;5;28;01mNone\u001b[39;00m\n\u001b[0;32m--> 443\u001b[0m \u001b[38;5;28;01mfor\u001b[39;00m results \u001b[38;5;129;01min\u001b[39;00m \u001b[38;5;28mself\u001b[39m\u001b[38;5;241m.\u001b[39msample(initial_state, iterations\u001b[38;5;241m=\u001b[39mnsteps, \u001b[38;5;241m*\u001b[39m\u001b[38;5;241m*\u001b[39mkwargs):\n\u001b[1;32m    444\u001b[0m     \u001b[38;5;28;01mpass\u001b[39;00m\n\u001b[1;32m    446\u001b[0m \u001b[38;5;66;03m# Store so that the ``initial_state=None`` case will work\u001b[39;00m\n",
      "File \u001b[0;32m~/anaconda3/lib/python3.11/site-packages/emcee/ensemble.py:344\u001b[0m, in \u001b[0;36mEnsembleSampler.sample\u001b[0;34m(self, initial_state, log_prob0, rstate0, blobs0, iterations, tune, skip_initial_state_check, thin_by, thin, store, progress, progress_kwargs)\u001b[0m\n\u001b[1;32m    342\u001b[0m     state\u001b[38;5;241m.\u001b[39mblobs \u001b[38;5;241m=\u001b[39m blobs0\n\u001b[1;32m    343\u001b[0m \u001b[38;5;28;01mif\u001b[39;00m state\u001b[38;5;241m.\u001b[39mlog_prob \u001b[38;5;129;01mis\u001b[39;00m \u001b[38;5;28;01mNone\u001b[39;00m:\n\u001b[0;32m--> 344\u001b[0m     state\u001b[38;5;241m.\u001b[39mlog_prob, state\u001b[38;5;241m.\u001b[39mblobs \u001b[38;5;241m=\u001b[39m \u001b[38;5;28mself\u001b[39m\u001b[38;5;241m.\u001b[39mcompute_log_prob(state\u001b[38;5;241m.\u001b[39mcoords)\n\u001b[1;32m    345\u001b[0m \u001b[38;5;28;01mif\u001b[39;00m np\u001b[38;5;241m.\u001b[39mshape(state\u001b[38;5;241m.\u001b[39mlog_prob) \u001b[38;5;241m!=\u001b[39m (\u001b[38;5;28mself\u001b[39m\u001b[38;5;241m.\u001b[39mnwalkers,):\n\u001b[1;32m    346\u001b[0m     \u001b[38;5;28;01mraise\u001b[39;00m \u001b[38;5;167;01mValueError\u001b[39;00m(\u001b[38;5;124m\"\u001b[39m\u001b[38;5;124mincompatible input dimensions\u001b[39m\u001b[38;5;124m\"\u001b[39m)\n",
      "File \u001b[0;32m~/anaconda3/lib/python3.11/site-packages/emcee/ensemble.py:489\u001b[0m, in \u001b[0;36mEnsembleSampler.compute_log_prob\u001b[0;34m(self, coords)\u001b[0m\n\u001b[1;32m    487\u001b[0m     \u001b[38;5;28;01melse\u001b[39;00m:\n\u001b[1;32m    488\u001b[0m         map_func \u001b[38;5;241m=\u001b[39m \u001b[38;5;28mmap\u001b[39m\n\u001b[0;32m--> 489\u001b[0m     results \u001b[38;5;241m=\u001b[39m \u001b[38;5;28mlist\u001b[39m(map_func(\u001b[38;5;28mself\u001b[39m\u001b[38;5;241m.\u001b[39mlog_prob_fn, p))\n\u001b[1;32m    491\u001b[0m \u001b[38;5;28;01mtry\u001b[39;00m:\n\u001b[1;32m    492\u001b[0m     log_prob \u001b[38;5;241m=\u001b[39m np\u001b[38;5;241m.\u001b[39marray([\u001b[38;5;28mfloat\u001b[39m(l[\u001b[38;5;241m0\u001b[39m]) \u001b[38;5;28;01mfor\u001b[39;00m l \u001b[38;5;129;01min\u001b[39;00m results])\n",
      "File \u001b[0;32m~/anaconda3/lib/python3.11/multiprocessing/pool.py:367\u001b[0m, in \u001b[0;36mPool.map\u001b[0;34m(self, func, iterable, chunksize)\u001b[0m\n\u001b[1;32m    362\u001b[0m \u001b[38;5;28;01mdef\u001b[39;00m \u001b[38;5;21mmap\u001b[39m(\u001b[38;5;28mself\u001b[39m, func, iterable, chunksize\u001b[38;5;241m=\u001b[39m\u001b[38;5;28;01mNone\u001b[39;00m):\n\u001b[1;32m    363\u001b[0m \u001b[38;5;250m    \u001b[39m\u001b[38;5;124;03m'''\u001b[39;00m\n\u001b[1;32m    364\u001b[0m \u001b[38;5;124;03m    Apply `func` to each element in `iterable`, collecting the results\u001b[39;00m\n\u001b[1;32m    365\u001b[0m \u001b[38;5;124;03m    in a list that is returned.\u001b[39;00m\n\u001b[1;32m    366\u001b[0m \u001b[38;5;124;03m    '''\u001b[39;00m\n\u001b[0;32m--> 367\u001b[0m     \u001b[38;5;28;01mreturn\u001b[39;00m \u001b[38;5;28mself\u001b[39m\u001b[38;5;241m.\u001b[39m_map_async(func, iterable, mapstar, chunksize)\u001b[38;5;241m.\u001b[39mget()\n",
      "File \u001b[0;32m~/anaconda3/lib/python3.11/multiprocessing/pool.py:774\u001b[0m, in \u001b[0;36mApplyResult.get\u001b[0;34m(self, timeout)\u001b[0m\n\u001b[1;32m    772\u001b[0m     \u001b[38;5;28;01mreturn\u001b[39;00m \u001b[38;5;28mself\u001b[39m\u001b[38;5;241m.\u001b[39m_value\n\u001b[1;32m    773\u001b[0m \u001b[38;5;28;01melse\u001b[39;00m:\n\u001b[0;32m--> 774\u001b[0m     \u001b[38;5;28;01mraise\u001b[39;00m \u001b[38;5;28mself\u001b[39m\u001b[38;5;241m.\u001b[39m_value\n",
      "File \u001b[0;32m~/anaconda3/lib/python3.11/multiprocessing/pool.py:540\u001b[0m, in \u001b[0;36mPool._handle_tasks\u001b[0;34m(taskqueue, put, outqueue, pool, cache)\u001b[0m\n\u001b[1;32m    538\u001b[0m     \u001b[38;5;28;01mbreak\u001b[39;00m\n\u001b[1;32m    539\u001b[0m \u001b[38;5;28;01mtry\u001b[39;00m:\n\u001b[0;32m--> 540\u001b[0m     put(task)\n\u001b[1;32m    541\u001b[0m \u001b[38;5;28;01mexcept\u001b[39;00m \u001b[38;5;167;01mException\u001b[39;00m \u001b[38;5;28;01mas\u001b[39;00m e:\n\u001b[1;32m    542\u001b[0m     job, idx \u001b[38;5;241m=\u001b[39m task[:\u001b[38;5;241m2\u001b[39m]\n",
      "File \u001b[0;32m~/anaconda3/lib/python3.11/multiprocessing/connection.py:205\u001b[0m, in \u001b[0;36m_ConnectionBase.send\u001b[0;34m(self, obj)\u001b[0m\n\u001b[1;32m    203\u001b[0m \u001b[38;5;28mself\u001b[39m\u001b[38;5;241m.\u001b[39m_check_closed()\n\u001b[1;32m    204\u001b[0m \u001b[38;5;28mself\u001b[39m\u001b[38;5;241m.\u001b[39m_check_writable()\n\u001b[0;32m--> 205\u001b[0m \u001b[38;5;28mself\u001b[39m\u001b[38;5;241m.\u001b[39m_send_bytes(_ForkingPickler\u001b[38;5;241m.\u001b[39mdumps(obj))\n",
      "File \u001b[0;32m~/anaconda3/lib/python3.11/multiprocessing/reduction.py:51\u001b[0m, in \u001b[0;36mForkingPickler.dumps\u001b[0;34m(cls, obj, protocol)\u001b[0m\n\u001b[1;32m     48\u001b[0m \u001b[38;5;129m@classmethod\u001b[39m\n\u001b[1;32m     49\u001b[0m \u001b[38;5;28;01mdef\u001b[39;00m \u001b[38;5;21mdumps\u001b[39m(\u001b[38;5;28mcls\u001b[39m, obj, protocol\u001b[38;5;241m=\u001b[39m\u001b[38;5;28;01mNone\u001b[39;00m):\n\u001b[1;32m     50\u001b[0m     buf \u001b[38;5;241m=\u001b[39m io\u001b[38;5;241m.\u001b[39mBytesIO()\n\u001b[0;32m---> 51\u001b[0m     \u001b[38;5;28mcls\u001b[39m(buf, protocol)\u001b[38;5;241m.\u001b[39mdump(obj)\n\u001b[1;32m     52\u001b[0m     \u001b[38;5;28;01mreturn\u001b[39;00m buf\u001b[38;5;241m.\u001b[39mgetbuffer()\n",
      "\u001b[0;31mTypeError\u001b[0m: cannot pickle '_nrt_python._MemInfo' object"
     ]
    }
   ],
   "source": [
    "import emcee\n",
    "\n",
    "from multiprocessing import Pool\n",
    "from gempyor_logprob import log_prob\n",
    "with Pool() as pool:\n",
    "    sampler = emcee.EnsembleSampler(nwalkers, ndim, log_prob, \n",
    "                                    args=[snpi_df_ref, ndim, statistics, fitted_params, gt, hnpi_df_ref, modinf, p_draw, unique_strings, transition_array, proportion_array, proportion_info, initial_conditions, seeding_data, seeding_amounts,outcomes_parameters], \n",
    "                                    pool=pool)\n",
    "    state = sampler.run_mcmc(p0, 20, progress=True)"
   ]
  },
  {
   "cell_type": "code",
   "execution_count": null,
   "id": "8d77d62d",
   "metadata": {},
   "outputs": [],
   "source": [
    "print(\n",
    "    \"Mean acceptance fraction: {0:.3f}\".format(\n",
    "        np.mean(sampler.acceptance_fraction)\n",
    "    )\n",
    ")\n",
    "\n",
    "print(\n",
    "    \"Mean autocorrelation time: {0:.3f} steps\".format(\n",
    "        np.mean(sampler.get_autocorr_time())\n",
    "    )\n",
    ")"
   ]
  },
  {
   "cell_type": "code",
   "execution_count": null,
   "id": "79839347",
   "metadata": {},
   "outputs": [],
   "source": [
    "fig, axes = plt.subplots(3, figsize=(10, 7), sharex=True)\n",
    "samples = sampler.get_chain()\n",
    "labels = [\"m\", \"b\", \"log(f)\"]\n",
    "for i in range(ndim):\n",
    "    ax = axes[i]\n",
    "    ax.plot(samples[:, :, i], \"k\", alpha=0.3)\n",
    "    ax.set_xlim(0, len(samples))\n",
    "    ax.set_ylabel(labels[i])\n",
    "    ax.yaxis.set_label_coords(-0.1, 0.5)\n",
    "\n",
    "axes[-1].set_xlabel(\"step number\");"
   ]
  },
  {
   "cell_type": "code",
   "execution_count": null,
   "id": "18b43982",
   "metadata": {},
   "outputs": [],
   "source": [
    "import corner"
   ]
  },
  {
   "cell_type": "code",
   "execution_count": null,
   "id": "a6ba2f65",
   "metadata": {},
   "outputs": [],
   "source": [
    "tau = sampler.get_autocorr_time()\n",
    "print(tau)\n",
    "\n",
    "flat_samples = sampler.get_chain(discard=100, thin=15, flat=True)\n",
    "print(flat_samples.shape)\n",
    "\n",
    "import corner\n",
    "\n",
    "fig = corner.corner(\n",
    "    flat_samples, labels=labels, truths=[m_true, b_true, np.log(f_true)]\n",
    ");"
   ]
  }
 ],
 "metadata": {
  "kernelspec": {
   "display_name": "base",
   "language": "python",
   "name": "python3"
  },
  "language_info": {
   "codemirror_mode": {
    "name": "ipython",
    "version": 3
   },
   "file_extension": ".py",
   "mimetype": "text/x-python",
   "name": "python",
   "nbconvert_exporter": "python",
   "pygments_lexer": "ipython3",
   "version": "3.11.5"
  }
 },
 "nbformat": 4,
 "nbformat_minor": 5
}
