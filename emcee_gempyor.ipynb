{
 "cells": [
  {
   "cell_type": "code",
   "execution_count": 25,
   "id": "c4c74234-90f5-463e-a685-ff9cf7620953",
   "metadata": {
    "ExecuteTime": {
     "end_time": "2023-11-20T10:04:39.274921Z",
     "start_time": "2023-11-20T10:04:37.320752Z"
    },
    "execution": {
     "iopub.execute_input": "2023-05-04T14:52:29.916947Z",
     "iopub.status.busy": "2023-05-04T14:52:29.916341Z",
     "iopub.status.idle": "2023-05-04T14:52:37.018295Z",
     "shell.execute_reply": "2023-05-04T14:52:37.017535Z",
     "shell.execute_reply.started": "2023-05-04T14:52:29.916917Z"
    },
    "tags": []
   },
   "outputs": [
    {
     "name": "stdout",
     "output_type": "stream",
     "text": [
      "found 12 CPUs, using these\n",
      "  gempyor >> Running ***DETERMINISTIC*** simulation;\n",
      "  gempyor >> ModelInfo USA_inference_all; index: 1; run_id: SMH_Rdisparity_phase_one_phase1_blk1_re_npis_CA-NC_emcee,\n",
      "  gempyor >> prefix: USA_inference_all/SMH_Rdisparity_phase_one_phase1_blk1_re_npis_CA-NC_emcee/;\n",
      "Loaded subpops in loaded relative probablity file: 51 Intersect with seir simulation:  2 kept\n",
      "Running Gempyor Inference\n",
      "LogLoss: 5 statistics and 92 data points,number of NA for each statistic: \n",
      "incidC_latino    62\n",
      "incidC_other     25\n",
      "incidC_asian     25\n",
      "incidC_black     25\n",
      "incidC_white     25\n",
      "incidD_latino    46\n",
      "incidD_other      0\n",
      "incidD_asian      0\n",
      "incidD_black      0\n",
      "incidD_white      0\n",
      "dtype: int64\n",
      "InferenceParameters: with 78 parameters: \n",
      "    seir_modifiers: 68 parameters\n",
      "    outcome_modifiers: 10 parameters\n",
      "\n",
      "LogLoss: 5 statistics and 92 data points,number of NA for each statistic: \n",
      "incidC_latino    62\n",
      "incidC_other     25\n",
      "incidC_asian     25\n",
      "incidC_black     25\n",
      "incidC_white     25\n",
      "incidD_latino    46\n",
      "incidD_other      0\n",
      "incidD_asian      0\n",
      "incidD_black      0\n",
      "incidD_white      0\n",
      "dtype: int64\n",
      "InferenceParameters: with 78 parameters: \n",
      "    seir_modifiers: 68 parameters\n",
      "    outcome_modifiers: 10 parameters\n",
      "\n"
     ]
    }
   ],
   "source": [
    "import gempyor\n",
    "import numpy as np\n",
    "import pandas as pd\n",
    "import matplotlib.pyplot as plt\n",
    "\n",
    "from pathlib import Path\n",
    "import copy\n",
    "\n",
    "# import seaborn as sns\n",
    "import matplotlib._color_data as mcd\n",
    "import pyarrow.parquet as pq\n",
    "import click\n",
    "import subprocess\n",
    "import dask.dataframe as dd\n",
    "import matplotlib.dates as mdates\n",
    "import matplotlib.cbook as cbook\n",
    "from matplotlib.backends.backend_pdf import PdfPages\n",
    "from gempyor.utils import config, as_list\n",
    "import os\n",
    "import multiprocessing as mp\n",
    "import pandas as pd\n",
    "import pyarrow.parquet as pq\n",
    "import xarray as xr\n",
    "from gempyor import config, model_info, outcomes, seir, inference_parameter, logloss, inference\n",
    "from gempyor.inference import GempyorInference\n",
    "import gempyor.postprocess_inference\n",
    "import multiprocessing, shutil\n",
    "\n",
    "import os\n",
    "from multiprocessing import cpu_count\n",
    "\n",
    "# disable  operations using the MKL linear algebra.\n",
    "os.environ[\"OMP_NUM_THREADS\"] = \"1\"\n",
    "import emcee\n",
    "\n",
    "from multiprocessing import Pool\n",
    "\n",
    "## Test A\n",
    "project_path = \"./flepiMoP/examples/simple_usa_statelevel/\"  # necessary for now for time serie parameters !!! FIXME\n",
    "config_filepath = f\"simple_usa_statelevel.yml\"\n",
    "seir_modifiers_scenario=\"Ro_all\"\n",
    "outcome_modifiers_scenario=None\n",
    "\n",
    "# Test B\n",
    "project_path = \"RSV_USA/\"\n",
    "config_filepath = f\"config_rsvnet_emcee.yml\"\n",
    "#seir_modifiers_scenario=\"none\"\n",
    "#outcome_modifiers_scenario=\"IHRadj\"\n",
    "\n",
    "# Test C\n",
    "#project_path = \"COVID19_USA/\"\n",
    "#config_filepath= \"config_SMH_R18_allBoo_highIE_blk1_emcee.yml\"\n",
    "#config_filepath=\"config_FCH_R17_allBoo_highIE_phase5_blk1_21Apr2024.yml\"\n",
    "\n",
    "# Flu SMH\n",
    "project_path = \"Flu_USA/\"\n",
    "config_filepath = f\"config_SMH_Flu_2024_R1_allflu_medVax_H3_training_emcee.yml\"\n",
    "seir_modifiers_scenario=\"none\"\n",
    "outcome_modifiers_scenario=\"fake\"\n",
    "\n",
    "project_path = \"COVID19_Disparities\"\n",
    "config_filepath = f\"config_SMH_Rdisparity_phase_one_phase1_blk1_limitIFR_CA-NC_emcee.yml\"\n",
    "seir_modifiers_scenario=\"inference\"\n",
    "outcome_modifiers_scenario=\"all\"\n",
    "\n",
    "nwalkers = 3\n",
    "niter = 4\n",
    "nsamples = 50 # number of likelyhood eval to write to disk...\n",
    "nthin=5\n",
    "run_id = \"SMH_Rdisparity_phase_one_phase1_blk1_limitIFR_CA-NC_emcee\"\n",
    "\n",
    "#### START COPY PAST FROM flepiMoP/flepimop/gempyor_pkg/src/gempyor/calibrate.py\n",
    "ncpu = cpu_count()\n",
    "print(f\"found {ncpu} CPUs, using these\")\n",
    "\n",
    "gempyor_inference = GempyorInference(\n",
    "        config_filepath=config_filepath,\n",
    "        run_id=run_id,\n",
    "        prefix=None,\n",
    "        first_sim_index=1,\n",
    "        stoch_traj_flag=False,\n",
    "        rng_seed=None,\n",
    "        nslots=1,\n",
    "        inference_filename_prefix=\"global/final/\",  # usually for {global or chimeric}/{intermediate or final}\n",
    "        inference_filepath_suffix=\"\",  # usually for the slot_id\n",
    "        out_run_id=None,  # if out_run_id is different from in_run_id, fill this\n",
    "        out_prefix=None,  # if out_prefix is different from in_prefix, fill this\n",
    "        path_prefix=project_path,  # in case the data folder is on another directory\n",
    "        autowrite_seir=False,\n",
    ")\n",
    "#inferpar = inference_parameter.InferenceParameters(global_config=config, modinf=modinf)\n",
    "p0 = gempyor_inference.inferpar.draw_initial(n_draw=nwalkers)\n",
    "for i in range(nwalkers):\n",
    "    assert  gempyor_inference.inferpar.check_in_bound(proposal=p0[i]), \"The initial parameter draw is not within the bounds, check the perturbation distributions\"\n",
    "\n",
    "nsubpop = len(gempyor_inference.modinf.subpop_struct.subpop_names)\n",
    "subpop_names = gempyor_inference.modinf.subpop_struct.subpop_names\n",
    "\n",
    "\n",
    "print(gempyor_inference.logloss)\n",
    "print(gempyor_inference.inferpar)"
   ]
  },
  {
   "cell_type": "code",
   "execution_count": 2,
   "id": "213d3f7d",
   "metadata": {},
   "outputs": [
    {
     "data": {
      "text/html": [
       "<div>\n",
       "<style scoped>\n",
       "    .dataframe tbody tr th:only-of-type {\n",
       "        vertical-align: middle;\n",
       "    }\n",
       "\n",
       "    .dataframe tbody tr th {\n",
       "        vertical-align: top;\n",
       "    }\n",
       "\n",
       "    .dataframe thead th {\n",
       "        text-align: right;\n",
       "    }\n",
       "</style>\n",
       "<table border=\"1\" class=\"dataframe\">\n",
       "  <thead>\n",
       "    <tr style=\"text-align: right;\">\n",
       "      <th></th>\n",
       "      <th>source</th>\n",
       "      <th>destination</th>\n",
       "      <th>rate</th>\n",
       "      <th>proportional_to</th>\n",
       "      <th>proportion_exponent</th>\n",
       "    </tr>\n",
       "  </thead>\n",
       "  <tbody>\n",
       "    <tr>\n",
       "      <th>0</th>\n",
       "      <td>[S, unvaccinated, WILD, age0to17, latino]</td>\n",
       "      <td>[E, unvaccinated, WILD, age0to17, latino]</td>\n",
       "      <td>[r0*gamma*phi_latino, 1, 1, 1, phi_latino]</td>\n",
       "      <td>[[[S], [unvaccinated], [WILD], [age0to17], [la...</td>\n",
       "      <td>[[1, 1, 1, 1, 1], [alpha, 1, 1, 1, 1]]</td>\n",
       "    </tr>\n",
       "    <tr>\n",
       "      <th>1</th>\n",
       "      <td>[S, unvaccinated, WILD, age0to17, latino]</td>\n",
       "      <td>[E, unvaccinated, WILD, age0to17, latino]</td>\n",
       "      <td>[r0*gamma*phi_latino, 1, 1, 1, phi_black]</td>\n",
       "      <td>[[[S], [unvaccinated], [WILD], [age0to17], [la...</td>\n",
       "      <td>[[1, 1, 1, 1, 1], [alpha, 1, 1, 1, 1]]</td>\n",
       "    </tr>\n",
       "    <tr>\n",
       "      <th>2</th>\n",
       "      <td>[S, unvaccinated, WILD, age0to17, latino]</td>\n",
       "      <td>[E, unvaccinated, WILD, age0to17, latino]</td>\n",
       "      <td>[r0*gamma*phi_latino, 1, 1, 1, phi_white]</td>\n",
       "      <td>[[[S], [unvaccinated], [WILD], [age0to17], [la...</td>\n",
       "      <td>[[1, 1, 1, 1, 1], [alpha, 1, 1, 1, 1]]</td>\n",
       "    </tr>\n",
       "    <tr>\n",
       "      <th>3</th>\n",
       "      <td>[S, unvaccinated, WILD, age0to17, latino]</td>\n",
       "      <td>[E, unvaccinated, WILD, age0to17, latino]</td>\n",
       "      <td>[r0*gamma*phi_latino, 1, 1, 1, phi_asian]</td>\n",
       "      <td>[[[S], [unvaccinated], [WILD], [age0to17], [la...</td>\n",
       "      <td>[[1, 1, 1, 1, 1], [alpha, 1, 1, 1, 1]]</td>\n",
       "    </tr>\n",
       "    <tr>\n",
       "      <th>4</th>\n",
       "      <td>[S, unvaccinated, WILD, age0to17, latino]</td>\n",
       "      <td>[E, unvaccinated, WILD, age0to17, latino]</td>\n",
       "      <td>[r0*gamma*phi_latino, 1, 1, 1, phi_other]</td>\n",
       "      <td>[[[S], [unvaccinated], [WILD], [age0to17], [la...</td>\n",
       "      <td>[[1, 1, 1, 1, 1], [alpha, 1, 1, 1, 1]]</td>\n",
       "    </tr>\n",
       "    <tr>\n",
       "      <th>...</th>\n",
       "      <td>...</td>\n",
       "      <td>...</td>\n",
       "      <td>...</td>\n",
       "      <td>...</td>\n",
       "      <td>...</td>\n",
       "    </tr>\n",
       "    <tr>\n",
       "      <th>4435</th>\n",
       "      <td>[W, 2dose, ALPHA, age65to100, latino]</td>\n",
       "      <td>[W, waned, ALPHA, age65to100, latino]</td>\n",
       "      <td>[1, epsilon, 1, 1, 1]</td>\n",
       "      <td>[[[W], [2dose], [ALPHA], [age65to100], [latino]]]</td>\n",
       "      <td>[[1, 1, 1, 1, 1]]</td>\n",
       "    </tr>\n",
       "    <tr>\n",
       "      <th>4436</th>\n",
       "      <td>[W, 2dose, ALPHA, age65to100, black]</td>\n",
       "      <td>[W, waned, ALPHA, age65to100, black]</td>\n",
       "      <td>[1, epsilon, 1, 1, 1]</td>\n",
       "      <td>[[[W], [2dose], [ALPHA], [age65to100], [black]]]</td>\n",
       "      <td>[[1, 1, 1, 1, 1]]</td>\n",
       "    </tr>\n",
       "    <tr>\n",
       "      <th>4437</th>\n",
       "      <td>[W, 2dose, ALPHA, age65to100, white]</td>\n",
       "      <td>[W, waned, ALPHA, age65to100, white]</td>\n",
       "      <td>[1, epsilon, 1, 1, 1]</td>\n",
       "      <td>[[[W], [2dose], [ALPHA], [age65to100], [white]]]</td>\n",
       "      <td>[[1, 1, 1, 1, 1]]</td>\n",
       "    </tr>\n",
       "    <tr>\n",
       "      <th>4438</th>\n",
       "      <td>[W, 2dose, ALPHA, age65to100, asian]</td>\n",
       "      <td>[W, waned, ALPHA, age65to100, asian]</td>\n",
       "      <td>[1, epsilon, 1, 1, 1]</td>\n",
       "      <td>[[[W], [2dose], [ALPHA], [age65to100], [asian]]]</td>\n",
       "      <td>[[1, 1, 1, 1, 1]]</td>\n",
       "    </tr>\n",
       "    <tr>\n",
       "      <th>4439</th>\n",
       "      <td>[W, 2dose, ALPHA, age65to100, other]</td>\n",
       "      <td>[W, waned, ALPHA, age65to100, other]</td>\n",
       "      <td>[1, epsilon, 1, 1, 1]</td>\n",
       "      <td>[[[W], [2dose], [ALPHA], [age65to100], [other]]]</td>\n",
       "      <td>[[1, 1, 1, 1, 1]]</td>\n",
       "    </tr>\n",
       "  </tbody>\n",
       "</table>\n",
       "<p>4440 rows × 5 columns</p>\n",
       "</div>"
      ],
      "text/plain": [
       "                                         source  \\\n",
       "0     [S, unvaccinated, WILD, age0to17, latino]   \n",
       "1     [S, unvaccinated, WILD, age0to17, latino]   \n",
       "2     [S, unvaccinated, WILD, age0to17, latino]   \n",
       "3     [S, unvaccinated, WILD, age0to17, latino]   \n",
       "4     [S, unvaccinated, WILD, age0to17, latino]   \n",
       "...                                         ...   \n",
       "4435      [W, 2dose, ALPHA, age65to100, latino]   \n",
       "4436       [W, 2dose, ALPHA, age65to100, black]   \n",
       "4437       [W, 2dose, ALPHA, age65to100, white]   \n",
       "4438       [W, 2dose, ALPHA, age65to100, asian]   \n",
       "4439       [W, 2dose, ALPHA, age65to100, other]   \n",
       "\n",
       "                                    destination  \\\n",
       "0     [E, unvaccinated, WILD, age0to17, latino]   \n",
       "1     [E, unvaccinated, WILD, age0to17, latino]   \n",
       "2     [E, unvaccinated, WILD, age0to17, latino]   \n",
       "3     [E, unvaccinated, WILD, age0to17, latino]   \n",
       "4     [E, unvaccinated, WILD, age0to17, latino]   \n",
       "...                                         ...   \n",
       "4435      [W, waned, ALPHA, age65to100, latino]   \n",
       "4436       [W, waned, ALPHA, age65to100, black]   \n",
       "4437       [W, waned, ALPHA, age65to100, white]   \n",
       "4438       [W, waned, ALPHA, age65to100, asian]   \n",
       "4439       [W, waned, ALPHA, age65to100, other]   \n",
       "\n",
       "                                            rate  \\\n",
       "0     [r0*gamma*phi_latino, 1, 1, 1, phi_latino]   \n",
       "1      [r0*gamma*phi_latino, 1, 1, 1, phi_black]   \n",
       "2      [r0*gamma*phi_latino, 1, 1, 1, phi_white]   \n",
       "3      [r0*gamma*phi_latino, 1, 1, 1, phi_asian]   \n",
       "4      [r0*gamma*phi_latino, 1, 1, 1, phi_other]   \n",
       "...                                          ...   \n",
       "4435                       [1, epsilon, 1, 1, 1]   \n",
       "4436                       [1, epsilon, 1, 1, 1]   \n",
       "4437                       [1, epsilon, 1, 1, 1]   \n",
       "4438                       [1, epsilon, 1, 1, 1]   \n",
       "4439                       [1, epsilon, 1, 1, 1]   \n",
       "\n",
       "                                        proportional_to  \\\n",
       "0     [[[S], [unvaccinated], [WILD], [age0to17], [la...   \n",
       "1     [[[S], [unvaccinated], [WILD], [age0to17], [la...   \n",
       "2     [[[S], [unvaccinated], [WILD], [age0to17], [la...   \n",
       "3     [[[S], [unvaccinated], [WILD], [age0to17], [la...   \n",
       "4     [[[S], [unvaccinated], [WILD], [age0to17], [la...   \n",
       "...                                                 ...   \n",
       "4435  [[[W], [2dose], [ALPHA], [age65to100], [latino]]]   \n",
       "4436   [[[W], [2dose], [ALPHA], [age65to100], [black]]]   \n",
       "4437   [[[W], [2dose], [ALPHA], [age65to100], [white]]]   \n",
       "4438   [[[W], [2dose], [ALPHA], [age65to100], [asian]]]   \n",
       "4439   [[[W], [2dose], [ALPHA], [age65to100], [other]]]   \n",
       "\n",
       "                         proportion_exponent  \n",
       "0     [[1, 1, 1, 1, 1], [alpha, 1, 1, 1, 1]]  \n",
       "1     [[1, 1, 1, 1, 1], [alpha, 1, 1, 1, 1]]  \n",
       "2     [[1, 1, 1, 1, 1], [alpha, 1, 1, 1, 1]]  \n",
       "3     [[1, 1, 1, 1, 1], [alpha, 1, 1, 1, 1]]  \n",
       "4     [[1, 1, 1, 1, 1], [alpha, 1, 1, 1, 1]]  \n",
       "...                                      ...  \n",
       "4435                       [[1, 1, 1, 1, 1]]  \n",
       "4436                       [[1, 1, 1, 1, 1]]  \n",
       "4437                       [[1, 1, 1, 1, 1]]  \n",
       "4438                       [[1, 1, 1, 1, 1]]  \n",
       "4439                       [[1, 1, 1, 1, 1]]  \n",
       "\n",
       "[4440 rows x 5 columns]"
      ]
     },
     "execution_count": 2,
     "metadata": {},
     "output_type": "execute_result"
    }
   ],
   "source": [
    "gempyor_inference.modinf.compartments.transitions"
   ]
  },
  {
   "cell_type": "code",
   "execution_count": null,
   "id": "169048a5",
   "metadata": {},
   "outputs": [],
   "source": [
    "gempyor_inference.modinf.compartments.toFile()\n",
    "gempyor.read_df(\"transitions.parquet\")"
   ]
  },
  {
   "cell_type": "code",
   "execution_count": 2,
   "id": "d29dad62",
   "metadata": {},
   "outputs": [],
   "source": [
    "outcome_df = gempyor_inference.simulate_proposal(p0[0])"
   ]
  },
  {
   "cell_type": "code",
   "execution_count": 21,
   "id": "c28cf838",
   "metadata": {},
   "outputs": [
    {
     "name": "stderr",
     "output_type": "stream",
     "text": [
      "/Users/chadi/anaconda3/lib/python3.11/site-packages/xarray/core/duck_array_ops.py:188: RuntimeWarning: invalid value encountered in cast\n",
      "  return data.astype(dtype, **kwargs)\n"
     ]
    }
   ],
   "source": [
    "ll_total, logloss, regularizations = gempyor_inference.logloss.compute_logloss(\n",
    "            model_df=outcomes_df, subpop_names=gempyor_inference.modinf.subpop_struct.subpop_names\n",
    "        )"
   ]
  },
  {
   "cell_type": "code",
   "execution_count": 17,
   "id": "d9f3bcad",
   "metadata": {},
   "outputs": [],
   "source": [
    "filename = f\"{run_id}_backend.h5\"\n",
    "sampler = emcee.backends.HDFBackend(filename, read_only=True) "
   ]
  },
  {
   "cell_type": "code",
   "execution_count": 26,
   "id": "c9d2b884",
   "metadata": {},
   "outputs": [
    {
     "name": "stdout",
     "output_type": "stream",
     "text": [
      "generating chain plot\n"
     ]
    },
    {
     "name": "stderr",
     "output_type": "stream",
     "text": [
      "100%|██████████| 3/3 [00:05<00:00,  1.99s/it]"
     ]
    },
    {
     "name": "stdout",
     "output_type": "stream",
     "text": [
      "EMCEE Run done, doing sampling\n"
     ]
    },
    {
     "name": "stderr",
     "output_type": "stream",
     "text": [
      "\n"
     ]
    }
   ],
   "source": [
    "filename = \"COVID19_Disparities/COVID19_Disparities/calib_Disparities_small_backend.h5\"\n",
    "filename = \"COVID19_Disparities/calib_Displocal_backend.h5\"\n",
    "filename = \"COVID19_Disparities/COVID19_Disparities/calib_Disparities_backend.h5\"\n",
    "#filename = \"COVID19_Disparities/COVID19_Disparities/calib_Disparities_small_backend.h5\"\n",
    "\n",
    "# run_id = filename.split(\"/\")[-1].split(\".\")[0] # auto_detect run_id\n",
    "sampler = emcee.backends.HDFBackend(filename, read_only=True)\n",
    "\n",
    "nsamples=10\n",
    "chain_index = -1 # -1 for last\n",
    "chain_index = 4730\n",
    "\n",
    "max_indices = np.argsort(sampler.get_log_prob()[chain_index, :])[-nsamples:]\n",
    "chains = sampler.get_chain()[:chain_index, max_indices, :]        # the last iteration, for selected slots\n",
    "llik = sampler.get_log_prob()[:chain_index, max_indices]\n",
    "\n",
    "gempyor.postprocess_inference.plot_chains(\n",
    "        inferpar=gempyor_inference.inferpar, chains=chains, llik=llik, sampled_slots=None, save_to=f\"{run_id}_chains2.pdf\"\n",
    "    )\n",
    "print(\"EMCEE Run done, doing sampling\")"
   ]
  },
  {
   "cell_type": "code",
   "execution_count": 3,
   "id": "acc74aac",
   "metadata": {},
   "outputs": [
    {
     "data": {
      "text/plain": [
       "(5758, 500, 78)"
      ]
     },
     "execution_count": 3,
     "metadata": {},
     "output_type": "execute_result"
    }
   ],
   "source": [
    "sampler.get_chain().shape"
   ]
  },
  {
   "cell_type": "code",
   "execution_count": 27,
   "id": "8065f5ed",
   "metadata": {},
   "outputs": [],
   "source": [
    "shutil.rmtree(\"model_output/\", ignore_errors=True)\n",
    "shutil.rmtree(project_path + \"/model_output/\", ignore_errors=True)\n",
    "\n",
    "samples = sampler.get_chain()[chain_index, max_indices, :]  # the last iteration, for selected slots\n",
    "gempyor_inference.set_save(True)\n",
    "with multiprocessing.Pool(ncpu) as pool:\n",
    "    results = pool.starmap(\n",
    "        gempyor_inference.get_logloss_as_single_number, [(samples[i, :],) for i in range(len(max_indices))]\n",
    "    )"
   ]
  },
  {
   "cell_type": "code",
   "execution_count": 49,
   "id": "4bcf77de",
   "metadata": {},
   "outputs": [
    {
     "name": "stdout",
     "output_type": "stream",
     "text": [
      "10\n"
     ]
    }
   ],
   "source": [
    "results = []\n",
    "for fn in gempyor.utils.list_filenames(folder=project_path+\"/model_output/\", filters=[\"hosp.parquet\"]): ## TODO: here project path is correct, but use to concatenate path. the right way\n",
    "   df = gempyor.read_df(fn)\n",
    "   df = df.set_index(\"date\")\n",
    "   results.append(df)\n",
    "print(len(results))"
   ]
  },
  {
   "cell_type": "code",
   "execution_count": 50,
   "id": "2556738e",
   "metadata": {},
   "outputs": [],
   "source": [
    "def plot_fit(modinf, inferpar, loss, list_of_df, save_to):\n",
    "    with PdfPages(f\"{save_to}\") as pdf:\n",
    "            d = pdf.infodict()\n",
    "            d[\"Title\"] = \"FlepiMoP Inference Fit\"\n",
    "            d[\"Author\"] = \"FlepiMoP Inference\"\n",
    "            \n",
    "\n",
    "            for j, subpop in enumerate(modinf.subpop_struct.subpop_names):\n",
    "                fig, axes = plt.subplots(1, len(loss.statistics), figsize=(3 * len(loss.statistics), 4), sharex=True)\n",
    "                \n",
    "                gt_s = loss.gt[loss.gt[\"subpop\"] == subpop].sort_index()\n",
    "                first_date = max(gt_s.index.min(), list_of_df[0].index.min())\n",
    "                last_date = min(gt_s.index.max(), list_of_df[0].index.max())\n",
    "                gt_s = gt_s.loc[first_date:last_date].drop([\"subpop\"], axis=1).resample(\"W-SAT\").sum()\n",
    "\n",
    "                for i, (stat_name, stat) in enumerate(loss.statistics.items()):\n",
    "                    ax = axes[i]\n",
    "                    ax.plot(gt_s[stat.data_var], color=\"k\", marker=\".\", lw=1)\n",
    "                    #transformed_gt = stat.apply_transforms(gt_s[stat.data_var].to_xarray())\n",
    "                    #ax.plot(transformed_gt.date, transformed_gt, color=\"k\", marker=\".\", lw=1)\n",
    "                    for model_df in list_of_df:\n",
    "\n",
    "                        model_df_s = (\n",
    "                            model_df[model_df[\"subpop\"] == subpop]\n",
    "                            .drop([\"subpop\"], axis=1)\n",
    "                            #.loc[first_date:last_date]\n",
    "                            .resample(\"W-SAT\")\n",
    "                            .sum()\n",
    "                        )  # todo sub subpop here\n",
    "                        ax.plot(model_df_s[stat.sim_var], lw=0.9, alpha=0.5)\n",
    "                        #transformed_model = stat.apply_transforms(model_df_s[stat.sim_var].to_xarray())\n",
    "                        #ax.plot(transformed_model.date,  transformed_model, lw=0.9, alpha=0.5)\n",
    "\n",
    "                    # if True:\n",
    "                    #        init_df_s = outcomes_df_ref[model_df[\"subpop\"]==subpop].drop([\"subpop\",\"time\"],axis=1).loc[min(gt_s.index):max(gt_s.index)].resample(\"W-SAT\").sum() # todo sub subpop here\n",
    "                    ax.set_title(f\"{stat_name}, {subpop}\")\n",
    "\n",
    "                # makde date readable:\n",
    "                fig.autofmt_xdate()\n",
    "                fig.tight_layout()\n",
    "                pdf.savefig(fig)\n",
    "                plt.close(fig)\n",
    "\n",
    "gempyor.postprocess_inference.plot_fit(modinf=gempyor_inference.modinf, loss=gempyor_inference.logloss, list_of_df=results, save_to=f\"{run_id}_fit_grempyor.pdf\")\n",
    "plot_fit(modinf=gempyor_inference.modinf, inferpar=gempyor_inference.inferpar, loss=gempyor_inference.logloss, list_of_df=results, save_to=f\"{run_id}_fit_notebook.pdf\")"
   ]
  },
  {
   "cell_type": "code",
   "execution_count": 172,
   "id": "5b81fddd",
   "metadata": {},
   "outputs": [],
   "source": [
    "from importlib import reload\n",
    "gempyor = reload(gempyor)"
   ]
  },
  {
   "cell_type": "markdown",
   "id": "55ba38f1",
   "metadata": {},
   "source": [
    "# plot $R_t$"
   ]
  },
  {
   "cell_type": "code",
   "execution_count": 40,
   "id": "5459db25",
   "metadata": {},
   "outputs": [
    {
     "name": "stdout",
     "output_type": "stream",
     "text": [
      "10\n"
     ]
    }
   ],
   "source": [
    "to_plot=\"snpi\"\n",
    "\n",
    "results_fn = []\n",
    "for fn in gempyor.utils.list_filenames(folder=project_path+\"/model_output/\", filters=[to_plot+\".parquet\"]): ## TODO: here project path is correct, but use to concatenate path. the right way\n",
    "    results_fn.append(fn)\n",
    "print(len(results_fn))\n",
    "\n",
    "all_parsed_params = []\n",
    "for fn in results_fn:\n",
    "    if False:\n",
    "        p_draw = run_info.gempyor_inference.modinf.parameters.parameters_quick_draw(n_days=run_info.gempyor_inference.modinf.n_days, nsubpops=run_info.gempyor_inference.modinf.nsubpops)\n",
    "        npi_seir = gempyor.seir.build_npi_SEIR(modinf=run_info.gempyor_inference.modinf, load_ID=False, sim_id2load=None, config=config)\n",
    "    else:\n",
    "        p_draw = gempyor_inference.get_seir_parameters(bypass_FN=fn.replace(\"snpi\", \"spar\"), load_ID=True)\n",
    "        npi_seir = gempyor.seir.build_npi_SEIR(modinf=gempyor_inference.modinf, load_ID=True, bypass_FN=fn, sim_id2load=None, config=None)\n",
    "    parameters = gempyor_inference.modinf.parameters.parameters_reduce(p_draw, npi_seir)\n",
    "    parsed_parameters = gempyor_inference.modinf.compartments.parse_parameters(parameters, gempyor_inference.modinf.parameters.pnames, gempyor_inference.static_sim_arguments[\"unique_strings\"])\n",
    "    all_parsed_params.append(parsed_parameters)"
   ]
  },
  {
   "cell_type": "code",
   "execution_count": 47,
   "id": "72ff979b",
   "metadata": {},
   "outputs": [
    {
     "name": "stderr",
     "output_type": "stream",
     "text": [
      "497it [01:23,  5.95it/s]\n"
     ]
    }
   ],
   "source": [
    "pdf = PdfPages(f'Unique Parsed Parameter for {run_id}.pdf')\n",
    "d = pdf.infodict()\n",
    "d[\"Title\"] = \"parsed parameters\"\n",
    "d[\"Author\"] = \"jlemaitre\"\n",
    "import tqdm\n",
    "\n",
    "for k,uniq_pname in tqdm.tqdm(enumerate(gempyor_inference.static_sim_arguments[\"unique_strings\"])):\n",
    "    if True:#'r0*gamma*theta1*1*chi_OMICRON*1' in uniq_pname:\n",
    "        fig, axes = plt.subplots(len(gempyor_inference.modinf.subpop_struct.subpop_names), 1, \n",
    "                                figsize=(10, len(gempyor_inference.modinf.subpop_struct.subpop_names)*3), \n",
    "                                sharex=True, sharey=True)\n",
    "        fig.suptitle(uniq_pname, fontsize=22)\n",
    "        #print(uniq_pname)\n",
    "        for i, geoid in enumerate(gempyor_inference.modinf.subpop_struct.subpop_names):\n",
    "            ax = axes.flat[i]\n",
    "            ax.set_title(geoid)\n",
    "            ax.grid()\n",
    "            for l in range(len(all_parsed_params)):\n",
    "                df = pd.DataFrame(all_parsed_params[l][k,:,i], index=pd.date_range(gempyor_inference.modinf.ti, \n",
    "                                                                                gempyor_inference.modinf.tf, \n",
    "                                                                                freq=\"D\"))\n",
    "                ax.plot(df, lw=.5) #df[:'2021-12-31']\n",
    "            fig.autofmt_xdate()\n",
    "        fig.tight_layout()\n",
    "        pdf.savefig(fig)\n",
    "        plt.close(fig)\n",
    "pdf.close()"
   ]
  },
  {
   "cell_type": "code",
   "execution_count": null,
   "id": "e3f60525",
   "metadata": {},
   "outputs": [],
   "source": [
    "samples = sampler.get_chain()[-1,max_indices ,:]\n",
    "a = [(samples[i,:],) for i in range(len(max_indices))]"
   ]
  },
  {
   "cell_type": "code",
   "execution_count": null,
   "id": "6225d1bf",
   "metadata": {},
   "outputs": [],
   "source": [
    "simulation_atomic(**ss, modinf=self.modinf, save=self.save)"
   ]
  },
  {
   "cell_type": "markdown",
   "id": "4f8c7295",
   "metadata": {},
   "source": [
    "# manual injection to understand the parameters"
   ]
  },
  {
   "cell_type": "code",
   "execution_count": 2,
   "id": "3cf40d6a",
   "metadata": {},
   "outputs": [],
   "source": [
    "p0 = gempyor_inference.inferpar.draw_initial(n_draw=nwalkers)\n",
    "test_set = p0[0]\n",
    "\n",
    "outcome_df_ref = gempyor_inference.simulate_proposal(test_set)"
   ]
  },
  {
   "cell_type": "code",
   "execution_count": null,
   "id": "6ea2c48f",
   "metadata": {},
   "outputs": [],
   "source": []
  },
  {
   "cell_type": "code",
   "execution_count": 31,
   "id": "f0e53d38",
   "metadata": {},
   "outputs": [
    {
     "name": "stdout",
     "output_type": "stream",
     "text": [
      "['chi_ALPHA_globalvar', 'waning_npi', 'asian_mod', 'black_mod', 'latino_mod', 'other_mod', 'white_mod', 'r0_globalvar', 'local_variance', 'local_variance', 'Seas_aug', 'Seas_aug', 'Seas_feb', 'Seas_feb', 'Seas_jan', 'Seas_jan', 'Seas_jul', 'Seas_jul', 'Seas_jun', 'Seas_jun', 'Seas_mar', 'Seas_mar', 'Seas_may', 'Seas_may', 'Seas_oct', 'Seas_oct', 'Seas_sep', 'Seas_sep', 'CA_lockdownA_asian', 'CA_open_p2A_asian', 'CA_open_p2B_asian', 'CA_open_p1A_asian', 'CA_lockdownA_black', 'CA_open_p2A_black', 'CA_open_p2B_black', 'CA_open_p1A_black', 'CA_lockdownA_latino', 'CA_open_p2A_latino', 'CA_open_p2B_latino', 'CA_open_p1A_latino', 'CA_lockdownA_other', 'CA_open_p2A_other', 'CA_open_p2B_other', 'CA_open_p1A_other', 'CA_lockdownA_white', 'CA_open_p2A_white', 'CA_open_p2B_white', 'CA_open_p1A_white', 'NC_lockdownA_asian', 'NC_open_p1A_asian', 'NC_open_p2A_asian', 'NC_open_p2B_asian', 'NC_open_p3A_asian', 'NC_lockdownA_black', 'NC_open_p1A_black', 'NC_open_p2A_black', 'NC_open_p2B_black', 'NC_open_p3A_black', 'NC_lockdownA_other', 'NC_open_p1A_other', 'NC_open_p2A_other', 'NC_open_p2B_other', 'NC_open_p3A_other', 'NC_lockdownA_white', 'NC_open_p1A_white', 'NC_open_p2A_white', 'NC_open_p2B_white', 'NC_open_p3A_white', 'IFR_adjasian', 'IFR_adjasian', 'IFR_adjblack', 'IFR_adjblack', 'IFR_adjlatino', 'IFR_adjlatino', 'IFR_adjother', 'IFR_adjother', 'IFR_adjwhite', 'IFR_adjwhite']\n"
     ]
    }
   ],
   "source": [
    "print(gempyor_inference.inferpar.pnames)"
   ]
  },
  {
   "cell_type": "code",
   "execution_count": 47,
   "id": "0c9d29a7",
   "metadata": {},
   "outputs": [
    {
     "name": "stdout",
     "output_type": "stream",
     "text": [
      "seir_modifiers 06000,37000 chi_ALPHA_globalvar\n",
      "seir_modifiers 06000,37000 waning_npi\n",
      "seir_modifiers 06000,37000 asian_mod\n",
      "seir_modifiers 06000,37000 black_mod\n",
      "seir_modifiers 06000,37000 latino_mod\n",
      "seir_modifiers 06000,37000 other_mod\n",
      "seir_modifiers 06000,37000 white_mod\n",
      "seir_modifiers 06000,37000 r0_globalvar\n",
      "seir_modifiers 06000 local_variance\n",
      "seir_modifiers 37000 local_variance\n",
      "seir_modifiers 06000 Seas_aug\n",
      "seir_modifiers 37000 Seas_aug\n",
      "seir_modifiers 06000 Seas_feb\n",
      "seir_modifiers 37000 Seas_feb\n",
      "seir_modifiers 06000 Seas_jan\n",
      "seir_modifiers 37000 Seas_jan\n",
      "seir_modifiers 06000 Seas_jul\n",
      "seir_modifiers 37000 Seas_jul\n",
      "seir_modifiers 06000 Seas_jun\n",
      "seir_modifiers 37000 Seas_jun\n",
      "seir_modifiers 06000 Seas_mar\n",
      "seir_modifiers 37000 Seas_mar\n",
      "seir_modifiers 06000 Seas_may\n",
      "seir_modifiers 37000 Seas_may\n",
      "seir_modifiers 06000 Seas_oct\n",
      "seir_modifiers 37000 Seas_oct\n",
      "seir_modifiers 06000 Seas_sep\n",
      "seir_modifiers 37000 Seas_sep\n",
      "seir_modifiers 06000 CA_lockdownA_asian\n",
      "seir_modifiers 06000 CA_open_p2A_asian\n",
      "seir_modifiers 06000 CA_open_p2B_asian\n",
      "seir_modifiers 06000 CA_open_p1A_asian\n",
      "seir_modifiers 06000 CA_lockdownA_black\n",
      "seir_modifiers 06000 CA_open_p2A_black\n",
      "seir_modifiers 06000 CA_open_p2B_black\n",
      "seir_modifiers 06000 CA_open_p1A_black\n",
      "seir_modifiers 06000 CA_lockdownA_latino\n",
      "seir_modifiers 06000 CA_open_p2A_latino\n",
      "seir_modifiers 06000 CA_open_p2B_latino\n",
      "seir_modifiers 06000 CA_open_p1A_latino\n",
      "seir_modifiers 06000 CA_lockdownA_other\n",
      "seir_modifiers 06000 CA_open_p2A_other\n",
      "seir_modifiers 06000 CA_open_p2B_other\n",
      "seir_modifiers 06000 CA_open_p1A_other\n",
      "seir_modifiers 06000 CA_lockdownA_white\n",
      "seir_modifiers 06000 CA_open_p2A_white\n",
      "seir_modifiers 06000 CA_open_p2B_white\n",
      "seir_modifiers 06000 CA_open_p1A_white\n",
      "seir_modifiers 37000 NC_lockdownA_asian\n",
      "seir_modifiers 37000 NC_open_p1A_asian\n",
      "seir_modifiers 37000 NC_open_p2A_asian\n",
      "seir_modifiers 37000 NC_open_p2B_asian\n",
      "seir_modifiers 37000 NC_open_p3A_asian\n",
      "seir_modifiers 37000 NC_lockdownA_black\n",
      "seir_modifiers 37000 NC_open_p1A_black\n",
      "seir_modifiers 37000 NC_open_p2A_black\n",
      "seir_modifiers 37000 NC_open_p2B_black\n",
      "seir_modifiers 37000 NC_open_p3A_black\n",
      "seir_modifiers 37000 NC_lockdownA_other\n",
      "seir_modifiers 37000 NC_open_p1A_other\n",
      "seir_modifiers 37000 NC_open_p2A_other\n",
      "seir_modifiers 37000 NC_open_p2B_other\n",
      "seir_modifiers 37000 NC_open_p3A_other\n",
      "seir_modifiers 37000 NC_lockdownA_white\n",
      "seir_modifiers 37000 NC_open_p1A_white\n",
      "seir_modifiers 37000 NC_open_p2A_white\n",
      "seir_modifiers 37000 NC_open_p2B_white\n",
      "seir_modifiers 37000 NC_open_p3A_white\n",
      "outcome_modifiers 06000 IFR_adjasian\n",
      "outcome_modifiers 37000 IFR_adjasian\n",
      "outcome_modifiers 06000 IFR_adjblack\n",
      "outcome_modifiers 37000 IFR_adjblack\n",
      "outcome_modifiers 06000 IFR_adjlatino\n",
      "outcome_modifiers 37000 IFR_adjlatino\n",
      "outcome_modifiers 06000 IFR_adjother\n",
      "outcome_modifiers 37000 IFR_adjother\n",
      "outcome_modifiers 06000 IFR_adjwhite\n",
      "outcome_modifiers 37000 IFR_adjwhite\n"
     ]
    }
   ],
   "source": [
    "for i in zip(gempyor_inference.inferpar.ptypes, gempyor_inference.inferpar.subpops, gempyor_inference.inferpar.pnames):\n",
    "    print(i[0], i[1], i[2])"
   ]
  },
  {
   "cell_type": "code",
   "execution_count": 50,
   "id": "07fbbcc3",
   "metadata": {},
   "outputs": [
    {
     "data": {
      "image/png": "[encoded data removed]",
      "text/plain": [
       "<Figure size 1500x400 with 5 Axes>"
      ]
     },
     "metadata": {},
     "output_type": "display_data"
    },
    {
     "data": {
      "image/png": "[encoded data removed]",
      "text/plain": [
       "<Figure size 1500x400 with 5 Axes>"
      ]
     },
     "metadata": {},
     "output_type": "display_data"
    }
   ],
   "source": [
    "test_set = copy.deepcopy(p0[0])\n",
    "\n",
    "# change all the values that have gempyor_inference.inferpar.pnames containing \"IFR\" to 0.1\n",
    "for i, pname in enumerate(gempyor_inference.inferpar.pnames):\n",
    "    this_sp = gempyor_inference.inferpar.subpops[i]\n",
    "    if \"IFR\" in pname:\n",
    "        test_set[i] *= 2\n",
    "        if \"black\" in pname:\n",
    "             test_set[i] *= 1.5\n",
    "    if \"latino_mod\" in pname:\n",
    "        test_set[i] *= 1.5\n",
    "    if \"white_mod\" in pname:\n",
    "        test_set[i] /= 1.5\n",
    "    if \"r0\" in pname:\n",
    "        test_set[i] *= 1\n",
    "    if \"local_variance\" in pname:\n",
    "        if this_sp == \"37000\":\n",
    "            test_set[i] *= 2\n",
    "gempyor_inference.set_save(True)\n",
    "outcome_df = gempyor_inference.simulate_proposal(test_set)\n",
    "modinf=gempyor_inference.modinf\n",
    "inferpar=gempyor_inference.inferpar\n",
    "loss=gempyor_inference.logloss\n",
    "list_of_df=[outcome_df]\n",
    "\n",
    "\n",
    "for j, subpop in enumerate(modinf.subpop_struct.subpop_names):\n",
    "                fig, axes = plt.subplots(1, len(loss.statistics), figsize=(3 * len(loss.statistics), 4), sharex=True)\n",
    "                \n",
    "                gt_s = loss.gt[loss.gt[\"subpop\"] == subpop].sort_index()\n",
    "                first_date = max(gt_s.index.min(), list_of_df[0].index.min())\n",
    "                last_date = min(gt_s.index.max(), list_of_df[0].index.max())\n",
    "                gt_s = gt_s.loc[first_date:last_date].drop([\"subpop\"], axis=1).resample(\"W-SAT\").sum()\n",
    "\n",
    "                for i, (stat_name, stat) in enumerate(loss.statistics.items()):\n",
    "                    ax = axes[i]\n",
    "                    ax.plot(gt_s[stat.data_var], color=\"k\", marker=\".\", lw=1)\n",
    "                    for model_df in list_of_df:\n",
    "                        model_df_s = (\n",
    "                            model_df[model_df[\"subpop\"] == subpop]\n",
    "                            .drop([\"subpop\"], axis=1)\n",
    "                            .loc[first_date:last_date]\n",
    "                            .resample(\"W-SAT\")\n",
    "                            .sum()\n",
    "                        )  # todo sub subpop here\n",
    "                        ax.plot(model_df_s[stat.sim_var], lw=0.9, alpha=0.5)\n",
    "                    # if True:\n",
    "                    #        init_df_s = outcomes_df_ref[model_df[\"subpop\"]==subpop].drop([\"subpop\",\"time\"],axis=1).loc[min(gt_s.index):max(gt_s.index)].resample(\"W-SAT\").sum() # todo sub subpop here\n",
    "                    ax.set_title(f\"{stat_name}, {subpop}\")\n",
    "                fig.tight_layout()"
   ]
  },
  {
   "cell_type": "code",
   "execution_count": 4,
   "id": "1e81ee21",
   "metadata": {},
   "outputs": [],
   "source": [
    "df = gempyor.read_df(\"COVID19_Disparities/model_output/USA_inference_all/calib_R18/seir/003333122.calib_R18.seir.parquet\")"
   ]
  },
  {
   "cell_type": "code",
   "execution_count": null,
   "id": "0d1ff4c3",
   "metadata": {},
   "outputs": [],
   "source": []
  },
  {
   "cell_type": "code",
   "execution_count": 34,
   "id": "738b5c26",
   "metadata": {},
   "outputs": [],
   "source": [
    "a = df[df[\"mc_value_type\"]==\"prevalence\"].drop([c for c in df.columns if (\"mc\" in c and \"race\" not in c)], axis=1).groupby([\"date\", \"mc_race_strata\"]).sum().reset_index()"
   ]
  },
  {
   "cell_type": "code",
   "execution_count": null,
   "id": "3c104e7a",
   "metadata": {},
   "outputs": [],
   "source": []
  },
  {
   "cell_type": "code",
   "execution_count": 36,
   "id": "18b9a156",
   "metadata": {},
   "outputs": [
    {
     "data": {
      "text/plain": [
       "<Axes: xlabel='date'>"
      ]
     },
     "execution_count": 36,
     "metadata": {},
     "output_type": "execute_result"
    },
    {
     "data": {
      "image/png": "[encoded data removed]",
      "text/plain": [
       "<Figure size 640x480 with 1 Axes>"
      ]
     },
     "metadata": {},
     "output_type": "display_data"
    }
   ],
   "source": [
    "asian = a[a[\"mc_race_strata\"]==\"asian\"]\n",
    "asian.set_index(\"date\").drop(\"mc_race_strata\", axis=1).plot()"
   ]
  },
  {
   "cell_type": "code",
   "execution_count": 37,
   "id": "f58548fa",
   "metadata": {},
   "outputs": [
    {
     "data": {
      "text/plain": [
       "<Axes: xlabel='date'>"
      ]
     },
     "execution_count": 37,
     "metadata": {},
     "output_type": "execute_result"
    },
    {
     "data": {
      "image/png": "[encoded data removed]",
      "text/plain": [
       "<Figure size 640x480 with 1 Axes>"
      ]
     },
     "metadata": {},
     "output_type": "display_data"
    }
   ],
   "source": [
    "black = a[a[\"mc_race_strata\"]==\"black\"]\n",
    "black.set_index(\"date\").drop(\"mc_race_strata\", axis=1).plot()"
   ]
  },
  {
   "cell_type": "code",
   "execution_count": 30,
   "id": "59a88042",
   "metadata": {},
   "outputs": [
    {
     "data": {
      "text/html": [
       "<div>\n",
       "<style scoped>\n",
       "    .dataframe tbody tr th:only-of-type {\n",
       "        vertical-align: middle;\n",
       "    }\n",
       "\n",
       "    .dataframe tbody tr th {\n",
       "        vertical-align: top;\n",
       "    }\n",
       "\n",
       "    .dataframe thead th {\n",
       "        text-align: right;\n",
       "    }\n",
       "</style>\n",
       "<table border=\"1\" class=\"dataframe\">\n",
       "  <thead>\n",
       "    <tr style=\"text-align: right;\">\n",
       "      <th></th>\n",
       "      <th>date</th>\n",
       "      <th>mc_race_strata</th>\n",
       "      <th>06000</th>\n",
       "      <th>37000</th>\n",
       "    </tr>\n",
       "  </thead>\n",
       "  <tbody>\n",
       "    <tr>\n",
       "      <th>4</th>\n",
       "      <td>2020-01-01</td>\n",
       "      <td>black</td>\n",
       "      <td>0.000000e+00</td>\n",
       "      <td>0.000000e+00</td>\n",
       "    </tr>\n",
       "    <tr>\n",
       "      <th>5</th>\n",
       "      <td>2020-01-01</td>\n",
       "      <td>black</td>\n",
       "      <td>2.822285e+05</td>\n",
       "      <td>2.957676e+05</td>\n",
       "    </tr>\n",
       "    <tr>\n",
       "      <th>6</th>\n",
       "      <td>2020-01-01</td>\n",
       "      <td>black</td>\n",
       "      <td>4.030599e+05</td>\n",
       "      <td>5.401527e+05</td>\n",
       "    </tr>\n",
       "    <tr>\n",
       "      <th>7</th>\n",
       "      <td>2020-01-01</td>\n",
       "      <td>black</td>\n",
       "      <td>1.457098e+06</td>\n",
       "      <td>1.426172e+06</td>\n",
       "    </tr>\n",
       "    <tr>\n",
       "      <th>24</th>\n",
       "      <td>2020-01-02</td>\n",
       "      <td>black</td>\n",
       "      <td>0.000000e+00</td>\n",
       "      <td>0.000000e+00</td>\n",
       "    </tr>\n",
       "    <tr>\n",
       "      <th>...</th>\n",
       "      <td>...</td>\n",
       "      <td>...</td>\n",
       "      <td>...</td>\n",
       "      <td>...</td>\n",
       "    </tr>\n",
       "    <tr>\n",
       "      <th>206791</th>\n",
       "      <td>2021-04-03</td>\n",
       "      <td>black</td>\n",
       "      <td>3.373912e+03</td>\n",
       "      <td>7.489302e+02</td>\n",
       "    </tr>\n",
       "    <tr>\n",
       "      <th>206792</th>\n",
       "      <td>2021-04-03</td>\n",
       "      <td>black</td>\n",
       "      <td>5.039813e+03</td>\n",
       "      <td>9.360681e+02</td>\n",
       "    </tr>\n",
       "    <tr>\n",
       "      <th>206793</th>\n",
       "      <td>2021-04-03</td>\n",
       "      <td>black</td>\n",
       "      <td>2.788557e+05</td>\n",
       "      <td>2.906934e+05</td>\n",
       "    </tr>\n",
       "    <tr>\n",
       "      <th>206794</th>\n",
       "      <td>2021-04-03</td>\n",
       "      <td>black</td>\n",
       "      <td>4.005368e+05</td>\n",
       "      <td>5.395067e+05</td>\n",
       "    </tr>\n",
       "    <tr>\n",
       "      <th>206795</th>\n",
       "      <td>2021-04-03</td>\n",
       "      <td>black</td>\n",
       "      <td>1.446369e+06</td>\n",
       "      <td>1.411212e+06</td>\n",
       "    </tr>\n",
       "  </tbody>\n",
       "</table>\n",
       "<p>41416 rows × 4 columns</p>\n",
       "</div>"
      ],
      "text/plain": [
       "             date mc_race_strata         06000         37000\n",
       "4      2020-01-01          black  0.000000e+00  0.000000e+00\n",
       "5      2020-01-01          black  2.822285e+05  2.957676e+05\n",
       "6      2020-01-01          black  4.030599e+05  5.401527e+05\n",
       "7      2020-01-01          black  1.457098e+06  1.426172e+06\n",
       "24     2020-01-02          black  0.000000e+00  0.000000e+00\n",
       "...           ...            ...           ...           ...\n",
       "206791 2021-04-03          black  3.373912e+03  7.489302e+02\n",
       "206792 2021-04-03          black  5.039813e+03  9.360681e+02\n",
       "206793 2021-04-03          black  2.788557e+05  2.906934e+05\n",
       "206794 2021-04-03          black  4.005368e+05  5.395067e+05\n",
       "206795 2021-04-03          black  1.446369e+06  1.411212e+06\n",
       "\n",
       "[41416 rows x 4 columns]"
      ]
     },
     "execution_count": 30,
     "metadata": {},
     "output_type": "execute_result"
    }
   ],
   "source": [
    "black"
   ]
  },
  {
   "cell_type": "code",
   "execution_count": null,
   "id": "89ac63f2",
   "metadata": {},
   "outputs": [],
   "source": []
  },
  {
   "cell_type": "code",
   "execution_count": 17,
   "id": "4b99ffd9",
   "metadata": {},
   "outputs": [
    {
     "name": "stdout",
     "output_type": "stream",
     "text": [
      "test run successful 🎉, with logloss=-271424.0 including 0.0 for regularization (-0.0%) \n"
     ]
    },
    {
     "name": "stderr",
     "output_type": "stream",
     "text": [
      "/Users/chadi/anaconda3/lib/python3.11/site-packages/xarray/core/duck_array_ops.py:188: RuntimeWarning: invalid value encountered in cast\n",
      "  return data.astype(dtype, **kwargs)\n"
     ]
    },
    {
     "data": {
      "text/plain": [
       "(           subpop  incidI_1dose_ALPHA_age0to17_asian  \\\n",
       " date                                                   \n",
       " 2020-01-01  06000                                0.0   \n",
       " 2020-01-02  06000                                0.0   \n",
       " 2020-01-03  06000                                0.0   \n",
       " 2020-01-04  06000                                0.0   \n",
       " 2020-01-05  06000                                0.0   \n",
       " ...           ...                                ...   \n",
       " 2021-03-30  37000                                0.0   \n",
       " 2021-03-31  37000                                0.0   \n",
       " 2021-04-01  37000                                0.0   \n",
       " 2021-04-02  37000                                0.0   \n",
       " 2021-04-03  37000                                0.0   \n",
       " \n",
       "             incidI_1dose_ALPHA_age0to17_black  \\\n",
       " date                                            \n",
       " 2020-01-01                                0.0   \n",
       " 2020-01-02                                0.0   \n",
       " 2020-01-03                                0.0   \n",
       " 2020-01-04                                0.0   \n",
       " 2020-01-05                                0.0   \n",
       " ...                                       ...   \n",
       " 2021-03-30                                0.0   \n",
       " 2021-03-31                                0.0   \n",
       " 2021-04-01                                0.0   \n",
       " 2021-04-02                                0.0   \n",
       " 2021-04-03                                0.0   \n",
       " \n",
       "             incidI_1dose_ALPHA_age0to17_latino  \\\n",
       " date                                             \n",
       " 2020-01-01                                 0.0   \n",
       " 2020-01-02                                 0.0   \n",
       " 2020-01-03                                 0.0   \n",
       " 2020-01-04                                 0.0   \n",
       " 2020-01-05                                 0.0   \n",
       " ...                                        ...   \n",
       " 2021-03-30                                 0.0   \n",
       " 2021-03-31                                 0.0   \n",
       " 2021-04-01                                 0.0   \n",
       " 2021-04-02                                 0.0   \n",
       " 2021-04-03                                 0.0   \n",
       " \n",
       "             incidI_1dose_ALPHA_age0to17_other  \\\n",
       " date                                            \n",
       " 2020-01-01                                0.0   \n",
       " 2020-01-02                                0.0   \n",
       " 2020-01-03                                0.0   \n",
       " 2020-01-04                                0.0   \n",
       " 2020-01-05                                0.0   \n",
       " ...                                       ...   \n",
       " 2021-03-30                                0.0   \n",
       " 2021-03-31                                0.0   \n",
       " 2021-04-01                                0.0   \n",
       " 2021-04-02                                0.0   \n",
       " 2021-04-03                                0.0   \n",
       " \n",
       "             incidI_1dose_ALPHA_age0to17_white  \\\n",
       " date                                            \n",
       " 2020-01-01                                0.0   \n",
       " 2020-01-02                                0.0   \n",
       " 2020-01-03                                0.0   \n",
       " 2020-01-04                                0.0   \n",
       " 2020-01-05                                0.0   \n",
       " ...                                       ...   \n",
       " 2021-03-30                                0.0   \n",
       " 2021-03-31                                0.0   \n",
       " 2021-04-01                                0.0   \n",
       " 2021-04-02                                0.0   \n",
       " 2021-04-03                                0.0   \n",
       " \n",
       "             incidI_1dose_IOTA_age0to17_asian  \\\n",
       " date                                           \n",
       " 2020-01-01                               0.0   \n",
       " 2020-01-02                               0.0   \n",
       " 2020-01-03                               0.0   \n",
       " 2020-01-04                               0.0   \n",
       " 2020-01-05                               0.0   \n",
       " ...                                      ...   \n",
       " 2021-03-30                               0.0   \n",
       " 2021-03-31                               0.0   \n",
       " 2021-04-01                               0.0   \n",
       " 2021-04-02                               0.0   \n",
       " 2021-04-03                               0.0   \n",
       " \n",
       "             incidI_1dose_IOTA_age0to17_black  \\\n",
       " date                                           \n",
       " 2020-01-01                               0.0   \n",
       " 2020-01-02                               0.0   \n",
       " 2020-01-03                               0.0   \n",
       " 2020-01-04                               0.0   \n",
       " 2020-01-05                               0.0   \n",
       " ...                                      ...   \n",
       " 2021-03-30                               0.0   \n",
       " 2021-03-31                               0.0   \n",
       " 2021-04-01                               0.0   \n",
       " 2021-04-02                               0.0   \n",
       " 2021-04-03                               0.0   \n",
       " \n",
       "             incidI_1dose_IOTA_age0to17_latino  \\\n",
       " date                                            \n",
       " 2020-01-01                                0.0   \n",
       " 2020-01-02                                0.0   \n",
       " 2020-01-03                                0.0   \n",
       " 2020-01-04                                0.0   \n",
       " 2020-01-05                                0.0   \n",
       " ...                                       ...   \n",
       " 2021-03-30                                0.0   \n",
       " 2021-03-31                                0.0   \n",
       " 2021-04-01                                0.0   \n",
       " 2021-04-02                                0.0   \n",
       " 2021-04-03                                0.0   \n",
       " \n",
       "             incidI_1dose_IOTA_age0to17_other  ...  \\\n",
       " date                                          ...   \n",
       " 2020-01-01                               0.0  ...   \n",
       " 2020-01-02                               0.0  ...   \n",
       " 2020-01-03                               0.0  ...   \n",
       " 2020-01-04                               0.0  ...   \n",
       " 2020-01-05                               0.0  ...   \n",
       " ...                                      ...  ...   \n",
       " 2021-03-30                               0.0  ...   \n",
       " 2021-03-31                               0.0  ...   \n",
       " 2021-04-01                               0.0  ...   \n",
       " 2021-04-02                               0.0  ...   \n",
       " 2021-04-03                               0.0  ...   \n",
       " \n",
       "             incidD_waned_WILD_age65to100_black  \\\n",
       " date                                             \n",
       " 2020-01-01                        0.000000e+00   \n",
       " 2020-01-02                        0.000000e+00   \n",
       " 2020-01-03                        0.000000e+00   \n",
       " 2020-01-04                        0.000000e+00   \n",
       " 2020-01-05                        0.000000e+00   \n",
       " ...                                        ...   \n",
       " 2021-03-30                        8.653173e-07   \n",
       " 2021-03-31                        8.653173e-07   \n",
       " 2021-04-01                        8.542839e-07   \n",
       " 2021-04-02                        8.542839e-07   \n",
       " 2021-04-03                        8.437496e-07   \n",
       " \n",
       "             incidD_waned_WILD_age65to100_latino  \\\n",
       " date                                              \n",
       " 2020-01-01                                  0.0   \n",
       " 2020-01-02                                  0.0   \n",
       " 2020-01-03                                  0.0   \n",
       " 2020-01-04                                  0.0   \n",
       " 2020-01-05                                  0.0   \n",
       " ...                                         ...   \n",
       " 2021-03-30                                  0.0   \n",
       " 2021-03-31                                  0.0   \n",
       " 2021-04-01                                  0.0   \n",
       " 2021-04-02                                  0.0   \n",
       " 2021-04-03                                  0.0   \n",
       " \n",
       "             incidD_waned_WILD_age65to100_other  \\\n",
       " date                                             \n",
       " 2020-01-01                        0.000000e+00   \n",
       " 2020-01-02                        0.000000e+00   \n",
       " 2020-01-03                        0.000000e+00   \n",
       " 2020-01-04                        0.000000e+00   \n",
       " 2020-01-05                        0.000000e+00   \n",
       " ...                                        ...   \n",
       " 2021-03-30                        1.882848e-07   \n",
       " 2021-03-31                        1.882848e-07   \n",
       " 2021-04-01                        1.867637e-07   \n",
       " 2021-04-02                        1.867637e-07   \n",
       " 2021-04-03                        1.852612e-07   \n",
       " \n",
       "             incidD_waned_WILD_age65to100_white  incidD_latino  incidD_black  \\\n",
       " date                                                                          \n",
       " 2020-01-01                            0.000000            0.0      0.000000   \n",
       " 2020-01-02                            0.000000            0.0      0.000000   \n",
       " 2020-01-03                            0.000000            0.0      0.000000   \n",
       " 2020-01-04                            0.000000            0.0      0.000000   \n",
       " 2020-01-05                            0.000000            0.0      0.000000   \n",
       " ...                                        ...            ...           ...   \n",
       " 2021-03-30                            0.000005            0.0      0.009838   \n",
       " 2021-03-31                            0.000005            0.0      0.009838   \n",
       " 2021-04-01                            0.000005            0.0      0.009485   \n",
       " 2021-04-02                            0.000005            0.0      0.009485   \n",
       " 2021-04-03                            0.000005            0.0      0.009142   \n",
       " \n",
       "             incidD_white  incidD_asian  incidD_other    incidD  \n",
       " date                                                            \n",
       " 2020-01-01      0.000000      0.000000      0.000000  0.000000  \n",
       " 2020-01-02      0.000000      0.000000      0.000000  0.000000  \n",
       " 2020-01-03      0.000000      0.000000      0.000000  0.000000  \n",
       " 2020-01-04      0.000000      0.000000      0.000000  0.000000  \n",
       " 2020-01-05      0.000000      0.000000      0.000000  0.000000  \n",
       " ...                  ...           ...           ...       ...  \n",
       " 2021-03-30      0.040568      0.000894      0.001812  0.053112  \n",
       " 2021-03-31      0.040568      0.000894      0.001812  0.053112  \n",
       " 2021-04-01      0.039065      0.000861      0.001748  0.051158  \n",
       " 2021-04-02      0.039065      0.000861      0.001748  0.051158  \n",
       " 2021-04-03      0.037616      0.000829      0.001685  0.049272  \n",
       " \n",
       " [918 rows x 373 columns],\n",
       " -271423.9775804669,\n",
       " <xarray.DataArray (statistic: 5, subpop: 2)>\n",
       " array([[-7.12148588e+04, -4.60000000e+01],\n",
       "        [-1.18751714e+04, -1.17328975e+04],\n",
       "        [-1.20281210e+05, -2.10920773e+04],\n",
       "        [-2.42557809e+04, -1.65876082e+02],\n",
       "        [-7.19389470e+03, -3.56621086e+03]])\n",
       " Coordinates:\n",
       "   * statistic  (statistic) <U16 'sum_death_latino' ... 'sum_death_other'\n",
       "   * subpop     (subpop) <U5 '06000' '37000',\n",
       " 0)"
      ]
     },
     "execution_count": 17,
     "metadata": {},
     "output_type": "execute_result"
    }
   ],
   "source": [
    "gempyor_inference.perform_test_run()"
   ]
  },
  {
   "cell_type": "code",
   "execution_count": null,
   "id": "3ca29574",
   "metadata": {},
   "outputs": [
    {
     "name": "stdout",
     "output_type": "stream",
     "text": [
      "llik is -45729.70247489614\n",
      "llik is -45842.41667236088\n",
      "llik is -45976.52186496037\n"
     ]
    },
    {
     "name": "stderr",
     "output_type": "stream",
     "text": [
      "  0%|          | 0/4 [00:00<?, ?it/s]"
     ]
    },
    {
     "name": "stdout",
     "output_type": "stream",
     "text": [
      "llik is -45757.469693276245\n",
      "llik is -45865.942736300945\n"
     ]
    },
    {
     "name": "stderr",
     "output_type": "stream",
     "text": [
      " 25%|██▌       | 1/4 [00:32<01:38, 32.96s/it]"
     ]
    },
    {
     "name": "stdout",
     "output_type": "stream",
     "text": [
      "llik is -45972.74954846854\n",
      "llik is -45591.36506356454\n",
      "llik is -45901.314939441305\n"
     ]
    },
    {
     "name": "stderr",
     "output_type": "stream",
     "text": [
      " 50%|█████     | 2/4 [01:05<01:05, 32.74s/it]"
     ]
    },
    {
     "name": "stdout",
     "output_type": "stream",
     "text": [
      "llik is -46074.59348286781\n",
      "llik is -45890.32092923346\n",
      "llik is -45969.61363397053\n"
     ]
    },
    {
     "name": "stderr",
     "output_type": "stream",
     "text": [
      " 75%|███████▌  | 3/4 [01:38<00:33, 33.00s/it]"
     ]
    },
    {
     "name": "stdout",
     "output_type": "stream",
     "text": [
      "llik is -45519.50216712484\n",
      "llik is -45544.68410035816\n",
      "llik is -45883.33418188836\n"
     ]
    }
   ],
   "source": [
    "filename = f\"{run_id}_backend.h5\"\n",
    "backend = emcee.backends.HDFBackend(filename)\n",
    "backend.reset(nwalkers, gempyor_inference.inferpar.get_dim())\n",
    "gempyor_inference.set_silent(False)\n",
    "with Pool(3) as pool:\n",
    "        sampler = emcee.EnsembleSampler(nwalkers, \n",
    "                                        gempyor_inference.inferpar.get_dim(), \n",
    "                                        gempyor_inference.get_logloss_as_single_number, \n",
    "                                        pool=pool,\n",
    "                                        backend=backend, moves=[(emcee.moves.StretchMove(live_dangerously=True), 1)])\n",
    "        state = sampler.run_mcmc(p0, niter, progress=True, skip_initial_state_check=True)"
   ]
  },
  {
   "cell_type": "code",
   "execution_count": null,
   "id": "079b87d3",
   "metadata": {},
   "outputs": [
    {
     "name": "stdout",
     "output_type": "stream",
     "text": [
      "llik: -46237.56540759982\n",
      "llik: -46051.281202656246\n",
      "llik: -45831.8716673561\n"
     ]
    },
    {
     "name": "stderr",
     "output_type": "stream",
     "text": [
      "  0%|          | 0/5 [00:00<?, ?it/s]"
     ]
    },
    {
     "name": "stdout",
     "output_type": "stream",
     "text": [
      "llik: -46099.484509051355\n",
      "llik: -46195.55396420405\n"
     ]
    },
    {
     "name": "stderr",
     "output_type": "stream",
     "text": [
      " 20%|██        | 1/5 [00:33<02:13, 33.33s/it]"
     ]
    },
    {
     "name": "stdout",
     "output_type": "stream",
     "text": [
      "llik: -45909.410404363836\n"
     ]
    },
    {
     "name": "stderr",
     "output_type": "stream",
     "text": [
      " 20%|██        | 1/5 [00:34<02:17, 34.33s/it]\n"
     ]
    },
    {
     "ename": "KeyboardInterrupt",
     "evalue": "",
     "output_type": "error",
     "traceback": [
      "\u001b[0;31m---------------------------------------------------------------------------\u001b[0m",
      "\u001b[0;31mKeyboardInterrupt\u001b[0m                         Traceback (most recent call last)",
      "Cell \u001b[0;32mIn[16], line 10\u001b[0m\n\u001b[1;32m      4\u001b[0m \u001b[38;5;28;01mwith\u001b[39;00m Pool(\u001b[38;5;241m3\u001b[39m) \u001b[38;5;28;01mas\u001b[39;00m pool:\n\u001b[1;32m      5\u001b[0m         sampler \u001b[38;5;241m=\u001b[39m emcee\u001b[38;5;241m.\u001b[39mEnsembleSampler(\u001b[38;5;241m3\u001b[39m, \n\u001b[1;32m      6\u001b[0m                                         inferpar\u001b[38;5;241m.\u001b[39mget_dim(), \n\u001b[1;32m      7\u001b[0m                                         a\u001b[38;5;241m.\u001b[39mrun, \n\u001b[1;32m      8\u001b[0m                                         pool\u001b[38;5;241m=\u001b[39mpool,\n\u001b[1;32m      9\u001b[0m                                         backend\u001b[38;5;241m=\u001b[39mbackend, moves\u001b[38;5;241m=\u001b[39m[(emcee\u001b[38;5;241m.\u001b[39mmoves\u001b[38;5;241m.\u001b[39mStretchMove(live_dangerously\u001b[38;5;241m=\u001b[39m\u001b[38;5;28;01mTrue\u001b[39;00m), \u001b[38;5;241m1\u001b[39m)])\n\u001b[0;32m---> 10\u001b[0m         state \u001b[38;5;241m=\u001b[39m sampler\u001b[38;5;241m.\u001b[39mrun_mcmc(p0[\u001b[38;5;241m0\u001b[39m:\u001b[38;5;241m3\u001b[39m,:], \u001b[38;5;241m5\u001b[39m, progress\u001b[38;5;241m=\u001b[39m\u001b[38;5;28;01mTrue\u001b[39;00m, skip_initial_state_check\u001b[38;5;241m=\u001b[39m\u001b[38;5;28;01mTrue\u001b[39;00m)\n",
      "File \u001b[0;32m~/anaconda3/lib/python3.11/site-packages/emcee/ensemble.py:443\u001b[0m, in \u001b[0;36mEnsembleSampler.run_mcmc\u001b[0;34m(self, initial_state, nsteps, **kwargs)\u001b[0m\n\u001b[1;32m    440\u001b[0m     initial_state \u001b[38;5;241m=\u001b[39m \u001b[38;5;28mself\u001b[39m\u001b[38;5;241m.\u001b[39m_previous_state\n\u001b[1;32m    442\u001b[0m results \u001b[38;5;241m=\u001b[39m \u001b[38;5;28;01mNone\u001b[39;00m\n\u001b[0;32m--> 443\u001b[0m \u001b[38;5;28;01mfor\u001b[39;00m results \u001b[38;5;129;01min\u001b[39;00m \u001b[38;5;28mself\u001b[39m\u001b[38;5;241m.\u001b[39msample(initial_state, iterations\u001b[38;5;241m=\u001b[39mnsteps, \u001b[38;5;241m*\u001b[39m\u001b[38;5;241m*\u001b[39mkwargs):\n\u001b[1;32m    444\u001b[0m     \u001b[38;5;28;01mpass\u001b[39;00m\n\u001b[1;32m    446\u001b[0m \u001b[38;5;66;03m# Store so that the ``initial_state=None`` case will work\u001b[39;00m\n",
      "File \u001b[0;32m~/anaconda3/lib/python3.11/site-packages/emcee/ensemble.py:402\u001b[0m, in \u001b[0;36mEnsembleSampler.sample\u001b[0;34m(self, initial_state, log_prob0, rstate0, blobs0, iterations, tune, skip_initial_state_check, thin_by, thin, store, progress, progress_kwargs)\u001b[0m\n\u001b[1;32m    399\u001b[0m move \u001b[38;5;241m=\u001b[39m \u001b[38;5;28mself\u001b[39m\u001b[38;5;241m.\u001b[39m_random\u001b[38;5;241m.\u001b[39mchoice(\u001b[38;5;28mself\u001b[39m\u001b[38;5;241m.\u001b[39m_moves, p\u001b[38;5;241m=\u001b[39m\u001b[38;5;28mself\u001b[39m\u001b[38;5;241m.\u001b[39m_weights)\n\u001b[1;32m    401\u001b[0m \u001b[38;5;66;03m# Propose\u001b[39;00m\n\u001b[0;32m--> 402\u001b[0m state, accepted \u001b[38;5;241m=\u001b[39m move\u001b[38;5;241m.\u001b[39mpropose(model, state)\n\u001b[1;32m    403\u001b[0m state\u001b[38;5;241m.\u001b[39mrandom_state \u001b[38;5;241m=\u001b[39m \u001b[38;5;28mself\u001b[39m\u001b[38;5;241m.\u001b[39mrandom_state\n\u001b[1;32m    405\u001b[0m \u001b[38;5;28;01mif\u001b[39;00m tune:\n",
      "File \u001b[0;32m~/anaconda3/lib/python3.11/site-packages/emcee/moves/red_blue.py:93\u001b[0m, in \u001b[0;36mRedBlueMove.propose\u001b[0;34m(self, model, state)\u001b[0m\n\u001b[1;32m     90\u001b[0m q, factors \u001b[38;5;241m=\u001b[39m \u001b[38;5;28mself\u001b[39m\u001b[38;5;241m.\u001b[39mget_proposal(s, c, model\u001b[38;5;241m.\u001b[39mrandom)\n\u001b[1;32m     92\u001b[0m \u001b[38;5;66;03m# Compute the lnprobs of the proposed position.\u001b[39;00m\n\u001b[0;32m---> 93\u001b[0m new_log_probs, new_blobs \u001b[38;5;241m=\u001b[39m model\u001b[38;5;241m.\u001b[39mcompute_log_prob_fn(q)\n\u001b[1;32m     95\u001b[0m \u001b[38;5;66;03m# Loop over the walkers and update them accordingly.\u001b[39;00m\n\u001b[1;32m     96\u001b[0m \u001b[38;5;28;01mfor\u001b[39;00m i, (j, f, nlp) \u001b[38;5;129;01min\u001b[39;00m \u001b[38;5;28menumerate\u001b[39m(\n\u001b[1;32m     97\u001b[0m     \u001b[38;5;28mzip\u001b[39m(all_inds[S1], factors, new_log_probs)\n\u001b[1;32m     98\u001b[0m ):\n",
      "File \u001b[0;32m~/anaconda3/lib/python3.11/site-packages/emcee/ensemble.py:489\u001b[0m, in \u001b[0;36mEnsembleSampler.compute_log_prob\u001b[0;34m(self, coords)\u001b[0m\n\u001b[1;32m    487\u001b[0m     \u001b[38;5;28;01melse\u001b[39;00m:\n\u001b[1;32m    488\u001b[0m         map_func \u001b[38;5;241m=\u001b[39m \u001b[38;5;28mmap\u001b[39m\n\u001b[0;32m--> 489\u001b[0m     results \u001b[38;5;241m=\u001b[39m \u001b[38;5;28mlist\u001b[39m(map_func(\u001b[38;5;28mself\u001b[39m\u001b[38;5;241m.\u001b[39mlog_prob_fn, p))\n\u001b[1;32m    491\u001b[0m \u001b[38;5;28;01mtry\u001b[39;00m:\n\u001b[1;32m    492\u001b[0m     log_prob \u001b[38;5;241m=\u001b[39m np\u001b[38;5;241m.\u001b[39marray([\u001b[38;5;28mfloat\u001b[39m(l[\u001b[38;5;241m0\u001b[39m]) \u001b[38;5;28;01mfor\u001b[39;00m l \u001b[38;5;129;01min\u001b[39;00m results])\n",
      "File \u001b[0;32m~/anaconda3/lib/python3.11/multiprocessing/pool.py:367\u001b[0m, in \u001b[0;36mPool.map\u001b[0;34m(self, func, iterable, chunksize)\u001b[0m\n\u001b[1;32m    362\u001b[0m \u001b[38;5;28;01mdef\u001b[39;00m \u001b[38;5;21mmap\u001b[39m(\u001b[38;5;28mself\u001b[39m, func, iterable, chunksize\u001b[38;5;241m=\u001b[39m\u001b[38;5;28;01mNone\u001b[39;00m):\n\u001b[1;32m    363\u001b[0m \u001b[38;5;250m    \u001b[39m\u001b[38;5;124;03m'''\u001b[39;00m\n\u001b[1;32m    364\u001b[0m \u001b[38;5;124;03m    Apply `func` to each element in `iterable`, collecting the results\u001b[39;00m\n\u001b[1;32m    365\u001b[0m \u001b[38;5;124;03m    in a list that is returned.\u001b[39;00m\n\u001b[1;32m    366\u001b[0m \u001b[38;5;124;03m    '''\u001b[39;00m\n\u001b[0;32m--> 367\u001b[0m     \u001b[38;5;28;01mreturn\u001b[39;00m \u001b[38;5;28mself\u001b[39m\u001b[38;5;241m.\u001b[39m_map_async(func, iterable, mapstar, chunksize)\u001b[38;5;241m.\u001b[39mget()\n",
      "File \u001b[0;32m~/anaconda3/lib/python3.11/multiprocessing/pool.py:768\u001b[0m, in \u001b[0;36mApplyResult.get\u001b[0;34m(self, timeout)\u001b[0m\n\u001b[1;32m    767\u001b[0m \u001b[38;5;28;01mdef\u001b[39;00m \u001b[38;5;21mget\u001b[39m(\u001b[38;5;28mself\u001b[39m, timeout\u001b[38;5;241m=\u001b[39m\u001b[38;5;28;01mNone\u001b[39;00m):\n\u001b[0;32m--> 768\u001b[0m     \u001b[38;5;28mself\u001b[39m\u001b[38;5;241m.\u001b[39mwait(timeout)\n\u001b[1;32m    769\u001b[0m     \u001b[38;5;28;01mif\u001b[39;00m \u001b[38;5;129;01mnot\u001b[39;00m \u001b[38;5;28mself\u001b[39m\u001b[38;5;241m.\u001b[39mready():\n\u001b[1;32m    770\u001b[0m         \u001b[38;5;28;01mraise\u001b[39;00m \u001b[38;5;167;01mTimeoutError\u001b[39;00m\n",
      "File \u001b[0;32m~/anaconda3/lib/python3.11/multiprocessing/pool.py:765\u001b[0m, in \u001b[0;36mApplyResult.wait\u001b[0;34m(self, timeout)\u001b[0m\n\u001b[1;32m    764\u001b[0m \u001b[38;5;28;01mdef\u001b[39;00m \u001b[38;5;21mwait\u001b[39m(\u001b[38;5;28mself\u001b[39m, timeout\u001b[38;5;241m=\u001b[39m\u001b[38;5;28;01mNone\u001b[39;00m):\n\u001b[0;32m--> 765\u001b[0m     \u001b[38;5;28mself\u001b[39m\u001b[38;5;241m.\u001b[39m_event\u001b[38;5;241m.\u001b[39mwait(timeout)\n",
      "File \u001b[0;32m~/anaconda3/lib/python3.11/threading.py:622\u001b[0m, in \u001b[0;36mEvent.wait\u001b[0;34m(self, timeout)\u001b[0m\n\u001b[1;32m    620\u001b[0m signaled \u001b[38;5;241m=\u001b[39m \u001b[38;5;28mself\u001b[39m\u001b[38;5;241m.\u001b[39m_flag\n\u001b[1;32m    621\u001b[0m \u001b[38;5;28;01mif\u001b[39;00m \u001b[38;5;129;01mnot\u001b[39;00m signaled:\n\u001b[0;32m--> 622\u001b[0m     signaled \u001b[38;5;241m=\u001b[39m \u001b[38;5;28mself\u001b[39m\u001b[38;5;241m.\u001b[39m_cond\u001b[38;5;241m.\u001b[39mwait(timeout)\n\u001b[1;32m    623\u001b[0m \u001b[38;5;28;01mreturn\u001b[39;00m signaled\n",
      "File \u001b[0;32m~/anaconda3/lib/python3.11/threading.py:320\u001b[0m, in \u001b[0;36mCondition.wait\u001b[0;34m(self, timeout)\u001b[0m\n\u001b[1;32m    318\u001b[0m \u001b[38;5;28;01mtry\u001b[39;00m:    \u001b[38;5;66;03m# restore state no matter what (e.g., KeyboardInterrupt)\u001b[39;00m\n\u001b[1;32m    319\u001b[0m     \u001b[38;5;28;01mif\u001b[39;00m timeout \u001b[38;5;129;01mis\u001b[39;00m \u001b[38;5;28;01mNone\u001b[39;00m:\n\u001b[0;32m--> 320\u001b[0m         waiter\u001b[38;5;241m.\u001b[39macquire()\n\u001b[1;32m    321\u001b[0m         gotit \u001b[38;5;241m=\u001b[39m \u001b[38;5;28;01mTrue\u001b[39;00m\n\u001b[1;32m    322\u001b[0m     \u001b[38;5;28;01melse\u001b[39;00m:\n",
      "\u001b[0;31mKeyboardInterrupt\u001b[0m: "
     ]
    }
   ],
   "source": [
    "filename = f\"{run_id}_backend.h5\"\n",
    "backend = emcee.backends.HDFBackend(filename)\n",
    "backend.reset(3, inferpar.get_dim())\n",
    "with Pool(3) as pool:\n",
    "        sampler = emcee.EnsembleSampler(3, \n",
    "                                        inferpar.get_dim(), \n",
    "                                        a.run, \n",
    "                                        pool=pool,\n",
    "                                        backend=backend, moves=[(emcee.moves.StretchMove(live_dangerously=True), 1)])\n",
    "        state = sampler.run_mcmc(p0[0:3,:], 5, progress=True, skip_initial_state_check=True)"
   ]
  },
  {
   "cell_type": "code",
   "execution_count": null,
   "id": "f60e3d82",
   "metadata": {},
   "outputs": [],
   "source": [
    "ds[\"incidH_18_49\"].sum(dim=\"subpop\", skipna=False).plot()"
   ]
  },
  {
   "cell_type": "code",
   "execution_count": null,
   "id": "467df7e5",
   "metadata": {},
   "outputs": [],
   "source": [
    "ds[\"incidH_18_49\"].resample(date=\"W-SAT\").sum().plot.line(x=\"date\");"
   ]
  },
  {
   "cell_type": "code",
   "execution_count": null,
   "id": "269439a8",
   "metadata": {},
   "outputs": [],
   "source": [
    "ds[\"incidH_18_49\"].resample(date=\"W-SAT\").sum(skipna=False).plot.line(x=\"date\");"
   ]
  },
  {
   "cell_type": "code",
   "execution_count": null,
   "id": "55a2a8f6",
   "metadata": {},
   "outputs": [],
   "source": [
    "ds[\"incidH_18_49\"].resample(date=\"W-SAT\", skipna=False).sum().plot.line(x=\"date\");"
   ]
  },
  {
   "cell_type": "code",
   "execution_count": null,
   "id": "70701b6c",
   "metadata": {},
   "outputs": [],
   "source": []
  },
  {
   "cell_type": "code",
   "execution_count": null,
   "id": "3e84f6ba",
   "metadata": {},
   "outputs": [],
   "source": []
  },
  {
   "cell_type": "code",
   "execution_count": null,
   "id": "17c32c59",
   "metadata": {},
   "outputs": [],
   "source": [
    "if False:\n",
    "    log_loss.plot_gt(subplot=True);\n",
    "    for reg_func, reg_config in log_loss.statistics['incidCase'].regularizations:\n",
    "        print(reg_func,\"\\n\", reg_config)"
   ]
  },
  {
   "cell_type": "markdown",
   "id": "824ffa08",
   "metadata": {},
   "source": [
    "## Create the first gempyor object"
   ]
  },
  {
   "cell_type": "code",
   "execution_count": null,
   "id": "ee2b5b3a",
   "metadata": {},
   "outputs": [],
   "source": []
  },
  {
   "cell_type": "code",
   "execution_count": null,
   "id": "39e90807",
   "metadata": {},
   "outputs": [],
   "source": []
  },
  {
   "cell_type": "code",
   "execution_count": null,
   "id": "ae4e3db5",
   "metadata": {},
   "outputs": [],
   "source": [
    "hosp.reset_index().set_index([\"date\",\"subpop\"])\n",
    "xr.Dataset.from_dataframe(hosp.reset_index().set_index([\"date\",\"subpop\"]))"
   ]
  },
  {
   "cell_type": "code",
   "execution_count": null,
   "id": "135a5c34",
   "metadata": {},
   "outputs": [],
   "source": []
  },
  {
   "cell_type": "code",
   "execution_count": null,
   "id": "b73d97b8",
   "metadata": {},
   "outputs": [],
   "source": []
  },
  {
   "cell_type": "code",
   "execution_count": null,
   "id": "d0f84f3c",
   "metadata": {},
   "outputs": [],
   "source": [
    "raise ValueError"
   ]
  },
  {
   "cell_type": "markdown",
   "id": "25c032a1",
   "metadata": {},
   "source": [
    "## Run EMCEE"
   ]
  },
  {
   "cell_type": "code",
   "execution_count": null,
   "id": "76738408",
   "metadata": {},
   "outputs": [],
   "source": []
  },
  {
   "cell_type": "code",
   "execution_count": null,
   "id": "cf3b79a9",
   "metadata": {},
   "outputs": [],
   "source": [
    "backend = emcee.backends.HDFBackend(filename)\n",
    "with Pool(ncpu) as pool:\n",
    "    sampler = emcee.EnsembleSampler(nwalkers, ndim, log_prob, \n",
    "                                    args=[snpi_df_ref, ndim, statistics, fitted_params, gt, hnpi_df_ref, modinf, p_draw, unique_strings, transition_array, proportion_array, proportion_info, initial_conditions, seeding_data, seeding_amounts,outcomes_parameters, True], \n",
    "                                    pool=pool,\n",
    "                                    backend=backend,  moves=[(emcee.moves.StretchMove(live_dangerously=True), 1)])\n",
    "    state = sampler.run_mcmc(None, (nsamples//nwalkers)+1, progress=True, skip_initial_state_check=True)"
   ]
  },
  {
   "cell_type": "code",
   "execution_count": null,
   "id": "6ce6df96",
   "metadata": {},
   "outputs": [],
   "source": []
  },
  {
   "cell_type": "code",
   "execution_count": null,
   "id": "8d77d62d",
   "metadata": {},
   "outputs": [],
   "source": [
    "    print(f\"Done, mean acceptance fraction: {np.mean(sampler.acceptance_fraction):.3f}\")"
   ]
  },
  {
   "cell_type": "code",
   "execution_count": null,
   "id": "a56b381c",
   "metadata": {},
   "outputs": [],
   "source": [
    "plt.plot(sampler.acceptance_fraction)"
   ]
  },
  {
   "cell_type": "markdown",
   "id": "6abbc293",
   "metadata": {},
   "source": [
    "## Analysi"
   ]
  },
  {
   "cell_type": "code",
   "execution_count": null,
   "id": "2c2d87c4",
   "metadata": {},
   "outputs": [],
   "source": [
    "filename = f\"{run_id}_backend.h5\"\n",
    "sampler = emcee.backends.HDFBackend(filename, read_only=True)"
   ]
  },
  {
   "cell_type": "code",
   "execution_count": null,
   "id": "dfaf36a8",
   "metadata": {},
   "outputs": [],
   "source": [
    "sampler.get_chain().shape"
   ]
  },
  {
   "cell_type": "code",
   "execution_count": null,
   "id": "15b7eda3",
   "metadata": {},
   "outputs": [],
   "source": [
    "# todo: restart form other shape..."
   ]
  },
  {
   "cell_type": "code",
   "execution_count": null,
   "id": "9857ba61",
   "metadata": {},
   "outputs": [],
   "source": [
    "last_llik = sampler.get_log_prob()[-1,:]\n",
    "good_slots = last_llik > (last_llik.mean()-1*last_llik.std())\n",
    "print(f\"there are {good_slots.sum()}/{len(good_slots)} good walkers... keeping these\")"
   ]
  },
  {
   "cell_type": "code",
   "execution_count": null,
   "id": "8ba9d763",
   "metadata": {},
   "outputs": [],
   "source": []
  },
  {
   "cell_type": "code",
   "execution_count": null,
   "id": "79839347",
   "metadata": {},
   "outputs": [],
   "source": [
    "fig, axes = plt.subplots(inferpar.get_dim()+1,2, figsize=(15, (inferpar.get_dim()+1)*2))\n",
    "\n",
    "labels = list(zip(inferpar.pnames, inferpar.subpops))\n",
    "samples = sampler.get_chain()\n",
    "\n",
    "import seaborn as sns\n",
    "def plot_chain(frompt,axes):\n",
    "    ax = axes[0]\n",
    "\n",
    "    ax.plot(np.arange(frompt,frompt+sampler.get_log_prob()[frompt:].shape[0]),\n",
    "                      sampler.get_log_prob()[frompt:,good_slots], \"navy\", alpha=.2, lw=1, label=\"good walkers\")\n",
    "    ax.plot(np.arange(frompt,frompt+sampler.get_log_prob()[frompt:].shape[0]),\n",
    "            sampler.get_log_prob()[frompt:,~good_slots], \"tomato\", alpha=.4, lw=1, label=\"bad walkers\")\n",
    "    ax.set_title(\"llik\")\n",
    "    #ax.legend()\n",
    "    sns.despine(ax=ax, trim=False)\n",
    "    ax.set_xlim(frompt, frompt+sampler.get_log_prob()[frompt:].shape[0])\n",
    "\n",
    "    #ax.set_xlim(0, len(samples))\n",
    "\n",
    "    for i in range(inferpar.get_dim()):\n",
    "        ax = axes[i+1]\n",
    "        ax.plot(np.arange(frompt,frompt+sampler.get_log_prob()[frompt:].shape[0]),\n",
    "                samples[frompt:,good_slots, i], \"navy\", alpha=.2, lw=1,)\n",
    "        ax.plot(np.arange(frompt,frompt+sampler.get_log_prob()[frompt:].shape[0]),\n",
    "                samples[frompt:, ~good_slots, i], \"tomato\", alpha=.4, lw=1,)\n",
    "        #ax.set_xlim(0, len(samples))\n",
    "        ax.set_title(labels[i])\n",
    "        #ax.yaxis.set_label_coords(-0.1, 0.5)\n",
    "        sns.despine(ax=ax, trim=False)\n",
    "        ax.set_xlim(frompt, frompt+samples[frompt:].shape[0])\n",
    "        \n",
    "\n",
    "    axes[-1].set_xlabel(\"step number\");\n",
    "\n",
    "plot_chain(0,axes[:,0])\n",
    "plot_chain(3*samples.shape[0]//4,axes[:,1])\n",
    "fig.tight_layout()\n",
    "\n",
    "plt.savefig(f\"{run_id}_chains.pdf\")"
   ]
  },
  {
   "cell_type": "code",
   "execution_count": null,
   "id": "cc618142",
   "metadata": {},
   "outputs": [],
   "source": [
    "good_samples =  sampler.get_chain()[:,good_slots,:]\n",
    "good_samples.shape"
   ]
  },
  {
   "cell_type": "code",
   "execution_count": null,
   "id": "4d76d326",
   "metadata": {},
   "outputs": [],
   "source": [
    "step_number = -1\n",
    "exported_samples = np.empty((nsamples,ndim))\n",
    "for i in range(nsamples):\n",
    "    exported_samples[i,:] = good_samples[step_number - nthin*(i//(good_slots.sum())) ,i%(good_slots.sum()),:] # parentesis around i//(good_slots.sum() are very important"
   ]
  },
  {
   "cell_type": "code",
   "execution_count": null,
   "id": "19e23f83",
   "metadata": {},
   "outputs": [],
   "source": [
    "position_arguments = [snpi_df_ref, ndim, statistics, fitted_params, gt, hnpi_df_ref, modinf, p_draw, unique_strings, transition_array, proportion_array, proportion_info, initial_conditions, seeding_data, seeding_amounts,outcomes_parameters, True]\n",
    "\n",
    "with Pool(ncpu) as pool:\n",
    "    results = pool.starmap(log_prob, [(sample, *position_arguments) for sample in exported_samples])"
   ]
  },
  {
   "cell_type": "code",
   "execution_count": null,
   "id": "56f1cace",
   "metadata": {},
   "outputs": [],
   "source": [
    "np.mean(sampler.get_log_prob()[-1,:])"
   ]
  },
  {
   "cell_type": "code",
   "execution_count": null,
   "id": "c74c094e",
   "metadata": {},
   "outputs": [],
   "source": [
    "#import concurrent.futures\n",
    "#\n",
    "def evaluate(proposals, k):\n",
    "    proposal = proposals[k]\n",
    "    snpi_df_mod, hnpi_df_mod = input_proposal(proposal, snpi_df_ref, hnpi_df_ref, fitted_params, ndim)\n",
    "\n",
    "    outcomes_df = run_simulation(snpi_df_mod, \n",
    "                                hnpi_df_mod,\n",
    "                                modinf, p_draw, unique_strings, transition_array, proportion_array, proportion_info, initial_conditions, seeding_data, seeding_amounts,outcomes_parameters)\n",
    "    return outcomes_df\n",
    "#\n",
    "#with concurrent.futures.ThreadPoolExecutor(max_workers=nwalkers) as executor:\n",
    "#    # Map the function to the list of k values in parallel\n",
    "#    results = list(executor.map(lambda k_val: evaluate(samples[-1,:,:], k_val), np.arange(nwalkers)))\n",
    "#\n",
    "\n",
    "results = []\n",
    "for k in range(nwalkers):\n",
    "    results.append(evaluate(samples[-1,:,:], k))"
   ]
  },
  {
   "cell_type": "code",
   "execution_count": null,
   "id": "6a4365d4",
   "metadata": {},
   "outputs": [],
   "source": [
    "results"
   ]
  },
  {
   "cell_type": "code",
   "execution_count": null,
   "id": "64faaab9",
   "metadata": {},
   "outputs": [],
   "source": []
  },
  {
   "cell_type": "code",
   "execution_count": null,
   "id": "3fc5b356",
   "metadata": {},
   "outputs": [],
   "source": [
    "results = []\n",
    "for fn in gempyor.utils.list_filenames(folder=\"model_output/\", filters=[run_id,\"hosp.parquet\"]):\n",
    "    if \"000000000\" not in fn:\n",
    "        df = gempyor.read_df(fn)\n",
    "        #raise ValueError\n",
    "        df[\"date\"] = df[\"time\"]\n",
    "        df = df.set_index(\"date\")\n",
    "        results.append(df)"
   ]
  },
  {
   "cell_type": "code",
   "execution_count": null,
   "id": "eac4dc7b",
   "metadata": {},
   "outputs": [],
   "source": [
    "results[0].index.max()"
   ]
  },
  {
   "cell_type": "code",
   "execution_count": null,
   "id": "f05d7f89",
   "metadata": {},
   "outputs": [],
   "source": [
    "fig, axes = plt.subplots(len(statistics),len(subpop_names), figsize=(5*len(subpop_names), 3*len(statistics)), sharex=True, dpi=300)\n",
    "for j, subpop in enumerate(modinf.subpop_struct.subpop_names):\n",
    "        gt_s = gt[gt[\"subpop\"]==subpop].sort_index()\n",
    "        first_date = max(gt_s.index.min(),results[0].index.min())\n",
    "        last_date = min(gt_s.index.max(), results[0].index.max())\n",
    "        gt_s = gt_s.loc[first_date:last_date].drop([\"subpop\"],axis=1).resample(\"W-SAT\").sum()\n",
    "        \n",
    "        for i, (key, value) in enumerate(statistics.items()):\n",
    "                ax = axes[i,j]\n",
    "                ax.plot(gt_s[value], color='k', marker='.', lw=1)\n",
    "                for model_df in results:\n",
    "                        model_df_s = model_df[model_df[\"subpop\"]==subpop].drop([\"subpop\",\"time\"],axis=1).loc[first_date:last_date].resample(\"W-SAT\").sum() # todo sub subpop here\n",
    "                        ax.plot(model_df_s[key],  lw=.9, alpha=.5)\n",
    "                #if True:\n",
    "                #        init_df_s = outcomes_df_ref[model_df[\"subpop\"]==subpop].drop([\"subpop\",\"time\"],axis=1).loc[min(gt_s.index):max(gt_s.index)].resample(\"W-SAT\").sum() # todo sub subpop here\n",
    "                ax.set_title(f\"{value}, {subpop}\")\n",
    "fig.tight_layout()\n",
    "plt.savefig(f\"{run_id}_results.pdf\")"
   ]
  },
  {
   "cell_type": "code",
   "execution_count": null,
   "id": "1011418b",
   "metadata": {},
   "outputs": [],
   "source": [
    "gt_s.isna().sum()"
   ]
  },
  {
   "cell_type": "code",
   "execution_count": null,
   "id": "24b56899",
   "metadata": {},
   "outputs": [],
   "source": [
    "gt_s.plot(subplots=True)"
   ]
  },
  {
   "cell_type": "code",
   "execution_count": null,
   "id": "5a8ec5a3",
   "metadata": {},
   "outputs": [],
   "source": [
    "gt_s[\"incidH_65_100\"]"
   ]
  },
  {
   "cell_type": "code",
   "execution_count": null,
   "id": "bd11696b",
   "metadata": {},
   "outputs": [],
   "source": [
    "gt_s"
   ]
  },
  {
   "cell_type": "code",
   "execution_count": null,
   "id": "7e62ef8b",
   "metadata": {},
   "outputs": [],
   "source": [
    "emcee.__version__"
   ]
  },
  {
   "cell_type": "code",
   "execution_count": null,
   "id": "18b43982",
   "metadata": {},
   "outputs": [],
   "source": [
    "import corner"
   ]
  },
  {
   "cell_type": "code",
   "execution_count": null,
   "id": "a6ba2f65",
   "metadata": {},
   "outputs": [],
   "source": [
    "#tau = sampler.get_autocorr_time()\n",
    "#print(tau)\n",
    "\n",
    "flat_samples = sampler.get_chain(discard=30, thin=2,flat=True) #discard=100, thin=15, \n",
    "print(flat_samples.shape)\n",
    "\n",
    "import corner\n",
    "\n",
    "fig = corner.corner(\n",
    "    flat_samples, labels=labels, #truths=[m_true, b_true, np.log(f_true)]\n",
    ");"
   ]
  },
  {
   "cell_type": "code",
   "execution_count": null,
   "id": "7f167543",
   "metadata": {},
   "outputs": [],
   "source": []
  }
 ],
 "metadata": {
  "kernelspec": {
   "display_name": "base",
   "language": "python",
   "name": "python3"
  },
  "language_info": {
   "codemirror_mode": {
    "name": "ipython",
    "version": 3
   },
   "file_extension": ".py",
   "mimetype": "text/x-python",
   "name": "python",
   "nbconvert_exporter": "python",
   "pygments_lexer": "ipython3",
   "version": "3.11.0"
  }
 },
 "nbformat": 4,
 "nbformat_minor": 5
}
