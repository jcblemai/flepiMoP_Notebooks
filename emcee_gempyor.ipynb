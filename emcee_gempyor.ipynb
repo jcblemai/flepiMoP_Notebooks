{
 "cells": [
  {
   "cell_type": "code",
   "execution_count": 1,
   "id": "c4c74234-90f5-463e-a685-ff9cf7620953",
   "metadata": {
    "ExecuteTime": {
     "end_time": "2023-11-20T10:04:39.274921Z",
     "start_time": "2023-11-20T10:04:37.320752Z"
    },
    "execution": {
     "iopub.execute_input": "2023-05-04T14:52:29.916947Z",
     "iopub.status.busy": "2023-05-04T14:52:29.916341Z",
     "iopub.status.idle": "2023-05-04T14:52:37.018295Z",
     "shell.execute_reply": "2023-05-04T14:52:37.017535Z",
     "shell.execute_reply.started": "2023-05-04T14:52:29.916917Z"
    },
    "tags": []
   },
   "outputs": [
    {
     "name": "stdout",
     "output_type": "stream",
     "text": [
      "found 12 CPUs, using these\n",
      "  gempyor >> Running ***DETERMINISTIC*** simulation;\n",
      "  gempyor >> ModelInfo USA_inference_all; index: 1; run_id: config_SMH_R18_allBoo_highIE_blk1_emcee,\n",
      "  gempyor >> prefix: USA/config_SMH_R18_allBoo_highIE_blk1_emcee/;\n",
      "Loaded subpops in loaded relative probablity file: 51 Intersect with seir simulation:  51 kept\n",
      "ERROR: subpop_names 25000 (idx: pl_idx) has a population from initial condition of 6850563.049999996 while population from geodata is 6850553 (absolute difference should be < 1, here is 10.049999996088445)\n",
      " Ignoring the previous population mismatch errors because you added flag 'ignore_population_checks'. This is dangerous\n",
      "Running Gempyor Inference\n",
      "LogLoss: 2 statistics and 10710 data points,number of NA for each statistic: \n",
      "source        0\n",
      "incidC    10710\n",
      "cumC      10710\n",
      "incidD        0\n",
      "cumD          0\n",
      "incidH       51\n",
      "cumH         51\n",
      "dtype: int64\n",
      "InferenceParameters: with 717 parameters: \n",
      "    seir_modifiers: 615 parameters\n",
      "    outcome_modifiers: 102 parameters\n",
      "\n",
      "LogLoss: 2 statistics and 10710 data points,number of NA for each statistic: \n",
      "source        0\n",
      "incidC    10710\n",
      "cumC      10710\n",
      "incidD        0\n",
      "cumD          0\n",
      "incidH       51\n",
      "cumH         51\n",
      "dtype: int64\n",
      "InferenceParameters: with 717 parameters: \n",
      "    seir_modifiers: 615 parameters\n",
      "    outcome_modifiers: 102 parameters\n",
      "\n"
     ]
    }
   ],
   "source": [
    "import gempyor\n",
    "import numpy as np\n",
    "import pandas as pd\n",
    "import matplotlib.pyplot as plt\n",
    "\n",
    "from pathlib import Path\n",
    "import copy\n",
    "\n",
    "# import seaborn as sns\n",
    "import matplotlib._color_data as mcd\n",
    "import pyarrow.parquet as pq\n",
    "import click\n",
    "import subprocess\n",
    "import dask.dataframe as dd\n",
    "import matplotlib.dates as mdates\n",
    "import matplotlib.cbook as cbook\n",
    "from matplotlib.backends.backend_pdf import PdfPages\n",
    "from gempyor.utils import config, as_list\n",
    "import os\n",
    "import multiprocessing as mp\n",
    "import pandas as pd\n",
    "import pyarrow.parquet as pq\n",
    "import xarray as xr\n",
    "from gempyor import config, model_info, outcomes, seir, inference_parameter, logloss, inference\n",
    "from gempyor.inference import GempyorInference\n",
    "import gempyor.postprocess_inference\n",
    "\n",
    "import os\n",
    "from multiprocessing import cpu_count\n",
    "\n",
    "# disable  operations using the MKL linear algebra.\n",
    "os.environ[\"OMP_NUM_THREADS\"] = \"1\"\n",
    "import emcee\n",
    "\n",
    "from multiprocessing import Pool\n",
    "\n",
    "## Test A\n",
    "project_path = \"./flepiMoP/examples/simple_usa_statelevel/\"  # necessary for now for time serie parameters !!! FIXME\n",
    "config_filepath = f\"simple_usa_statelevel.yml\"\n",
    "seir_modifiers_scenario=\"Ro_all\"\n",
    "outcome_modifiers_scenario=None\n",
    "\n",
    "# Test B\n",
    "#project_path = \"RSV_USA/\"\n",
    "#config_filepath = f\"config_rsvnet_emcee.yml\"\n",
    "#seir_modifiers_scenario=\"none\"\n",
    "#outcome_modifiers_scenario=\"IHRadj\"\n",
    "\n",
    "# Test C\n",
    "project_path = \"COVID19_USA/\"\n",
    "config_filepath= \"config_SMH_R18_allBoo_highIE_blk1_emcee.yml\"\n",
    "#config_filepath=\"config_FCH_R17_allBoo_highIE_phase5_blk1_21Apr2024.yml\"\n",
    "\n",
    "\n",
    "nwalkers = 3\n",
    "niter = 4\n",
    "nsamples = 4 # number of likelyhood eval to write to disk...\n",
    "nthin=5\n",
    "run_id = config_filepath.split(\".\")[0]\n",
    "\n",
    "#### START COPY PAST FROM flepiMoP/flepimop/gempyor_pkg/src/gempyor/calibrate.py\n",
    "ncpu = cpu_count()\n",
    "print(f\"found {ncpu} CPUs, using these\")\n",
    "\n",
    "gempyor_inference = GempyorInference(\n",
    "        config_filepath=config_filepath,\n",
    "        run_id=run_id,\n",
    "        prefix=None,\n",
    "        first_sim_index=1,\n",
    "        stoch_traj_flag=False,\n",
    "        rng_seed=None,\n",
    "        nslots=1,\n",
    "        inference_filename_prefix=\"\",  # usually for {global or chimeric}/{intermediate or final}\n",
    "        inference_filepath_suffix=\"\",  # usually for the slot_id\n",
    "        out_run_id=None,  # if out_run_id is different from in_run_id, fill this\n",
    "        out_prefix=None,  # if out_prefix is different from in_prefix, fill this\n",
    "        path_prefix=project_path,  # in case the data folder is on another directory\n",
    "        autowrite_seir=False,\n",
    ")\n",
    "\n",
    "#inferpar = inference_parameter.InferenceParameters(global_config=config, modinf=modinf)\n",
    "p0 = gempyor_inference.inferpar.draw_initial(n_draw=nwalkers)\n",
    "for i in range(nwalkers):\n",
    "    assert  gempyor_inference.inferpar.check_in_bound(proposal=p0[i]), \"The initial parameter draw is not within the bounds, check the perturbation distributions\"\n",
    "\n",
    "nsubpop = len(gempyor_inference.modinf.subpop_struct.subpop_names)\n",
    "subpop_names = gempyor_inference.modinf.subpop_struct.subpop_names\n",
    "\n",
    "\n",
    "print(gempyor_inference.logloss)\n",
    "print(gempyor_inference.inferpar)"
   ]
  },
  {
   "cell_type": "code",
   "execution_count": 2,
   "id": "545749d0",
   "metadata": {},
   "outputs": [],
   "source": [
    "filename = f\"{run_id}_backend.h5\"\n",
    "sampler = emcee.backends.HDFBackend(filename, read_only=True)\n"
   ]
  },
  {
   "cell_type": "code",
   "execution_count": 12,
   "id": "c1198357",
   "metadata": {},
   "outputs": [
    {
     "data": {
      "text/plain": [
       "array([1])"
      ]
     },
     "execution_count": 12,
     "metadata": {},
     "output_type": "execute_result"
    }
   ],
   "source": [
    "n = 1\n",
    "max_indices = np.argsort(sampler.get_log_prob()[-1, :])[-n:]\n",
    "max_indices"
   ]
  },
  {
   "cell_type": "code",
   "execution_count": 2,
   "id": "2556738e",
   "metadata": {},
   "outputs": [
    {
     "data": {
      "text/plain": [
       "(2, 3, 717)"
      ]
     },
     "execution_count": 2,
     "metadata": {},
     "output_type": "execute_result"
    }
   ],
   "source": [
    "sampler.get_chain().shape"
   ]
  },
  {
   "cell_type": "code",
   "execution_count": 29,
   "id": "e3f60525",
   "metadata": {},
   "outputs": [],
   "source": [
    "samples = sampler.get_chain()[-1,max_indices ,:]\n",
    "a = [(samples[i,:],) for i in range(len(max_indices))]"
   ]
  },
  {
   "cell_type": "code",
   "execution_count": null,
   "id": "6225d1bf",
   "metadata": {},
   "outputs": [],
   "source": []
  },
  {
   "cell_type": "code",
   "execution_count": 3,
   "id": "4b99ffd9",
   "metadata": {},
   "outputs": [
    {
     "name": "stdout",
     "output_type": "stream",
     "text": [
      "test run successful 🎉, with logloss=-45965.6 including -5500.4 for regularization (12.0%) \n"
     ]
    },
    {
     "data": {
      "text/plain": [
       "(           subpop  incidI_unvaccinated_ALL_age0to17ph4  \\\n",
       " date                                                     \n",
       " 2023-03-19  56000                           110.394339   \n",
       " 2023-03-20  56000                           110.394339   \n",
       " 2023-03-21  56000                           132.331477   \n",
       " 2023-03-22  56000                           132.331477   \n",
       " 2023-03-23  56000                           142.058054   \n",
       " ...           ...                                  ...   \n",
       " 2025-08-27  06000                         16035.451907   \n",
       " 2025-08-28  06000                         16035.451907   \n",
       " 2025-08-29  06000                         16634.840639   \n",
       " 2025-08-30  06000                         16634.840639   \n",
       " 2025-08-31  06000                         17256.442292   \n",
       " \n",
       "             incidI_vaccinated_ALL_age0to17ph4  \\\n",
       " date                                            \n",
       " 2023-03-19                           4.605727   \n",
       " 2023-03-20                           4.605727   \n",
       " 2023-03-21                           5.537581   \n",
       " 2023-03-22                           5.537581   \n",
       " 2023-03-23                           5.954252   \n",
       " ...                                       ...   \n",
       " 2025-08-27                       11009.769838   \n",
       " 2025-08-28                       11009.769838   \n",
       " 2025-08-29                       11421.500901   \n",
       " 2025-08-30                       11421.500901   \n",
       " 2025-08-31                       11848.496331   \n",
       " \n",
       "             incidI_unvaccinated_ALL_age18to64HRph4  \\\n",
       " date                                                 \n",
       " 2023-03-19                               52.450197   \n",
       " 2023-03-20                               52.450197   \n",
       " 2023-03-21                               62.864177   \n",
       " 2023-03-22                               62.864177   \n",
       " 2023-03-23                               67.481399   \n",
       " ...                                            ...   \n",
       " 2025-08-27                             6010.635303   \n",
       " 2025-08-28                             6010.635303   \n",
       " 2025-08-29                             6235.339683   \n",
       " 2025-08-30                             6235.339683   \n",
       " 2025-08-31                             6468.372818   \n",
       " \n",
       "             incidI_vaccinated_ALL_age18to64HRph4  \\\n",
       " date                                               \n",
       " 2023-03-19                              9.033475   \n",
       " 2023-03-20                              9.033475   \n",
       " 2023-03-21                             10.851163   \n",
       " 2023-03-22                             10.851163   \n",
       " 2023-03-23                             11.662164   \n",
       " ...                                          ...   \n",
       " 2025-08-27                           9280.981653   \n",
       " 2025-08-28                           9280.981653   \n",
       " 2025-08-29                           9628.057654   \n",
       " 2025-08-30                           9628.057654   \n",
       " 2025-08-31                           9988.001627   \n",
       " \n",
       "             incidI_unvaccinated_ALL_age18to64LRph4  \\\n",
       " date                                                 \n",
       " 2023-03-19                              200.932396   \n",
       " 2023-03-20                              200.932396   \n",
       " 2023-03-21                              240.827499   \n",
       " 2023-03-22                              240.827499   \n",
       " 2023-03-23                              258.515696   \n",
       " ...                                            ...   \n",
       " 2025-08-27                            29422.202411   \n",
       " 2025-08-28                            29422.202411   \n",
       " 2025-08-29                            30521.946713   \n",
       " 2025-08-30                            30521.946713   \n",
       " 2025-08-31                            31662.445659   \n",
       " \n",
       "             incidI_vaccinated_ALL_age18to64LRph4  \\\n",
       " date                                               \n",
       " 2023-03-19                             34.606500   \n",
       " 2023-03-20                             34.606500   \n",
       " 2023-03-21                             41.569914   \n",
       " 2023-03-22                             41.569914   \n",
       " 2023-03-23                             44.676791   \n",
       " ...                                          ...   \n",
       " 2025-08-27                          30619.445662   \n",
       " 2025-08-28                          30619.445662   \n",
       " 2025-08-29                          31764.384948   \n",
       " 2025-08-30                          31764.384948   \n",
       " 2025-08-31                          32951.768885   \n",
       " \n",
       "             incidI_unvaccinated_ALL_age65to100ph4  \\\n",
       " date                                                \n",
       " 2023-03-19                              43.515010   \n",
       " 2023-03-20                              43.515010   \n",
       " 2023-03-21                              52.137144   \n",
       " 2023-03-22                              52.137144   \n",
       " 2023-03-23                              55.959330   \n",
       " ...                                           ...   \n",
       " 2025-08-27                            2764.879764   \n",
       " 2025-08-28                            2764.879764   \n",
       " 2025-08-29                            2868.259849   \n",
       " 2025-08-30                            2868.259849   \n",
       " 2025-08-31                            2975.472423   \n",
       " \n",
       "             incidI_vaccinated_ALL_age65to100ph4     incidI_ALL  ...  \\\n",
       " date                                                            ...   \n",
       " 2023-03-19                            41.807275     497.344917  ...   \n",
       " 2023-03-20                            41.807275     497.344917  ...   \n",
       " 2023-03-21                            50.172474     596.291428  ...   \n",
       " 2023-03-22                            50.172474     596.291428  ...   \n",
       " 2023-03-23                            53.895911     640.203596  ...   \n",
       " ...                                         ...            ...  ...   \n",
       " 2025-08-27                         14994.884921  120138.251460  ...   \n",
       " 2025-08-28                         14994.884921  120138.251460  ...   \n",
       " 2025-08-29                         15555.314553  124629.644942  ...   \n",
       " 2025-08-30                         15555.314553  124629.644942  ...   \n",
       " 2025-08-31                         16136.509774  129287.509809  ...   \n",
       " \n",
       "             incidD_unvaccinated_ALL_age0to17ph4  \\\n",
       " date                                              \n",
       " 2023-03-19                             0.000000   \n",
       " 2023-03-20                             0.000000   \n",
       " 2023-03-21                             0.000000   \n",
       " 2023-03-22                             0.000000   \n",
       " 2023-03-23                             0.000000   \n",
       " ...                                         ...   \n",
       " 2025-08-27                             0.056436   \n",
       " 2025-08-28                             0.056436   \n",
       " 2025-08-29                             0.058297   \n",
       " 2025-08-30                             0.058297   \n",
       " 2025-08-31                             0.060253   \n",
       " \n",
       "             incidD_vaccinated_ALL_age0to17ph4  \\\n",
       " date                                            \n",
       " 2023-03-19                           0.000000   \n",
       " 2023-03-20                           0.000000   \n",
       " 2023-03-21                           0.000000   \n",
       " 2023-03-22                           0.000000   \n",
       " 2023-03-23                           0.000000   \n",
       " ...                                       ...   \n",
       " 2025-08-27                           0.016570   \n",
       " 2025-08-28                           0.016570   \n",
       " 2025-08-29                           0.017116   \n",
       " 2025-08-30                           0.017116   \n",
       " 2025-08-31                           0.017691   \n",
       " \n",
       "             incidD_unvaccinated_ALL_age18to64HRph4  \\\n",
       " date                                                 \n",
       " 2023-03-19                                0.000000   \n",
       " 2023-03-20                                0.000000   \n",
       " 2023-03-21                                0.000000   \n",
       " 2023-03-22                                0.000000   \n",
       " 2023-03-23                                0.000000   \n",
       " ...                                            ...   \n",
       " 2025-08-27                                0.425366   \n",
       " 2025-08-28                                0.425366   \n",
       " 2025-08-29                                0.439391   \n",
       " 2025-08-30                                0.439391   \n",
       " 2025-08-31                                0.454142   \n",
       " \n",
       "             incidD_vaccinated_ALL_age18to64HRph4  \\\n",
       " date                                               \n",
       " 2023-03-19                              0.000000   \n",
       " 2023-03-20                              0.000000   \n",
       " 2023-03-21                              0.000000   \n",
       " 2023-03-22                              0.000000   \n",
       " 2023-03-23                              0.000000   \n",
       " ...                                          ...   \n",
       " 2025-08-27                              0.281468   \n",
       " 2025-08-28                              0.281468   \n",
       " 2025-08-29                              0.290752   \n",
       " 2025-08-30                              0.290752   \n",
       " 2025-08-31                              0.300516   \n",
       " \n",
       "             incidD_unvaccinated_ALL_age18to64LRph4  \\\n",
       " date                                                 \n",
       " 2023-03-19                                0.000000   \n",
       " 2023-03-20                                0.000000   \n",
       " 2023-03-21                                0.000000   \n",
       " 2023-03-22                                0.000000   \n",
       " 2023-03-23                                0.000000   \n",
       " ...                                            ...   \n",
       " 2025-08-27                                6.860422   \n",
       " 2025-08-28                                6.860422   \n",
       " 2025-08-29                                7.086584   \n",
       " 2025-08-30                                7.086584   \n",
       " 2025-08-31                                7.324442   \n",
       " \n",
       "             incidD_vaccinated_ALL_age18to64LRph4  \\\n",
       " date                                               \n",
       " 2023-03-19                              0.000000   \n",
       " 2023-03-20                              0.000000   \n",
       " 2023-03-21                              0.000000   \n",
       " 2023-03-22                              0.000000   \n",
       " 2023-03-23                              0.000000   \n",
       " ...                                          ...   \n",
       " 2025-08-27                              3.059482   \n",
       " 2025-08-28                              3.059482   \n",
       " 2025-08-29                              3.160387   \n",
       " 2025-08-30                              3.160387   \n",
       " 2025-08-31                              3.266510   \n",
       " \n",
       "             incidD_unvaccinated_ALL_age65to100ph4  \\\n",
       " date                                                \n",
       " 2023-03-19                               0.000000   \n",
       " 2023-03-20                               0.000000   \n",
       " 2023-03-21                               0.000000   \n",
       " 2023-03-22                               0.000000   \n",
       " 2023-03-23                               0.000000   \n",
       " ...                                           ...   \n",
       " 2025-08-27                              21.213883   \n",
       " 2025-08-28                              21.213883   \n",
       " 2025-08-29                              21.913488   \n",
       " 2025-08-30                              21.913488   \n",
       " 2025-08-31                              22.649273   \n",
       " \n",
       "             incidD_vaccinated_ALL_age65to100ph4  incidD_ALL     incidD  \n",
       " date                                                                    \n",
       " 2023-03-19                             0.000000    0.000000   0.000000  \n",
       " 2023-03-20                             0.000000    0.000000   0.000000  \n",
       " 2023-03-21                             0.000000    0.000000   0.000000  \n",
       " 2023-03-22                             0.000000    0.000000   0.000000  \n",
       " 2023-03-23                             0.000000    0.000000   0.000000  \n",
       " ...                                         ...         ...        ...  \n",
       " 2025-08-27                            49.314569   81.228195  81.228195  \n",
       " 2025-08-28                            49.314569   81.228195  81.228195  \n",
       " 2025-08-29                            50.940132   83.906148  83.906148  \n",
       " 2025-08-30                            50.940132   83.906148  83.906148  \n",
       " 2025-08-31                            52.649753   86.722581  86.722581  \n",
       " \n",
       " [45747 rows x 41 columns],\n",
       " -45965.619806338706,\n",
       " <xarray.DataArray (statistic: 2, subpop: 51)>\n",
       " array([[-383.53156396, -383.53156396, -383.53156396, -383.53156396,\n",
       "         -383.53156396, -383.53156396, -383.53156396, -383.53156396,\n",
       "         -383.53156396, -383.53156396, -383.53156396, -383.53156396,\n",
       "         -383.53156396, -383.53156396, -383.53156396, -383.53156396,\n",
       "         -383.53156396, -383.53156396, -383.53156396, -383.53156396,\n",
       "         -383.53156396, -383.53156396, -383.53156396, -383.53156396,\n",
       "         -383.53156396, -383.53156396, -383.53156396, -383.53156396,\n",
       "         -383.53156396, -383.53156396, -383.53156396, -383.53156396,\n",
       "         -383.53156396, -383.53156396, -383.53156396, -383.53156396,\n",
       "         -383.53156396, -383.53156396, -383.53156396, -383.53156396,\n",
       "         -383.53156396, -383.53156396, -383.53156396, -383.53156396,\n",
       "         -383.53156396, -383.53156396, -383.53156396, -383.53156396,\n",
       "         -383.53156396, -383.53156396, -383.53156396],\n",
       "        [-409.90380492, -409.90380492, -409.90380492, -409.90380492,\n",
       "         -409.90380492, -409.90380492, -409.90380492, -409.90380492,\n",
       "         -409.90380492, -409.90380492, -409.90380492, -409.90380492,\n",
       "         -409.90380492, -409.90380492, -409.90380492, -409.90380492,\n",
       "         -409.90380492, -409.90380492, -409.90380492, -409.90380492,\n",
       "         -409.90380492, -409.90380492, -409.90380492, -409.90380492,\n",
       "         -409.90380492, -409.90380492, -409.90380492, -409.90380492,\n",
       "         -409.90380492, -409.90380492, -409.90380492, -409.90380492,\n",
       "         -409.90380492, -409.90380492, -409.90380492, -409.90380492,\n",
       "         -409.90380492, -409.90380492, -409.90380492, -409.90380492,\n",
       "         -409.90380492, -409.90380492, -409.90380492, -409.90380492,\n",
       "         -409.90380492, -409.90380492, -409.90380492, -409.90380492,\n",
       "         -409.90380492, -409.90380492, -409.90380492]])\n",
       " Coordinates:\n",
       "   * statistic  (statistic) <U10 'sum_deaths' 'sum_hosp'\n",
       "   * subpop     (subpop) <U5 '56000' '50000' '11000' ... '12000' '48000' '06000',\n",
       " -5500.415993265538)"
      ]
     },
     "execution_count": 3,
     "metadata": {},
     "output_type": "execute_result"
    }
   ],
   "source": [
    "gempyor_inference.perform_test_run()"
   ]
  },
  {
   "cell_type": "code",
   "execution_count": 4,
   "id": "3ca29574",
   "metadata": {},
   "outputs": [
    {
     "name": "stdout",
     "output_type": "stream",
     "text": [
      "llik is -45729.70247489614\n",
      "llik is -45842.41667236088\n",
      "llik is -45976.52186496037\n"
     ]
    },
    {
     "name": "stderr",
     "output_type": "stream",
     "text": [
      "  0%|          | 0/4 [00:00<?, ?it/s]"
     ]
    },
    {
     "name": "stdout",
     "output_type": "stream",
     "text": [
      "llik is -45757.469693276245\n",
      "llik is -45865.942736300945\n"
     ]
    },
    {
     "name": "stderr",
     "output_type": "stream",
     "text": [
      " 25%|██▌       | 1/4 [00:32<01:38, 32.96s/it]"
     ]
    },
    {
     "name": "stdout",
     "output_type": "stream",
     "text": [
      "llik is -45972.74954846854\n",
      "llik is -45591.36506356454\n",
      "llik is -45901.314939441305\n"
     ]
    },
    {
     "name": "stderr",
     "output_type": "stream",
     "text": [
      " 50%|█████     | 2/4 [01:05<01:05, 32.74s/it]"
     ]
    },
    {
     "name": "stdout",
     "output_type": "stream",
     "text": [
      "llik is -46074.59348286781\n",
      "llik is -45890.32092923346\n",
      "llik is -45969.61363397053\n"
     ]
    },
    {
     "name": "stderr",
     "output_type": "stream",
     "text": [
      " 75%|███████▌  | 3/4 [01:38<00:33, 33.00s/it]"
     ]
    },
    {
     "name": "stdout",
     "output_type": "stream",
     "text": [
      "llik is -45519.50216712484\n",
      "llik is -45544.68410035816\n",
      "llik is -45883.33418188836\n"
     ]
    }
   ],
   "source": [
    "filename = f\"{run_id}_backend.h5\"\n",
    "backend = emcee.backends.HDFBackend(filename)\n",
    "backend.reset(nwalkers, gempyor_inference.inferpar.get_dim())\n",
    "gempyor_inference.set_silent(False)\n",
    "with Pool(3) as pool:\n",
    "        sampler = emcee.EnsembleSampler(nwalkers, \n",
    "                                        gempyor_inference.inferpar.get_dim(), \n",
    "                                        gempyor_inference.get_logloss_as_single_number, \n",
    "                                        pool=pool,\n",
    "                                        backend=backend, moves=[(emcee.moves.StretchMove(live_dangerously=True), 1)])\n",
    "        state = sampler.run_mcmc(p0, niter, progress=True, skip_initial_state_check=True)"
   ]
  },
  {
   "cell_type": "code",
   "execution_count": null,
   "id": "387b2f8a",
   "metadata": {},
   "outputs": [
    {
     "ename": "AttributeError",
     "evalue": "'GempyorInference' object has no attribute 'inferpar'",
     "output_type": "error",
     "traceback": [
      "\u001b[0;31m---------------------------------------------------------------------------\u001b[0m",
      "\u001b[0;31mAttributeError\u001b[0m                            Traceback (most recent call last)",
      "Cell \u001b[0;32mIn[2], line 1\u001b[0m\n\u001b[0;32m----> 1\u001b[0m gempyor_inference\u001b[38;5;241m.\u001b[39mget_logloss_as_single_number(p0[\u001b[38;5;241m0\u001b[39m])\n",
      "File \u001b[0;32m~/Research/FlepiMoP_Projects/flepiMoP/flepimop/gempyor_pkg/src/gempyor/inference.py:371\u001b[0m, in \u001b[0;36mGempyorInference.get_logloss_as_single_number\u001b[0;34m(self, proposal, save, silent)\u001b[0m\n\u001b[1;32m    370\u001b[0m \u001b[38;5;28;01mdef\u001b[39;00m \u001b[38;5;21mget_logloss_as_single_number\u001b[39m(\u001b[38;5;28mself\u001b[39m, proposal, save\u001b[38;5;241m=\u001b[39m\u001b[38;5;28;01mFalse\u001b[39;00m, silent\u001b[38;5;241m=\u001b[39m\u001b[38;5;28;01mTrue\u001b[39;00m):\n\u001b[0;32m--> 371\u001b[0m     ll_total, _, _ \u001b[38;5;241m=\u001b[39m \u001b[38;5;28mself\u001b[39m\u001b[38;5;241m.\u001b[39mget_logloss(proposal, save\u001b[38;5;241m=\u001b[39msave, silent\u001b[38;5;241m=\u001b[39msilent)\n\u001b[1;32m    372\u001b[0m     \u001b[38;5;28;01mreturn\u001b[39;00m ll_total\n",
      "File \u001b[0;32m~/Research/FlepiMoP_Projects/flepiMoP/flepimop/gempyor_pkg/src/gempyor/inference.py:351\u001b[0m, in \u001b[0;36mGempyorInference.get_logloss\u001b[0;34m(self, proposal, save, silent)\u001b[0m\n\u001b[1;32m    348\u001b[0m         \u001b[38;5;28mprint\u001b[39m(\u001b[38;5;124m\"\u001b[39m\u001b[38;5;124mOUT OF BOUND!!\u001b[39m\u001b[38;5;124m\"\u001b[39m)\n\u001b[1;32m    349\u001b[0m     \u001b[38;5;28;01mreturn\u001b[39;00m \u001b[38;5;241m-\u001b[39mnp\u001b[38;5;241m.\u001b[39minf\n\u001b[0;32m--> 351\u001b[0m snpi_df_mod, hnpi_df_mod \u001b[38;5;241m=\u001b[39m \u001b[38;5;28mself\u001b[39m\u001b[38;5;241m.\u001b[39minferpar\u001b[38;5;241m.\u001b[39minject_proposal(\n\u001b[1;32m    352\u001b[0m     proposal\u001b[38;5;241m=\u001b[39mproposal, snpi_df\u001b[38;5;241m=\u001b[39m\u001b[38;5;28mself\u001b[39m\u001b[38;5;241m.\u001b[39mstatic_sim_arguments[\u001b[38;5;124m\"\u001b[39m\u001b[38;5;124msnpi_df_ref\u001b[39m\u001b[38;5;124m\"\u001b[39m], hnpi_df\u001b[38;5;241m=\u001b[39m\u001b[38;5;28mself\u001b[39m\u001b[38;5;241m.\u001b[39mstatic_sim_arguments[\u001b[38;5;124m\"\u001b[39m\u001b[38;5;124mhnpi_df_ref\u001b[39m\u001b[38;5;124m\"\u001b[39m]\n\u001b[1;32m    353\u001b[0m )\n\u001b[1;32m    355\u001b[0m ss \u001b[38;5;241m=\u001b[39m copy\u001b[38;5;241m.\u001b[39mdeepcopy(\u001b[38;5;28mself\u001b[39m\u001b[38;5;241m.\u001b[39mstatic_sim_arguments)\n\u001b[1;32m    356\u001b[0m ss[\u001b[38;5;124m\"\u001b[39m\u001b[38;5;124msnpi_df_in\u001b[39m\u001b[38;5;124m\"\u001b[39m] \u001b[38;5;241m=\u001b[39m snpi_df_mod\n",
      "\u001b[0;31mAttributeError\u001b[0m: 'GempyorInference' object has no attribute 'inferpar'"
     ]
    }
   ],
   "source": [
    "# config: config_SMH_R18_allBoo_highIE_blk1_emcee.yml\n",
    "p_draw = modinf.parameters.parameters_quick_draw(n_days=modinf.n_days, nsubpops=modinf.nsubpops)\n",
    "npi_seir = seir.build_npi_SEIR(modinf=modinf, load_ID=False, sim_id2load=None, config=config, bypass_DF=gempyor.read_df(\"a/000000005.FCH_R17_allBoo_highIE_phase5_blk1_21Apr2024.snpi.parquet\"))\n",
    "parameters = modinf.parameters.parameters_reduce(p_draw, npi_seir)\n",
    "parsed_parameters = modinf.compartments.parse_parameters(parameters, modinf.parameters.pnames, static_sim_arguments[\"unique_strings\"])\n",
    "\n",
    "toplot = 'r0*gamma*theta3*1*chi_OMICRON*1'\n",
    "toplot_id = static_sim_arguments[\"unique_strings\"].index(toplot)\n",
    "# try 3 rolling mean with differnt windowns and plot them on the same fig\n",
    "fig, ax = plt.subplots(8, 1, figsize=(10, 12))\n",
    "ax[0].set_title(f\"parameter {toplot} from slot 5 of FCH_R17_allBoo_highIE_phase5_blk1_21Apr2024\")\n",
    "for i, window in enumerate([7, 1, 20, 31, 38, 45, 65, 80]):\n",
    "    ax[i].plot(parsed_parameters[toplot_id, :, 0], color = 'k', lw=.5, ls='-.', label = f\"current from config\")\n",
    "    #ax[i].plot(pd.Series(parsed_parameters[toplot_id, :, 0]).rolling(window=window, center=True).mean(), label = f\"window {window}\", lw=3)\n",
    "    ax[i].plot(gempyor.utils.rolling_mean_pad(data=parsed_parameters[toplot_id, :, :], window=window)[:,0], label = f\"window {window}\")\n",
    "    ax[i].set_title(f\"mean difference: {np.mean(np.abs(parsed_parameters[toplot_id, :, 0] - gempyor.utils.rolling_mean_pad(data=parsed_parameters[toplot_id, :, :], window=window)[:,0]))}\")\n",
    "    ax[i].legend()\n",
    "fig.tight_layout()"
   ]
  },
  {
   "cell_type": "code",
   "execution_count": null,
   "id": "079b87d3",
   "metadata": {},
   "outputs": [
    {
     "name": "stdout",
     "output_type": "stream",
     "text": [
      "llik: -46237.56540759982\n",
      "llik: -46051.281202656246\n",
      "llik: -45831.8716673561\n"
     ]
    },
    {
     "name": "stderr",
     "output_type": "stream",
     "text": [
      "  0%|          | 0/5 [00:00<?, ?it/s]"
     ]
    },
    {
     "name": "stdout",
     "output_type": "stream",
     "text": [
      "llik: -46099.484509051355\n",
      "llik: -46195.55396420405\n"
     ]
    },
    {
     "name": "stderr",
     "output_type": "stream",
     "text": [
      " 20%|██        | 1/5 [00:33<02:13, 33.33s/it]"
     ]
    },
    {
     "name": "stdout",
     "output_type": "stream",
     "text": [
      "llik: -45909.410404363836\n"
     ]
    },
    {
     "name": "stderr",
     "output_type": "stream",
     "text": [
      " 20%|██        | 1/5 [00:34<02:17, 34.33s/it]\n"
     ]
    },
    {
     "ename": "KeyboardInterrupt",
     "evalue": "",
     "output_type": "error",
     "traceback": [
      "\u001b[0;31m---------------------------------------------------------------------------\u001b[0m",
      "\u001b[0;31mKeyboardInterrupt\u001b[0m                         Traceback (most recent call last)",
      "Cell \u001b[0;32mIn[16], line 10\u001b[0m\n\u001b[1;32m      4\u001b[0m \u001b[38;5;28;01mwith\u001b[39;00m Pool(\u001b[38;5;241m3\u001b[39m) \u001b[38;5;28;01mas\u001b[39;00m pool:\n\u001b[1;32m      5\u001b[0m         sampler \u001b[38;5;241m=\u001b[39m emcee\u001b[38;5;241m.\u001b[39mEnsembleSampler(\u001b[38;5;241m3\u001b[39m, \n\u001b[1;32m      6\u001b[0m                                         inferpar\u001b[38;5;241m.\u001b[39mget_dim(), \n\u001b[1;32m      7\u001b[0m                                         a\u001b[38;5;241m.\u001b[39mrun, \n\u001b[1;32m      8\u001b[0m                                         pool\u001b[38;5;241m=\u001b[39mpool,\n\u001b[1;32m      9\u001b[0m                                         backend\u001b[38;5;241m=\u001b[39mbackend, moves\u001b[38;5;241m=\u001b[39m[(emcee\u001b[38;5;241m.\u001b[39mmoves\u001b[38;5;241m.\u001b[39mStretchMove(live_dangerously\u001b[38;5;241m=\u001b[39m\u001b[38;5;28;01mTrue\u001b[39;00m), \u001b[38;5;241m1\u001b[39m)])\n\u001b[0;32m---> 10\u001b[0m         state \u001b[38;5;241m=\u001b[39m sampler\u001b[38;5;241m.\u001b[39mrun_mcmc(p0[\u001b[38;5;241m0\u001b[39m:\u001b[38;5;241m3\u001b[39m,:], \u001b[38;5;241m5\u001b[39m, progress\u001b[38;5;241m=\u001b[39m\u001b[38;5;28;01mTrue\u001b[39;00m, skip_initial_state_check\u001b[38;5;241m=\u001b[39m\u001b[38;5;28;01mTrue\u001b[39;00m)\n",
      "File \u001b[0;32m~/anaconda3/lib/python3.11/site-packages/emcee/ensemble.py:443\u001b[0m, in \u001b[0;36mEnsembleSampler.run_mcmc\u001b[0;34m(self, initial_state, nsteps, **kwargs)\u001b[0m\n\u001b[1;32m    440\u001b[0m     initial_state \u001b[38;5;241m=\u001b[39m \u001b[38;5;28mself\u001b[39m\u001b[38;5;241m.\u001b[39m_previous_state\n\u001b[1;32m    442\u001b[0m results \u001b[38;5;241m=\u001b[39m \u001b[38;5;28;01mNone\u001b[39;00m\n\u001b[0;32m--> 443\u001b[0m \u001b[38;5;28;01mfor\u001b[39;00m results \u001b[38;5;129;01min\u001b[39;00m \u001b[38;5;28mself\u001b[39m\u001b[38;5;241m.\u001b[39msample(initial_state, iterations\u001b[38;5;241m=\u001b[39mnsteps, \u001b[38;5;241m*\u001b[39m\u001b[38;5;241m*\u001b[39mkwargs):\n\u001b[1;32m    444\u001b[0m     \u001b[38;5;28;01mpass\u001b[39;00m\n\u001b[1;32m    446\u001b[0m \u001b[38;5;66;03m# Store so that the ``initial_state=None`` case will work\u001b[39;00m\n",
      "File \u001b[0;32m~/anaconda3/lib/python3.11/site-packages/emcee/ensemble.py:402\u001b[0m, in \u001b[0;36mEnsembleSampler.sample\u001b[0;34m(self, initial_state, log_prob0, rstate0, blobs0, iterations, tune, skip_initial_state_check, thin_by, thin, store, progress, progress_kwargs)\u001b[0m\n\u001b[1;32m    399\u001b[0m move \u001b[38;5;241m=\u001b[39m \u001b[38;5;28mself\u001b[39m\u001b[38;5;241m.\u001b[39m_random\u001b[38;5;241m.\u001b[39mchoice(\u001b[38;5;28mself\u001b[39m\u001b[38;5;241m.\u001b[39m_moves, p\u001b[38;5;241m=\u001b[39m\u001b[38;5;28mself\u001b[39m\u001b[38;5;241m.\u001b[39m_weights)\n\u001b[1;32m    401\u001b[0m \u001b[38;5;66;03m# Propose\u001b[39;00m\n\u001b[0;32m--> 402\u001b[0m state, accepted \u001b[38;5;241m=\u001b[39m move\u001b[38;5;241m.\u001b[39mpropose(model, state)\n\u001b[1;32m    403\u001b[0m state\u001b[38;5;241m.\u001b[39mrandom_state \u001b[38;5;241m=\u001b[39m \u001b[38;5;28mself\u001b[39m\u001b[38;5;241m.\u001b[39mrandom_state\n\u001b[1;32m    405\u001b[0m \u001b[38;5;28;01mif\u001b[39;00m tune:\n",
      "File \u001b[0;32m~/anaconda3/lib/python3.11/site-packages/emcee/moves/red_blue.py:93\u001b[0m, in \u001b[0;36mRedBlueMove.propose\u001b[0;34m(self, model, state)\u001b[0m\n\u001b[1;32m     90\u001b[0m q, factors \u001b[38;5;241m=\u001b[39m \u001b[38;5;28mself\u001b[39m\u001b[38;5;241m.\u001b[39mget_proposal(s, c, model\u001b[38;5;241m.\u001b[39mrandom)\n\u001b[1;32m     92\u001b[0m \u001b[38;5;66;03m# Compute the lnprobs of the proposed position.\u001b[39;00m\n\u001b[0;32m---> 93\u001b[0m new_log_probs, new_blobs \u001b[38;5;241m=\u001b[39m model\u001b[38;5;241m.\u001b[39mcompute_log_prob_fn(q)\n\u001b[1;32m     95\u001b[0m \u001b[38;5;66;03m# Loop over the walkers and update them accordingly.\u001b[39;00m\n\u001b[1;32m     96\u001b[0m \u001b[38;5;28;01mfor\u001b[39;00m i, (j, f, nlp) \u001b[38;5;129;01min\u001b[39;00m \u001b[38;5;28menumerate\u001b[39m(\n\u001b[1;32m     97\u001b[0m     \u001b[38;5;28mzip\u001b[39m(all_inds[S1], factors, new_log_probs)\n\u001b[1;32m     98\u001b[0m ):\n",
      "File \u001b[0;32m~/anaconda3/lib/python3.11/site-packages/emcee/ensemble.py:489\u001b[0m, in \u001b[0;36mEnsembleSampler.compute_log_prob\u001b[0;34m(self, coords)\u001b[0m\n\u001b[1;32m    487\u001b[0m     \u001b[38;5;28;01melse\u001b[39;00m:\n\u001b[1;32m    488\u001b[0m         map_func \u001b[38;5;241m=\u001b[39m \u001b[38;5;28mmap\u001b[39m\n\u001b[0;32m--> 489\u001b[0m     results \u001b[38;5;241m=\u001b[39m \u001b[38;5;28mlist\u001b[39m(map_func(\u001b[38;5;28mself\u001b[39m\u001b[38;5;241m.\u001b[39mlog_prob_fn, p))\n\u001b[1;32m    491\u001b[0m \u001b[38;5;28;01mtry\u001b[39;00m:\n\u001b[1;32m    492\u001b[0m     log_prob \u001b[38;5;241m=\u001b[39m np\u001b[38;5;241m.\u001b[39marray([\u001b[38;5;28mfloat\u001b[39m(l[\u001b[38;5;241m0\u001b[39m]) \u001b[38;5;28;01mfor\u001b[39;00m l \u001b[38;5;129;01min\u001b[39;00m results])\n",
      "File \u001b[0;32m~/anaconda3/lib/python3.11/multiprocessing/pool.py:367\u001b[0m, in \u001b[0;36mPool.map\u001b[0;34m(self, func, iterable, chunksize)\u001b[0m\n\u001b[1;32m    362\u001b[0m \u001b[38;5;28;01mdef\u001b[39;00m \u001b[38;5;21mmap\u001b[39m(\u001b[38;5;28mself\u001b[39m, func, iterable, chunksize\u001b[38;5;241m=\u001b[39m\u001b[38;5;28;01mNone\u001b[39;00m):\n\u001b[1;32m    363\u001b[0m \u001b[38;5;250m    \u001b[39m\u001b[38;5;124;03m'''\u001b[39;00m\n\u001b[1;32m    364\u001b[0m \u001b[38;5;124;03m    Apply `func` to each element in `iterable`, collecting the results\u001b[39;00m\n\u001b[1;32m    365\u001b[0m \u001b[38;5;124;03m    in a list that is returned.\u001b[39;00m\n\u001b[1;32m    366\u001b[0m \u001b[38;5;124;03m    '''\u001b[39;00m\n\u001b[0;32m--> 367\u001b[0m     \u001b[38;5;28;01mreturn\u001b[39;00m \u001b[38;5;28mself\u001b[39m\u001b[38;5;241m.\u001b[39m_map_async(func, iterable, mapstar, chunksize)\u001b[38;5;241m.\u001b[39mget()\n",
      "File \u001b[0;32m~/anaconda3/lib/python3.11/multiprocessing/pool.py:768\u001b[0m, in \u001b[0;36mApplyResult.get\u001b[0;34m(self, timeout)\u001b[0m\n\u001b[1;32m    767\u001b[0m \u001b[38;5;28;01mdef\u001b[39;00m \u001b[38;5;21mget\u001b[39m(\u001b[38;5;28mself\u001b[39m, timeout\u001b[38;5;241m=\u001b[39m\u001b[38;5;28;01mNone\u001b[39;00m):\n\u001b[0;32m--> 768\u001b[0m     \u001b[38;5;28mself\u001b[39m\u001b[38;5;241m.\u001b[39mwait(timeout)\n\u001b[1;32m    769\u001b[0m     \u001b[38;5;28;01mif\u001b[39;00m \u001b[38;5;129;01mnot\u001b[39;00m \u001b[38;5;28mself\u001b[39m\u001b[38;5;241m.\u001b[39mready():\n\u001b[1;32m    770\u001b[0m         \u001b[38;5;28;01mraise\u001b[39;00m \u001b[38;5;167;01mTimeoutError\u001b[39;00m\n",
      "File \u001b[0;32m~/anaconda3/lib/python3.11/multiprocessing/pool.py:765\u001b[0m, in \u001b[0;36mApplyResult.wait\u001b[0;34m(self, timeout)\u001b[0m\n\u001b[1;32m    764\u001b[0m \u001b[38;5;28;01mdef\u001b[39;00m \u001b[38;5;21mwait\u001b[39m(\u001b[38;5;28mself\u001b[39m, timeout\u001b[38;5;241m=\u001b[39m\u001b[38;5;28;01mNone\u001b[39;00m):\n\u001b[0;32m--> 765\u001b[0m     \u001b[38;5;28mself\u001b[39m\u001b[38;5;241m.\u001b[39m_event\u001b[38;5;241m.\u001b[39mwait(timeout)\n",
      "File \u001b[0;32m~/anaconda3/lib/python3.11/threading.py:622\u001b[0m, in \u001b[0;36mEvent.wait\u001b[0;34m(self, timeout)\u001b[0m\n\u001b[1;32m    620\u001b[0m signaled \u001b[38;5;241m=\u001b[39m \u001b[38;5;28mself\u001b[39m\u001b[38;5;241m.\u001b[39m_flag\n\u001b[1;32m    621\u001b[0m \u001b[38;5;28;01mif\u001b[39;00m \u001b[38;5;129;01mnot\u001b[39;00m signaled:\n\u001b[0;32m--> 622\u001b[0m     signaled \u001b[38;5;241m=\u001b[39m \u001b[38;5;28mself\u001b[39m\u001b[38;5;241m.\u001b[39m_cond\u001b[38;5;241m.\u001b[39mwait(timeout)\n\u001b[1;32m    623\u001b[0m \u001b[38;5;28;01mreturn\u001b[39;00m signaled\n",
      "File \u001b[0;32m~/anaconda3/lib/python3.11/threading.py:320\u001b[0m, in \u001b[0;36mCondition.wait\u001b[0;34m(self, timeout)\u001b[0m\n\u001b[1;32m    318\u001b[0m \u001b[38;5;28;01mtry\u001b[39;00m:    \u001b[38;5;66;03m# restore state no matter what (e.g., KeyboardInterrupt)\u001b[39;00m\n\u001b[1;32m    319\u001b[0m     \u001b[38;5;28;01mif\u001b[39;00m timeout \u001b[38;5;129;01mis\u001b[39;00m \u001b[38;5;28;01mNone\u001b[39;00m:\n\u001b[0;32m--> 320\u001b[0m         waiter\u001b[38;5;241m.\u001b[39macquire()\n\u001b[1;32m    321\u001b[0m         gotit \u001b[38;5;241m=\u001b[39m \u001b[38;5;28;01mTrue\u001b[39;00m\n\u001b[1;32m    322\u001b[0m     \u001b[38;5;28;01melse\u001b[39;00m:\n",
      "\u001b[0;31mKeyboardInterrupt\u001b[0m: "
     ]
    }
   ],
   "source": [
    "filename = f\"{run_id}_backend.h5\"\n",
    "backend = emcee.backends.HDFBackend(filename)\n",
    "backend.reset(3, inferpar.get_dim())\n",
    "with Pool(3) as pool:\n",
    "        sampler = emcee.EnsembleSampler(3, \n",
    "                                        inferpar.get_dim(), \n",
    "                                        a.run, \n",
    "                                        pool=pool,\n",
    "                                        backend=backend, moves=[(emcee.moves.StretchMove(live_dangerously=True), 1)])\n",
    "        state = sampler.run_mcmc(p0[0:3,:], 5, progress=True, skip_initial_state_check=True)"
   ]
  },
  {
   "cell_type": "code",
   "execution_count": null,
   "id": "f60e3d82",
   "metadata": {},
   "outputs": [],
   "source": [
    "ds[\"incidH_18_49\"].sum(dim=\"subpop\", skipna=False).plot()"
   ]
  },
  {
   "cell_type": "code",
   "execution_count": null,
   "id": "467df7e5",
   "metadata": {},
   "outputs": [],
   "source": [
    "ds[\"incidH_18_49\"].resample(date=\"W-SAT\").sum().plot.line(x=\"date\");"
   ]
  },
  {
   "cell_type": "code",
   "execution_count": null,
   "id": "269439a8",
   "metadata": {},
   "outputs": [],
   "source": [
    "ds[\"incidH_18_49\"].resample(date=\"W-SAT\").sum(skipna=False).plot.line(x=\"date\");"
   ]
  },
  {
   "cell_type": "code",
   "execution_count": null,
   "id": "55a2a8f6",
   "metadata": {},
   "outputs": [],
   "source": [
    "ds[\"incidH_18_49\"].resample(date=\"W-SAT\", skipna=False).sum().plot.line(x=\"date\");"
   ]
  },
  {
   "cell_type": "code",
   "execution_count": null,
   "id": "70701b6c",
   "metadata": {},
   "outputs": [],
   "source": []
  },
  {
   "cell_type": "code",
   "execution_count": null,
   "id": "3e84f6ba",
   "metadata": {},
   "outputs": [],
   "source": []
  },
  {
   "cell_type": "code",
   "execution_count": null,
   "id": "17c32c59",
   "metadata": {},
   "outputs": [],
   "source": [
    "if False:\n",
    "    log_loss.plot_gt(subplot=True);\n",
    "    for reg_func, reg_config in log_loss.statistics['incidCase'].regularizations:\n",
    "        print(reg_func,\"\\n\", reg_config)"
   ]
  },
  {
   "cell_type": "markdown",
   "id": "824ffa08",
   "metadata": {},
   "source": [
    "## Create the first gempyor object"
   ]
  },
  {
   "cell_type": "code",
   "execution_count": null,
   "id": "ee2b5b3a",
   "metadata": {},
   "outputs": [],
   "source": []
  },
  {
   "cell_type": "code",
   "execution_count": null,
   "id": "39e90807",
   "metadata": {},
   "outputs": [],
   "source": []
  },
  {
   "cell_type": "code",
   "execution_count": null,
   "id": "ae4e3db5",
   "metadata": {},
   "outputs": [],
   "source": [
    "hosp.reset_index().set_index([\"date\",\"subpop\"])\n",
    "xr.Dataset.from_dataframe(hosp.reset_index().set_index([\"date\",\"subpop\"]))"
   ]
  },
  {
   "cell_type": "code",
   "execution_count": null,
   "id": "135a5c34",
   "metadata": {},
   "outputs": [],
   "source": []
  },
  {
   "cell_type": "code",
   "execution_count": null,
   "id": "b73d97b8",
   "metadata": {},
   "outputs": [],
   "source": []
  },
  {
   "cell_type": "code",
   "execution_count": null,
   "id": "d0f84f3c",
   "metadata": {},
   "outputs": [],
   "source": [
    "raise ValueError"
   ]
  },
  {
   "cell_type": "markdown",
   "id": "25c032a1",
   "metadata": {},
   "source": [
    "## Run EMCEE"
   ]
  },
  {
   "cell_type": "code",
   "execution_count": null,
   "id": "76738408",
   "metadata": {},
   "outputs": [],
   "source": []
  },
  {
   "cell_type": "code",
   "execution_count": null,
   "id": "cf3b79a9",
   "metadata": {},
   "outputs": [],
   "source": [
    "backend = emcee.backends.HDFBackend(filename)\n",
    "with Pool(ncpu) as pool:\n",
    "    sampler = emcee.EnsembleSampler(nwalkers, ndim, log_prob, \n",
    "                                    args=[snpi_df_ref, ndim, statistics, fitted_params, gt, hnpi_df_ref, modinf, p_draw, unique_strings, transition_array, proportion_array, proportion_info, initial_conditions, seeding_data, seeding_amounts,outcomes_parameters, True], \n",
    "                                    pool=pool,\n",
    "                                    backend=backend,  moves=[(emcee.moves.StretchMove(live_dangerously=True), 1)])\n",
    "    state = sampler.run_mcmc(None, (nsamples//nwalkers)+1, progress=True, skip_initial_state_check=True)"
   ]
  },
  {
   "cell_type": "code",
   "execution_count": null,
   "id": "6ce6df96",
   "metadata": {},
   "outputs": [],
   "source": []
  },
  {
   "cell_type": "code",
   "execution_count": null,
   "id": "8d77d62d",
   "metadata": {},
   "outputs": [],
   "source": [
    "    print(f\"Done, mean acceptance fraction: {np.mean(sampler.acceptance_fraction):.3f}\")"
   ]
  },
  {
   "cell_type": "code",
   "execution_count": null,
   "id": "a56b381c",
   "metadata": {},
   "outputs": [],
   "source": [
    "plt.plot(sampler.acceptance_fraction)"
   ]
  },
  {
   "cell_type": "markdown",
   "id": "6abbc293",
   "metadata": {},
   "source": [
    "## Analysi"
   ]
  },
  {
   "cell_type": "code",
   "execution_count": null,
   "id": "2c2d87c4",
   "metadata": {},
   "outputs": [],
   "source": [
    "filename = f\"{run_id}_backend.h5\"\n",
    "sampler = emcee.backends.HDFBackend(filename, read_only=True)"
   ]
  },
  {
   "cell_type": "code",
   "execution_count": null,
   "id": "dfaf36a8",
   "metadata": {},
   "outputs": [],
   "source": [
    "sampler.get_chain().shape"
   ]
  },
  {
   "cell_type": "code",
   "execution_count": null,
   "id": "15b7eda3",
   "metadata": {},
   "outputs": [],
   "source": [
    "# todo: restart form other shape..."
   ]
  },
  {
   "cell_type": "code",
   "execution_count": null,
   "id": "9857ba61",
   "metadata": {},
   "outputs": [],
   "source": [
    "last_llik = sampler.get_log_prob()[-1,:]\n",
    "good_slots = last_llik > (last_llik.mean()-1*last_llik.std())\n",
    "print(f\"there are {good_slots.sum()}/{len(good_slots)} good walkers... keeping these\")"
   ]
  },
  {
   "cell_type": "code",
   "execution_count": null,
   "id": "8ba9d763",
   "metadata": {},
   "outputs": [],
   "source": []
  },
  {
   "cell_type": "code",
   "execution_count": null,
   "id": "79839347",
   "metadata": {},
   "outputs": [],
   "source": [
    "fig, axes = plt.subplots(inferpar.get_dim()+1,2, figsize=(15, (inferpar.get_dim()+1)*2))\n",
    "\n",
    "labels = list(zip(inferpar.pnames, inferpar.subpops))\n",
    "samples = sampler.get_chain()\n",
    "\n",
    "import seaborn as sns\n",
    "def plot_chain(frompt,axes):\n",
    "    ax = axes[0]\n",
    "\n",
    "    ax.plot(np.arange(frompt,frompt+sampler.get_log_prob()[frompt:].shape[0]),\n",
    "                      sampler.get_log_prob()[frompt:,good_slots], \"navy\", alpha=.2, lw=1, label=\"good walkers\")\n",
    "    ax.plot(np.arange(frompt,frompt+sampler.get_log_prob()[frompt:].shape[0]),\n",
    "            sampler.get_log_prob()[frompt:,~good_slots], \"tomato\", alpha=.4, lw=1, label=\"bad walkers\")\n",
    "    ax.set_title(\"llik\")\n",
    "    #ax.legend()\n",
    "    sns.despine(ax=ax, trim=False)\n",
    "    ax.set_xlim(frompt, frompt+sampler.get_log_prob()[frompt:].shape[0])\n",
    "\n",
    "    #ax.set_xlim(0, len(samples))\n",
    "\n",
    "    for i in range(inferpar.get_dim()):\n",
    "        ax = axes[i+1]\n",
    "        ax.plot(np.arange(frompt,frompt+sampler.get_log_prob()[frompt:].shape[0]),\n",
    "                samples[frompt:,good_slots, i], \"navy\", alpha=.2, lw=1,)\n",
    "        ax.plot(np.arange(frompt,frompt+sampler.get_log_prob()[frompt:].shape[0]),\n",
    "                samples[frompt:, ~good_slots, i], \"tomato\", alpha=.4, lw=1,)\n",
    "        #ax.set_xlim(0, len(samples))\n",
    "        ax.set_title(labels[i])\n",
    "        #ax.yaxis.set_label_coords(-0.1, 0.5)\n",
    "        sns.despine(ax=ax, trim=False)\n",
    "        ax.set_xlim(frompt, frompt+samples[frompt:].shape[0])\n",
    "        \n",
    "\n",
    "    axes[-1].set_xlabel(\"step number\");\n",
    "\n",
    "plot_chain(0,axes[:,0])\n",
    "plot_chain(3*samples.shape[0]//4,axes[:,1])\n",
    "fig.tight_layout()\n",
    "\n",
    "plt.savefig(f\"{run_id}_chains.pdf\")"
   ]
  },
  {
   "cell_type": "code",
   "execution_count": null,
   "id": "cc618142",
   "metadata": {},
   "outputs": [],
   "source": [
    "good_samples =  sampler.get_chain()[:,good_slots,:]\n",
    "good_samples.shape"
   ]
  },
  {
   "cell_type": "code",
   "execution_count": null,
   "id": "4d76d326",
   "metadata": {},
   "outputs": [],
   "source": [
    "step_number = -1\n",
    "exported_samples = np.empty((nsamples,ndim))\n",
    "for i in range(nsamples):\n",
    "    exported_samples[i,:] = good_samples[step_number - nthin*(i//(good_slots.sum())) ,i%(good_slots.sum()),:] # parentesis around i//(good_slots.sum() are very important"
   ]
  },
  {
   "cell_type": "code",
   "execution_count": null,
   "id": "19e23f83",
   "metadata": {},
   "outputs": [],
   "source": [
    "position_arguments = [snpi_df_ref, ndim, statistics, fitted_params, gt, hnpi_df_ref, modinf, p_draw, unique_strings, transition_array, proportion_array, proportion_info, initial_conditions, seeding_data, seeding_amounts,outcomes_parameters, True]\n",
    "\n",
    "with Pool(ncpu) as pool:\n",
    "    results = pool.starmap(log_prob, [(sample, *position_arguments) for sample in exported_samples])"
   ]
  },
  {
   "cell_type": "code",
   "execution_count": null,
   "id": "56f1cace",
   "metadata": {},
   "outputs": [],
   "source": [
    "np.mean(sampler.get_log_prob()[-1,:])"
   ]
  },
  {
   "cell_type": "code",
   "execution_count": null,
   "id": "c74c094e",
   "metadata": {},
   "outputs": [],
   "source": [
    "#import concurrent.futures\n",
    "#\n",
    "def evaluate(proposals, k):\n",
    "    proposal = proposals[k]\n",
    "    snpi_df_mod, hnpi_df_mod = input_proposal(proposal, snpi_df_ref, hnpi_df_ref, fitted_params, ndim)\n",
    "\n",
    "    outcomes_df = run_simulation(snpi_df_mod, \n",
    "                                hnpi_df_mod,\n",
    "                                modinf, p_draw, unique_strings, transition_array, proportion_array, proportion_info, initial_conditions, seeding_data, seeding_amounts,outcomes_parameters)\n",
    "    return outcomes_df\n",
    "#\n",
    "#with concurrent.futures.ThreadPoolExecutor(max_workers=nwalkers) as executor:\n",
    "#    # Map the function to the list of k values in parallel\n",
    "#    results = list(executor.map(lambda k_val: evaluate(samples[-1,:,:], k_val), np.arange(nwalkers)))\n",
    "#\n",
    "\n",
    "results = []\n",
    "for k in range(nwalkers):\n",
    "    results.append(evaluate(samples[-1,:,:], k))"
   ]
  },
  {
   "cell_type": "code",
   "execution_count": null,
   "id": "6a4365d4",
   "metadata": {},
   "outputs": [],
   "source": [
    "results"
   ]
  },
  {
   "cell_type": "code",
   "execution_count": null,
   "id": "64faaab9",
   "metadata": {},
   "outputs": [],
   "source": []
  },
  {
   "cell_type": "code",
   "execution_count": null,
   "id": "3fc5b356",
   "metadata": {},
   "outputs": [],
   "source": [
    "results = []\n",
    "for fn in gempyor.utils.list_filenames(folder=\"model_output/\", filters=[run_id,\"hosp.parquet\"]):\n",
    "    if \"000000000\" not in fn:\n",
    "        df = gempyor.read_df(fn)\n",
    "        #raise ValueError\n",
    "        df[\"date\"] = df[\"time\"]\n",
    "        df = df.set_index(\"date\")\n",
    "        results.append(df)"
   ]
  },
  {
   "cell_type": "code",
   "execution_count": null,
   "id": "eac4dc7b",
   "metadata": {},
   "outputs": [],
   "source": [
    "results[0].index.max()"
   ]
  },
  {
   "cell_type": "code",
   "execution_count": null,
   "id": "f05d7f89",
   "metadata": {},
   "outputs": [],
   "source": [
    "fig, axes = plt.subplots(len(statistics),len(subpop_names), figsize=(5*len(subpop_names), 3*len(statistics)), sharex=True, dpi=300)\n",
    "for j, subpop in enumerate(modinf.subpop_struct.subpop_names):\n",
    "        gt_s = gt[gt[\"subpop\"]==subpop].sort_index()\n",
    "        first_date = max(gt_s.index.min(),results[0].index.min())\n",
    "        last_date = min(gt_s.index.max(), results[0].index.max())\n",
    "        gt_s = gt_s.loc[first_date:last_date].drop([\"subpop\"],axis=1).resample(\"W-SAT\").sum()\n",
    "        \n",
    "        for i, (key, value) in enumerate(statistics.items()):\n",
    "                ax = axes[i,j]\n",
    "                ax.plot(gt_s[value], color='k', marker='.', lw=1)\n",
    "                for model_df in results:\n",
    "                        model_df_s = model_df[model_df[\"subpop\"]==subpop].drop([\"subpop\",\"time\"],axis=1).loc[first_date:last_date].resample(\"W-SAT\").sum() # todo sub subpop here\n",
    "                        ax.plot(model_df_s[key],  lw=.9, alpha=.5)\n",
    "                #if True:\n",
    "                #        init_df_s = outcomes_df_ref[model_df[\"subpop\"]==subpop].drop([\"subpop\",\"time\"],axis=1).loc[min(gt_s.index):max(gt_s.index)].resample(\"W-SAT\").sum() # todo sub subpop here\n",
    "                ax.set_title(f\"{value}, {subpop}\")\n",
    "fig.tight_layout()\n",
    "plt.savefig(f\"{run_id}_results.pdf\")"
   ]
  },
  {
   "cell_type": "code",
   "execution_count": null,
   "id": "1011418b",
   "metadata": {},
   "outputs": [],
   "source": [
    "gt_s.isna().sum()"
   ]
  },
  {
   "cell_type": "code",
   "execution_count": null,
   "id": "24b56899",
   "metadata": {},
   "outputs": [],
   "source": [
    "gt_s.plot(subplots=True)"
   ]
  },
  {
   "cell_type": "code",
   "execution_count": null,
   "id": "5a8ec5a3",
   "metadata": {},
   "outputs": [],
   "source": [
    "gt_s[\"incidH_65_100\"]"
   ]
  },
  {
   "cell_type": "code",
   "execution_count": null,
   "id": "bd11696b",
   "metadata": {},
   "outputs": [],
   "source": [
    "gt_s"
   ]
  },
  {
   "cell_type": "code",
   "execution_count": null,
   "id": "7e62ef8b",
   "metadata": {},
   "outputs": [],
   "source": [
    "emcee.__version__"
   ]
  },
  {
   "cell_type": "code",
   "execution_count": null,
   "id": "18b43982",
   "metadata": {},
   "outputs": [],
   "source": [
    "import corner"
   ]
  },
  {
   "cell_type": "code",
   "execution_count": null,
   "id": "a6ba2f65",
   "metadata": {},
   "outputs": [],
   "source": [
    "#tau = sampler.get_autocorr_time()\n",
    "#print(tau)\n",
    "\n",
    "flat_samples = sampler.get_chain(discard=30, thin=2,flat=True) #discard=100, thin=15, \n",
    "print(flat_samples.shape)\n",
    "\n",
    "import corner\n",
    "\n",
    "fig = corner.corner(\n",
    "    flat_samples, labels=labels, #truths=[m_true, b_true, np.log(f_true)]\n",
    ");"
   ]
  },
  {
   "cell_type": "code",
   "execution_count": null,
   "id": "7f167543",
   "metadata": {},
   "outputs": [],
   "source": []
  }
 ],
 "metadata": {
  "kernelspec": {
   "display_name": "base",
   "language": "python",
   "name": "python3"
  },
  "language_info": {
   "codemirror_mode": {
    "name": "ipython",
    "version": 3
   },
   "file_extension": ".py",
   "mimetype": "text/x-python",
   "name": "python",
   "nbconvert_exporter": "python",
   "pygments_lexer": "ipython3",
   "version": "3.11.5"
  }
 },
 "nbformat": 4,
 "nbformat_minor": 5
}
